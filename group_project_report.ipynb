{
 "cells": [
  {
   "cell_type": "markdown",
   "metadata": {},
   "source": [
    "# Predicting Attendance to a Test Preparation Course Based on Candidates' Scores"
   ]
  },
  {
   "cell_type": "markdown",
   "metadata": {},
   "source": [
    "## Introduction "
   ]
  },
  {
   "cell_type": "markdown",
   "metadata": {},
   "source": [
    "Test preparation courses are a form of shadow education, which is referred to as \"educational activities, such as tutoring and extra classes,\n",
    "occurring outside of the formal channels of an educational system\" (Buchmann et al., 436) and are used with the intention of increasing students' chances of success in high school courses and gaining admission into the post-secondary institute of their choice. A few companies offering these courses are confident their services are effective, and go as far as to offer a return of clients' money if a high score is not achieved (Buchmann et al., 440). \n",
    "\n",
    "Predictive Question: Can we use the exam scores of students to predict whether they attended a test preparation course?\n",
    "\n",
    "The `all_exams.csv` data set is used to determine whether a student took a test prep course. Their exam scores from math, reading, and writing (**Note that when we start Performing KNN Classification we only used math and reading exam scores as our predictors because more then that was causing the kernal to die and analysis to be slow**)  would identify if they attended a test prep course. The data set also contains information about high school students from the US, and includes the students’ gender, race/ethnicity, parental level of education, and lunch access. The size of the sample was increased to 1200 by combining the downloaded data, since the data is generated spontaneously. By doing this, we expect our model to have a higher accuracy because it will be able to gain familiarity with more data examples."
   ]
  },
  {
   "cell_type": "markdown",
   "metadata": {},
   "source": [
    "## Methods"
   ]
  },
  {
   "cell_type": "code",
   "execution_count": 48,
   "metadata": {},
   "outputs": [],
   "source": [
    "library(tidyverse)\n",
    "library(tidymodels)\n",
    "library(RColorBrewer)\n",
    "library(GGally)"
   ]
  },
  {
   "cell_type": "markdown",
   "metadata": {},
   "source": [
    "### Loading the Data"
   ]
  },
  {
   "cell_type": "markdown",
   "metadata": {},
   "source": [
    "**Table 1** **Raw Data Drame**"
   ]
  },
  {
   "cell_type": "code",
   "execution_count": 49,
   "metadata": {},
   "outputs": [
    {
     "name": "stderr",
     "output_type": "stream",
     "text": [
      "Warning message:\n",
      "“Missing column names filled in: 'X1' [1]”\n",
      "Parsed with column specification:\n",
      "cols(\n",
      "  X1 = \u001b[32mcol_double()\u001b[39m,\n",
      "  gender = \u001b[31mcol_character()\u001b[39m,\n",
      "  `race/ethnicity` = \u001b[31mcol_character()\u001b[39m,\n",
      "  `parental level of education` = \u001b[31mcol_character()\u001b[39m,\n",
      "  lunch = \u001b[31mcol_character()\u001b[39m,\n",
      "  `test preparation course` = \u001b[31mcol_character()\u001b[39m,\n",
      "  `math score` = \u001b[32mcol_double()\u001b[39m,\n",
      "  `reading score` = \u001b[32mcol_double()\u001b[39m,\n",
      "  `writing score` = \u001b[32mcol_double()\u001b[39m\n",
      ")\n",
      "\n"
     ]
    },
    {
     "data": {
      "text/html": [
       "<table>\n",
       "<caption>A spec_tbl_df: 1200 × 9</caption>\n",
       "<thead>\n",
       "\t<tr><th scope=col>X1</th><th scope=col>gender</th><th scope=col>race/ethnicity</th><th scope=col>parental level of education</th><th scope=col>lunch</th><th scope=col>test preparation course</th><th scope=col>math score</th><th scope=col>reading score</th><th scope=col>writing score</th></tr>\n",
       "\t<tr><th scope=col>&lt;dbl&gt;</th><th scope=col>&lt;chr&gt;</th><th scope=col>&lt;chr&gt;</th><th scope=col>&lt;chr&gt;</th><th scope=col>&lt;chr&gt;</th><th scope=col>&lt;chr&gt;</th><th scope=col>&lt;dbl&gt;</th><th scope=col>&lt;dbl&gt;</th><th scope=col>&lt;dbl&gt;</th></tr>\n",
       "</thead>\n",
       "<tbody>\n",
       "\t<tr><td>1</td><td>male  </td><td>group D</td><td>some college      </td><td>standard    </td><td>none     </td><td>69</td><td>63</td><td>62</td></tr>\n",
       "\t<tr><td>2</td><td>female</td><td>group E</td><td>bachelor's degree </td><td>free/reduced</td><td>completed</td><td>65</td><td>78</td><td>80</td></tr>\n",
       "\t<tr><td>3</td><td>female</td><td>group C</td><td>some high school  </td><td>standard    </td><td>none     </td><td>57</td><td>56</td><td>59</td></tr>\n",
       "\t<tr><td>4</td><td>female</td><td>group D</td><td>associate's degree</td><td>free/reduced</td><td>none     </td><td>62</td><td>73</td><td>71</td></tr>\n",
       "\t<tr><td>5</td><td>male  </td><td>group C</td><td>some college      </td><td>free/reduced</td><td>none     </td><td>46</td><td>52</td><td>46</td></tr>\n",
       "\t<tr><td>⋮</td><td>⋮</td><td>⋮</td><td>⋮</td><td>⋮</td><td>⋮</td><td>⋮</td><td>⋮</td><td>⋮</td></tr>\n",
       "\t<tr><td>1196</td><td>male  </td><td>group C</td><td>associate's degree</td><td>standard    </td><td>completed</td><td>65</td><td>63</td><td>62</td></tr>\n",
       "\t<tr><td>1197</td><td>female</td><td>group C</td><td>some high school  </td><td>standard    </td><td>none     </td><td>69</td><td>74</td><td>68</td></tr>\n",
       "\t<tr><td>1198</td><td>female</td><td>group D</td><td>some college      </td><td>free/reduced</td><td>none     </td><td>43</td><td>48</td><td>45</td></tr>\n",
       "\t<tr><td>1199</td><td>female</td><td>group B</td><td>some college      </td><td>standard    </td><td>none     </td><td>51</td><td>51</td><td>57</td></tr>\n",
       "\t<tr><td>1200</td><td>female</td><td>group B</td><td>some college      </td><td>standard    </td><td>completed</td><td>73</td><td>81</td><td>90</td></tr>\n",
       "</tbody>\n",
       "</table>\n"
      ],
      "text/latex": [
       "A spec\\_tbl\\_df: 1200 × 9\n",
       "\\begin{tabular}{lllllllll}\n",
       " X1 & gender & race/ethnicity & parental level of education & lunch & test preparation course & math score & reading score & writing score\\\\\n",
       " <dbl> & <chr> & <chr> & <chr> & <chr> & <chr> & <dbl> & <dbl> & <dbl>\\\\\n",
       "\\hline\n",
       "\t 1 & male   & group D & some college       & standard     & none      & 69 & 63 & 62\\\\\n",
       "\t 2 & female & group E & bachelor's degree  & free/reduced & completed & 65 & 78 & 80\\\\\n",
       "\t 3 & female & group C & some high school   & standard     & none      & 57 & 56 & 59\\\\\n",
       "\t 4 & female & group D & associate's degree & free/reduced & none      & 62 & 73 & 71\\\\\n",
       "\t 5 & male   & group C & some college       & free/reduced & none      & 46 & 52 & 46\\\\\n",
       "\t ⋮ & ⋮ & ⋮ & ⋮ & ⋮ & ⋮ & ⋮ & ⋮ & ⋮\\\\\n",
       "\t 1196 & male   & group C & associate's degree & standard     & completed & 65 & 63 & 62\\\\\n",
       "\t 1197 & female & group C & some high school   & standard     & none      & 69 & 74 & 68\\\\\n",
       "\t 1198 & female & group D & some college       & free/reduced & none      & 43 & 48 & 45\\\\\n",
       "\t 1199 & female & group B & some college       & standard     & none      & 51 & 51 & 57\\\\\n",
       "\t 1200 & female & group B & some college       & standard     & completed & 73 & 81 & 90\\\\\n",
       "\\end{tabular}\n"
      ],
      "text/markdown": [
       "\n",
       "A spec_tbl_df: 1200 × 9\n",
       "\n",
       "| X1 &lt;dbl&gt; | gender &lt;chr&gt; | race/ethnicity &lt;chr&gt; | parental level of education &lt;chr&gt; | lunch &lt;chr&gt; | test preparation course &lt;chr&gt; | math score &lt;dbl&gt; | reading score &lt;dbl&gt; | writing score &lt;dbl&gt; |\n",
       "|---|---|---|---|---|---|---|---|---|\n",
       "| 1 | male   | group D | some college       | standard     | none      | 69 | 63 | 62 |\n",
       "| 2 | female | group E | bachelor's degree  | free/reduced | completed | 65 | 78 | 80 |\n",
       "| 3 | female | group C | some high school   | standard     | none      | 57 | 56 | 59 |\n",
       "| 4 | female | group D | associate's degree | free/reduced | none      | 62 | 73 | 71 |\n",
       "| 5 | male   | group C | some college       | free/reduced | none      | 46 | 52 | 46 |\n",
       "| ⋮ | ⋮ | ⋮ | ⋮ | ⋮ | ⋮ | ⋮ | ⋮ | ⋮ |\n",
       "| 1196 | male   | group C | associate's degree | standard     | completed | 65 | 63 | 62 |\n",
       "| 1197 | female | group C | some high school   | standard     | none      | 69 | 74 | 68 |\n",
       "| 1198 | female | group D | some college       | free/reduced | none      | 43 | 48 | 45 |\n",
       "| 1199 | female | group B | some college       | standard     | none      | 51 | 51 | 57 |\n",
       "| 1200 | female | group B | some college       | standard     | completed | 73 | 81 | 90 |\n",
       "\n"
      ],
      "text/plain": [
       "     X1   gender race/ethnicity parental level of education lunch       \n",
       "1    1    male   group D        some college                standard    \n",
       "2    2    female group E        bachelor's degree           free/reduced\n",
       "3    3    female group C        some high school            standard    \n",
       "4    4    female group D        associate's degree          free/reduced\n",
       "5    5    male   group C        some college                free/reduced\n",
       "⋮    ⋮    ⋮      ⋮              ⋮                           ⋮           \n",
       "1196 1196 male   group C        associate's degree          standard    \n",
       "1197 1197 female group C        some high school            standard    \n",
       "1198 1198 female group D        some college                free/reduced\n",
       "1199 1199 female group B        some college                standard    \n",
       "1200 1200 female group B        some college                standard    \n",
       "     test preparation course math score reading score writing score\n",
       "1    none                    69         63            62           \n",
       "2    completed               65         78            80           \n",
       "3    none                    57         56            59           \n",
       "4    none                    62         73            71           \n",
       "5    none                    46         52            46           \n",
       "⋮    ⋮                       ⋮          ⋮             ⋮            \n",
       "1196 completed               65         63            62           \n",
       "1197 none                    69         74            68           \n",
       "1198 none                    43         48            45           \n",
       "1199 none                    51         51            57           \n",
       "1200 completed               73         81            90           "
      ]
     },
     "metadata": {},
     "output_type": "display_data"
    }
   ],
   "source": [
    "options(repr.matrix.max.rows = 10)\n",
    "all_exams<-read_csv(\"https://raw.githubusercontent.com/SopTes27/group26_project/main/GP_data/all_exams.csv\")\n",
    "all_exams"
   ]
  },
  {
   "cell_type": "markdown",
   "metadata": {},
   "source": [
    "### Wrangling and Cleaning the Data"
   ]
  },
  {
   "cell_type": "markdown",
   "metadata": {},
   "source": [
    "**Table 2** **Tidy Data I**"
   ]
  },
  {
   "cell_type": "markdown",
   "metadata": {},
   "source": [
    "We remove the X1 column that will not be used in our model from the original data set. Then, we make the gender, race/ethnicity, parental level of education, lunch, and test preparation course columns as category data types."
   ]
  },
  {
   "cell_type": "code",
   "execution_count": 50,
   "metadata": {},
   "outputs": [
    {
     "data": {
      "text/html": [
       "<table>\n",
       "<caption>A tibble: 1200 × 8</caption>\n",
       "<thead>\n",
       "\t<tr><th scope=col>gender</th><th scope=col>race_ethnicity</th><th scope=col>parental_level_of_education</th><th scope=col>lunch</th><th scope=col>test_preparation_course</th><th scope=col>math_score</th><th scope=col>reading_score</th><th scope=col>writing_score</th></tr>\n",
       "\t<tr><th scope=col>&lt;fct&gt;</th><th scope=col>&lt;fct&gt;</th><th scope=col>&lt;fct&gt;</th><th scope=col>&lt;fct&gt;</th><th scope=col>&lt;fct&gt;</th><th scope=col>&lt;dbl&gt;</th><th scope=col>&lt;dbl&gt;</th><th scope=col>&lt;dbl&gt;</th></tr>\n",
       "</thead>\n",
       "<tbody>\n",
       "\t<tr><td>male  </td><td>group D</td><td>some college      </td><td>standard    </td><td>none     </td><td>69</td><td>63</td><td>62</td></tr>\n",
       "\t<tr><td>female</td><td>group E</td><td>bachelor's degree </td><td>free/reduced</td><td>completed</td><td>65</td><td>78</td><td>80</td></tr>\n",
       "\t<tr><td>female</td><td>group C</td><td>some high school  </td><td>standard    </td><td>none     </td><td>57</td><td>56</td><td>59</td></tr>\n",
       "\t<tr><td>female</td><td>group D</td><td>associate's degree</td><td>free/reduced</td><td>none     </td><td>62</td><td>73</td><td>71</td></tr>\n",
       "\t<tr><td>male  </td><td>group C</td><td>some college      </td><td>free/reduced</td><td>none     </td><td>46</td><td>52</td><td>46</td></tr>\n",
       "\t<tr><td>⋮</td><td>⋮</td><td>⋮</td><td>⋮</td><td>⋮</td><td>⋮</td><td>⋮</td><td>⋮</td></tr>\n",
       "\t<tr><td>male  </td><td>group C</td><td>associate's degree</td><td>standard    </td><td>completed</td><td>65</td><td>63</td><td>62</td></tr>\n",
       "\t<tr><td>female</td><td>group C</td><td>some high school  </td><td>standard    </td><td>none     </td><td>69</td><td>74</td><td>68</td></tr>\n",
       "\t<tr><td>female</td><td>group D</td><td>some college      </td><td>free/reduced</td><td>none     </td><td>43</td><td>48</td><td>45</td></tr>\n",
       "\t<tr><td>female</td><td>group B</td><td>some college      </td><td>standard    </td><td>none     </td><td>51</td><td>51</td><td>57</td></tr>\n",
       "\t<tr><td>female</td><td>group B</td><td>some college      </td><td>standard    </td><td>completed</td><td>73</td><td>81</td><td>90</td></tr>\n",
       "</tbody>\n",
       "</table>\n"
      ],
      "text/latex": [
       "A tibble: 1200 × 8\n",
       "\\begin{tabular}{llllllll}\n",
       " gender & race\\_ethnicity & parental\\_level\\_of\\_education & lunch & test\\_preparation\\_course & math\\_score & reading\\_score & writing\\_score\\\\\n",
       " <fct> & <fct> & <fct> & <fct> & <fct> & <dbl> & <dbl> & <dbl>\\\\\n",
       "\\hline\n",
       "\t male   & group D & some college       & standard     & none      & 69 & 63 & 62\\\\\n",
       "\t female & group E & bachelor's degree  & free/reduced & completed & 65 & 78 & 80\\\\\n",
       "\t female & group C & some high school   & standard     & none      & 57 & 56 & 59\\\\\n",
       "\t female & group D & associate's degree & free/reduced & none      & 62 & 73 & 71\\\\\n",
       "\t male   & group C & some college       & free/reduced & none      & 46 & 52 & 46\\\\\n",
       "\t ⋮ & ⋮ & ⋮ & ⋮ & ⋮ & ⋮ & ⋮ & ⋮\\\\\n",
       "\t male   & group C & associate's degree & standard     & completed & 65 & 63 & 62\\\\\n",
       "\t female & group C & some high school   & standard     & none      & 69 & 74 & 68\\\\\n",
       "\t female & group D & some college       & free/reduced & none      & 43 & 48 & 45\\\\\n",
       "\t female & group B & some college       & standard     & none      & 51 & 51 & 57\\\\\n",
       "\t female & group B & some college       & standard     & completed & 73 & 81 & 90\\\\\n",
       "\\end{tabular}\n"
      ],
      "text/markdown": [
       "\n",
       "A tibble: 1200 × 8\n",
       "\n",
       "| gender &lt;fct&gt; | race_ethnicity &lt;fct&gt; | parental_level_of_education &lt;fct&gt; | lunch &lt;fct&gt; | test_preparation_course &lt;fct&gt; | math_score &lt;dbl&gt; | reading_score &lt;dbl&gt; | writing_score &lt;dbl&gt; |\n",
       "|---|---|---|---|---|---|---|---|\n",
       "| male   | group D | some college       | standard     | none      | 69 | 63 | 62 |\n",
       "| female | group E | bachelor's degree  | free/reduced | completed | 65 | 78 | 80 |\n",
       "| female | group C | some high school   | standard     | none      | 57 | 56 | 59 |\n",
       "| female | group D | associate's degree | free/reduced | none      | 62 | 73 | 71 |\n",
       "| male   | group C | some college       | free/reduced | none      | 46 | 52 | 46 |\n",
       "| ⋮ | ⋮ | ⋮ | ⋮ | ⋮ | ⋮ | ⋮ | ⋮ |\n",
       "| male   | group C | associate's degree | standard     | completed | 65 | 63 | 62 |\n",
       "| female | group C | some high school   | standard     | none      | 69 | 74 | 68 |\n",
       "| female | group D | some college       | free/reduced | none      | 43 | 48 | 45 |\n",
       "| female | group B | some college       | standard     | none      | 51 | 51 | 57 |\n",
       "| female | group B | some college       | standard     | completed | 73 | 81 | 90 |\n",
       "\n"
      ],
      "text/plain": [
       "     gender race_ethnicity parental_level_of_education lunch       \n",
       "1    male   group D        some college                standard    \n",
       "2    female group E        bachelor's degree           free/reduced\n",
       "3    female group C        some high school            standard    \n",
       "4    female group D        associate's degree          free/reduced\n",
       "5    male   group C        some college                free/reduced\n",
       "⋮    ⋮      ⋮              ⋮                           ⋮           \n",
       "1196 male   group C        associate's degree          standard    \n",
       "1197 female group C        some high school            standard    \n",
       "1198 female group D        some college                free/reduced\n",
       "1199 female group B        some college                standard    \n",
       "1200 female group B        some college                standard    \n",
       "     test_preparation_course math_score reading_score writing_score\n",
       "1    none                    69         63            62           \n",
       "2    completed               65         78            80           \n",
       "3    none                    57         56            59           \n",
       "4    none                    62         73            71           \n",
       "5    none                    46         52            46           \n",
       "⋮    ⋮                       ⋮          ⋮             ⋮            \n",
       "1196 completed               65         63            62           \n",
       "1197 none                    69         74            68           \n",
       "1198 none                    43         48            45           \n",
       "1199 none                    51         51            57           \n",
       "1200 completed               73         81            90           "
      ]
     },
     "metadata": {},
     "output_type": "display_data"
    }
   ],
   "source": [
    "colnames(all_exams)<-c(\"X1\", \"gender\", \"race_ethnicity\", \"parental_level_of_education\",\n",
    "\"lunch\", \"test_preparation_course\", \"math_score\", \"reading_score\", \"writing_score\")\n",
    "\n",
    "tidying_data <-select(all_exams, gender:writing_score)%>%\n",
    "    mutate(across(gender:test_preparation_course, as.factor))\n",
    "tidying_data"
   ]
  },
  {
   "cell_type": "markdown",
   "metadata": {},
   "source": [
    "Use `tidying_data` dataset created in the previous step, create a new column in the dataset called `avg_grade` by grouping the test_preparation_course, math_score, reading_score, and writing_score and calculating the average grade. The new dataset created is named `exams_data`. The new average grade column represents the mean of students' combined math, reading, and writing scores. The average grade will be used as a predictor in the data analysis performed later on. "
   ]
  },
  {
   "cell_type": "markdown",
   "metadata": {},
   "source": [
    "**Table 3** **Tidy Data II**"
   ]
  },
  {
   "cell_type": "code",
   "execution_count": 51,
   "metadata": {},
   "outputs": [
    {
     "data": {
      "text/html": [
       "<table>\n",
       "<caption>A rowwise_df: 1200 × 5</caption>\n",
       "<thead>\n",
       "\t<tr><th scope=col>test_preparation_course</th><th scope=col>math_score</th><th scope=col>reading_score</th><th scope=col>writing_score</th><th scope=col>avg_grade</th></tr>\n",
       "\t<tr><th scope=col>&lt;fct&gt;</th><th scope=col>&lt;dbl&gt;</th><th scope=col>&lt;dbl&gt;</th><th scope=col>&lt;dbl&gt;</th><th scope=col>&lt;dbl&gt;</th></tr>\n",
       "</thead>\n",
       "<tbody>\n",
       "\t<tr><td>none     </td><td>69</td><td>63</td><td>62</td><td>65.5</td></tr>\n",
       "\t<tr><td>completed</td><td>65</td><td>78</td><td>80</td><td>72.5</td></tr>\n",
       "\t<tr><td>none     </td><td>57</td><td>56</td><td>59</td><td>58.0</td></tr>\n",
       "\t<tr><td>none     </td><td>62</td><td>73</td><td>71</td><td>66.5</td></tr>\n",
       "\t<tr><td>none     </td><td>46</td><td>52</td><td>46</td><td>46.0</td></tr>\n",
       "\t<tr><td>⋮</td><td>⋮</td><td>⋮</td><td>⋮</td><td>⋮</td></tr>\n",
       "\t<tr><td>completed</td><td>65</td><td>63</td><td>62</td><td>63.5</td></tr>\n",
       "\t<tr><td>none     </td><td>69</td><td>74</td><td>68</td><td>68.5</td></tr>\n",
       "\t<tr><td>none     </td><td>43</td><td>48</td><td>45</td><td>44.0</td></tr>\n",
       "\t<tr><td>none     </td><td>51</td><td>51</td><td>57</td><td>54.0</td></tr>\n",
       "\t<tr><td>completed</td><td>73</td><td>81</td><td>90</td><td>81.5</td></tr>\n",
       "</tbody>\n",
       "</table>\n"
      ],
      "text/latex": [
       "A rowwise\\_df: 1200 × 5\n",
       "\\begin{tabular}{lllll}\n",
       " test\\_preparation\\_course & math\\_score & reading\\_score & writing\\_score & avg\\_grade\\\\\n",
       " <fct> & <dbl> & <dbl> & <dbl> & <dbl>\\\\\n",
       "\\hline\n",
       "\t none      & 69 & 63 & 62 & 65.5\\\\\n",
       "\t completed & 65 & 78 & 80 & 72.5\\\\\n",
       "\t none      & 57 & 56 & 59 & 58.0\\\\\n",
       "\t none      & 62 & 73 & 71 & 66.5\\\\\n",
       "\t none      & 46 & 52 & 46 & 46.0\\\\\n",
       "\t ⋮ & ⋮ & ⋮ & ⋮ & ⋮\\\\\n",
       "\t completed & 65 & 63 & 62 & 63.5\\\\\n",
       "\t none      & 69 & 74 & 68 & 68.5\\\\\n",
       "\t none      & 43 & 48 & 45 & 44.0\\\\\n",
       "\t none      & 51 & 51 & 57 & 54.0\\\\\n",
       "\t completed & 73 & 81 & 90 & 81.5\\\\\n",
       "\\end{tabular}\n"
      ],
      "text/markdown": [
       "\n",
       "A rowwise_df: 1200 × 5\n",
       "\n",
       "| test_preparation_course &lt;fct&gt; | math_score &lt;dbl&gt; | reading_score &lt;dbl&gt; | writing_score &lt;dbl&gt; | avg_grade &lt;dbl&gt; |\n",
       "|---|---|---|---|---|\n",
       "| none      | 69 | 63 | 62 | 65.5 |\n",
       "| completed | 65 | 78 | 80 | 72.5 |\n",
       "| none      | 57 | 56 | 59 | 58.0 |\n",
       "| none      | 62 | 73 | 71 | 66.5 |\n",
       "| none      | 46 | 52 | 46 | 46.0 |\n",
       "| ⋮ | ⋮ | ⋮ | ⋮ | ⋮ |\n",
       "| completed | 65 | 63 | 62 | 63.5 |\n",
       "| none      | 69 | 74 | 68 | 68.5 |\n",
       "| none      | 43 | 48 | 45 | 44.0 |\n",
       "| none      | 51 | 51 | 57 | 54.0 |\n",
       "| completed | 73 | 81 | 90 | 81.5 |\n",
       "\n"
      ],
      "text/plain": [
       "     test_preparation_course math_score reading_score writing_score avg_grade\n",
       "1    none                    69         63            62            65.5     \n",
       "2    completed               65         78            80            72.5     \n",
       "3    none                    57         56            59            58.0     \n",
       "4    none                    62         73            71            66.5     \n",
       "5    none                    46         52            46            46.0     \n",
       "⋮    ⋮                       ⋮          ⋮             ⋮             ⋮        \n",
       "1196 completed               65         63            62            63.5     \n",
       "1197 none                    69         74            68            68.5     \n",
       "1198 none                    43         48            45            44.0     \n",
       "1199 none                    51         51            57            54.0     \n",
       "1200 completed               73         81            90            81.5     "
      ]
     },
     "metadata": {},
     "output_type": "display_data"
    }
   ],
   "source": [
    "exams_data<-tidying_data %>%\n",
    "    rowwise(math_score:writing_score)%>%\n",
    "    mutate(avg_grade=mean(math_score:writing_score))%>%\n",
    "    select(test_preparation_course, math_score, reading_score, writing_score, avg_grade)\n",
    "exams_data"
   ]
  },
  {
   "cell_type": "markdown",
   "metadata": {},
   "source": [
    "The `exams_data` dataset is split into a training set and a testing set. The training set will contain 75% of the dataset, and be named `exam_train`. The testing set will contain 25% of the data from `exams_data`, and will be named `exam_test`. The seed is also set to 2021."
   ]
  },
  {
   "cell_type": "code",
   "execution_count": 52,
   "metadata": {},
   "outputs": [
    {
     "name": "stdout",
     "output_type": "stream",
     "text": [
      "Rows: 901\n",
      "Columns: 5\n",
      "Rowwise: math_score, reading_score, writing_score\n",
      "$ test_preparation_course \u001b[3m\u001b[90m<fct>\u001b[39m\u001b[23m none, completed, none, none, none, none, none…\n",
      "$ math_score              \u001b[3m\u001b[90m<dbl>\u001b[39m\u001b[23m 69, 65, 57, 62, 46, 39, 78, 57, 80, 85, 79, 5…\n",
      "$ reading_score           \u001b[3m\u001b[90m<dbl>\u001b[39m\u001b[23m 63, 78, 56, 73, 52, 35, 90, 62, 86, 86, 75, 4…\n",
      "$ writing_score           \u001b[3m\u001b[90m<dbl>\u001b[39m\u001b[23m 62, 80, 59, 71, 46, 28, 84, 54, 91, 84, 71, 3…\n",
      "$ avg_grade               \u001b[3m\u001b[90m<dbl>\u001b[39m\u001b[23m 65.5, 72.5, 58.0, 66.5, 46.0, 33.5, 81.0, 55.…\n"
     ]
    }
   ],
   "source": [
    "set.seed(2021)\n",
    "\n",
    "data_split <- initial_split(exams_data, prop = 0.75, strata = test_preparation_course)\n",
    "exam_train <- training(data_split)\n",
    "exam_test <- testing(data_split)\n",
    "\n",
    "glimpse(exam_train)"
   ]
  },
  {
   "cell_type": "markdown",
   "metadata": {},
   "source": [
    "### Exploratory Data Analysis - Creating a Summary and Visualization of the `exams_data` Dataset"
   ]
  },
  {
   "cell_type": "markdown",
   "metadata": {},
   "source": [
    "First, the training and testing datasets were examined for any missing values. "
   ]
  },
  {
   "cell_type": "code",
   "execution_count": 53,
   "metadata": {},
   "outputs": [
    {
     "data": {
      "text/html": [
       "0"
      ],
      "text/latex": [
       "0"
      ],
      "text/markdown": [
       "0"
      ],
      "text/plain": [
       "[1] 0"
      ]
     },
     "metadata": {},
     "output_type": "display_data"
    }
   ],
   "source": [
    "sum(is.na(exam_train))"
   ]
  },
  {
   "cell_type": "code",
   "execution_count": 54,
   "metadata": {},
   "outputs": [
    {
     "data": {
      "text/html": [
       "0"
      ],
      "text/latex": [
       "0"
      ],
      "text/markdown": [
       "0"
      ],
      "text/plain": [
       "[1] 0"
      ]
     },
     "metadata": {},
     "output_type": "display_data"
    }
   ],
   "source": [
    "sum(is.na(exam_test))"
   ]
  },
  {
   "cell_type": "markdown",
   "metadata": {},
   "source": [
    "Next, we check the number of observations in both the training and testing datasets. This is performed to determine whether there is a class imbalance present in the data before upsampling. From Table ?? and Table ?? below, we can conclude that there is a class imbalance present in the training data, because students who did not take the test preparation course were more common than those who did. "
   ]
  },
  {
   "cell_type": "markdown",
   "metadata": {},
   "source": [
    "**Table 4** **Balance Check in train data**"
   ]
  },
  {
   "cell_type": "code",
   "execution_count": 55,
   "metadata": {},
   "outputs": [
    {
     "name": "stderr",
     "output_type": "stream",
     "text": [
      "`summarise()` ungrouping output (override with `.groups` argument)\n",
      "\n"
     ]
    },
    {
     "data": {
      "text/html": [
       "<table>\n",
       "<caption>A tibble: 2 × 3</caption>\n",
       "<thead>\n",
       "\t<tr><th scope=col>test_preparation_course</th><th scope=col>count</th><th scope=col>percentage</th></tr>\n",
       "\t<tr><th scope=col>&lt;fct&gt;</th><th scope=col>&lt;int&gt;</th><th scope=col>&lt;dbl&gt;</th></tr>\n",
       "</thead>\n",
       "<tbody>\n",
       "\t<tr><td>completed</td><td>309</td><td>0.3429523</td></tr>\n",
       "\t<tr><td>none     </td><td>592</td><td>0.6570477</td></tr>\n",
       "</tbody>\n",
       "</table>\n"
      ],
      "text/latex": [
       "A tibble: 2 × 3\n",
       "\\begin{tabular}{lll}\n",
       " test\\_preparation\\_course & count & percentage\\\\\n",
       " <fct> & <int> & <dbl>\\\\\n",
       "\\hline\n",
       "\t completed & 309 & 0.3429523\\\\\n",
       "\t none      & 592 & 0.6570477\\\\\n",
       "\\end{tabular}\n"
      ],
      "text/markdown": [
       "\n",
       "A tibble: 2 × 3\n",
       "\n",
       "| test_preparation_course &lt;fct&gt; | count &lt;int&gt; | percentage &lt;dbl&gt; |\n",
       "|---|---|---|\n",
       "| completed | 309 | 0.3429523 |\n",
       "| none      | 592 | 0.6570477 |\n",
       "\n"
      ],
      "text/plain": [
       "  test_preparation_course count percentage\n",
       "1 completed               309   0.3429523 \n",
       "2 none                    592   0.6570477 "
      ]
     },
     "metadata": {},
     "output_type": "display_data"
    }
   ],
   "source": [
    "num_obs_train <- nrow(exam_train)\n",
    "exam_train %>%\n",
    "  group_by(test_preparation_course) %>%\n",
    "  summarize(\n",
    "    count = n(), \n",
    "    percentage = n() / num_obs_train \n",
    "  )"
   ]
  },
  {
   "cell_type": "markdown",
   "metadata": {},
   "source": [
    "**Table 5** **Balance Check in test data**"
   ]
  },
  {
   "cell_type": "code",
   "execution_count": 56,
   "metadata": {},
   "outputs": [
    {
     "name": "stderr",
     "output_type": "stream",
     "text": [
      "`summarise()` ungrouping output (override with `.groups` argument)\n",
      "\n"
     ]
    },
    {
     "data": {
      "text/html": [
       "<table>\n",
       "<caption>A tibble: 2 × 3</caption>\n",
       "<thead>\n",
       "\t<tr><th scope=col>test_preparation_course</th><th scope=col>count</th><th scope=col>percentage</th></tr>\n",
       "\t<tr><th scope=col>&lt;fct&gt;</th><th scope=col>&lt;int&gt;</th><th scope=col>&lt;dbl&gt;</th></tr>\n",
       "</thead>\n",
       "<tbody>\n",
       "\t<tr><td>completed</td><td>102</td><td>0.1132075</td></tr>\n",
       "\t<tr><td>none     </td><td>197</td><td>0.2186459</td></tr>\n",
       "</tbody>\n",
       "</table>\n"
      ],
      "text/latex": [
       "A tibble: 2 × 3\n",
       "\\begin{tabular}{lll}\n",
       " test\\_preparation\\_course & count & percentage\\\\\n",
       " <fct> & <int> & <dbl>\\\\\n",
       "\\hline\n",
       "\t completed & 102 & 0.1132075\\\\\n",
       "\t none      & 197 & 0.2186459\\\\\n",
       "\\end{tabular}\n"
      ],
      "text/markdown": [
       "\n",
       "A tibble: 2 × 3\n",
       "\n",
       "| test_preparation_course &lt;fct&gt; | count &lt;int&gt; | percentage &lt;dbl&gt; |\n",
       "|---|---|---|\n",
       "| completed | 102 | 0.1132075 |\n",
       "| none      | 197 | 0.2186459 |\n",
       "\n"
      ],
      "text/plain": [
       "  test_preparation_course count percentage\n",
       "1 completed               102   0.1132075 \n",
       "2 none                    197   0.2186459 "
      ]
     },
     "metadata": {},
     "output_type": "display_data"
    }
   ],
   "source": [
    "num_obs_test <- nrow(exam_test)\n",
    "exam_test %>%\n",
    "    group_by(test_preparation_course)%>%\n",
    "    summarize(\n",
    "        count = n(), \n",
    "        percentage = n() / num_obs_train\n",
    "    )"
   ]
  },
  {
   "cell_type": "markdown",
   "metadata": {},
   "source": [
    "Due to the class imbalance in the training data, upsampling is conducted on only the training dataset to balance the data, as shown below."
   ]
  },
  {
   "cell_type": "markdown",
   "metadata": {},
   "source": [
    "**Table 6**"
   ]
  },
  {
   "cell_type": "code",
   "execution_count": 10,
   "metadata": {},
   "outputs": [
    {
     "name": "stderr",
     "output_type": "stream",
     "text": [
      "Warning message:\n",
      "“`step_upsample()` is deprecated as of recipes 0.1.13.\n",
      "Please use `themis::step_upsample()` instead.\n",
      "\u001b[90mThis warning is displayed once every 8 hours.\u001b[39m\n",
      "\u001b[90mCall `lifecycle::last_warnings()` to see where this warning was generated.\u001b[39m”\n"
     ]
    },
    {
     "data": {
      "text/plain": [
       "Data Recipe\n",
       "\n",
       "Inputs:\n",
       "\n",
       "      role #variables\n",
       "   outcome          1\n",
       " predictor          4\n",
       "\n",
       "Training data contained 901 data points and no missing data.\n",
       "\n",
       "Operations:\n",
       "\n",
       "Up-sampling based on test_preparation_course [trained]"
      ]
     },
     "metadata": {},
     "output_type": "display_data"
    },
    {
     "name": "stderr",
     "output_type": "stream",
     "text": [
      "`summarise()` ungrouping output (override with `.groups` argument)\n",
      "\n"
     ]
    },
    {
     "data": {
      "text/html": [
       "<table>\n",
       "<caption>A tibble: 2 × 2</caption>\n",
       "<thead>\n",
       "\t<tr><th scope=col>test_preparation_course</th><th scope=col>n</th></tr>\n",
       "\t<tr><th scope=col>&lt;fct&gt;</th><th scope=col>&lt;int&gt;</th></tr>\n",
       "</thead>\n",
       "<tbody>\n",
       "\t<tr><td>completed</td><td>592</td></tr>\n",
       "\t<tr><td>none     </td><td>592</td></tr>\n",
       "</tbody>\n",
       "</table>\n"
      ],
      "text/latex": [
       "A tibble: 2 × 2\n",
       "\\begin{tabular}{ll}\n",
       " test\\_preparation\\_course & n\\\\\n",
       " <fct> & <int>\\\\\n",
       "\\hline\n",
       "\t completed & 592\\\\\n",
       "\t none      & 592\\\\\n",
       "\\end{tabular}\n"
      ],
      "text/markdown": [
       "\n",
       "A tibble: 2 × 2\n",
       "\n",
       "| test_preparation_course &lt;fct&gt; | n &lt;int&gt; |\n",
       "|---|---|\n",
       "| completed | 592 |\n",
       "| none      | 592 |\n",
       "\n"
      ],
      "text/plain": [
       "  test_preparation_course n  \n",
       "1 completed               592\n",
       "2 none                    592"
      ]
     },
     "metadata": {},
     "output_type": "display_data"
    },
    {
     "data": {
      "text/html": [
       "<table>\n",
       "<caption>A tibble: 1184 × 5</caption>\n",
       "<thead>\n",
       "\t<tr><th scope=col>math_score</th><th scope=col>reading_score</th><th scope=col>writing_score</th><th scope=col>avg_grade</th><th scope=col>test_preparation_course</th></tr>\n",
       "\t<tr><th scope=col>&lt;dbl&gt;</th><th scope=col>&lt;dbl&gt;</th><th scope=col>&lt;dbl&gt;</th><th scope=col>&lt;dbl&gt;</th><th scope=col>&lt;fct&gt;</th></tr>\n",
       "</thead>\n",
       "<tbody>\n",
       "\t<tr><td>80</td><td>79</td><td>77</td><td>78.5</td><td>completed</td></tr>\n",
       "\t<tr><td>79</td><td>71</td><td>70</td><td>74.5</td><td>completed</td></tr>\n",
       "\t<tr><td>77</td><td>82</td><td>87</td><td>82.0</td><td>completed</td></tr>\n",
       "\t<tr><td>41</td><td>53</td><td>49</td><td>45.0</td><td>completed</td></tr>\n",
       "\t<tr><td>83</td><td>66</td><td>70</td><td>76.5</td><td>completed</td></tr>\n",
       "\t<tr><td>⋮</td><td>⋮</td><td>⋮</td><td>⋮</td><td>⋮</td></tr>\n",
       "\t<tr><td>73</td><td>70</td><td>71</td><td>72</td><td>none</td></tr>\n",
       "\t<tr><td>56</td><td>66</td><td>62</td><td>59</td><td>none</td></tr>\n",
       "\t<tr><td>58</td><td>57</td><td>58</td><td>58</td><td>none</td></tr>\n",
       "\t<tr><td>43</td><td>48</td><td>45</td><td>44</td><td>none</td></tr>\n",
       "\t<tr><td>51</td><td>51</td><td>57</td><td>54</td><td>none</td></tr>\n",
       "</tbody>\n",
       "</table>\n"
      ],
      "text/latex": [
       "A tibble: 1184 × 5\n",
       "\\begin{tabular}{lllll}\n",
       " math\\_score & reading\\_score & writing\\_score & avg\\_grade & test\\_preparation\\_course\\\\\n",
       " <dbl> & <dbl> & <dbl> & <dbl> & <fct>\\\\\n",
       "\\hline\n",
       "\t 80 & 79 & 77 & 78.5 & completed\\\\\n",
       "\t 79 & 71 & 70 & 74.5 & completed\\\\\n",
       "\t 77 & 82 & 87 & 82.0 & completed\\\\\n",
       "\t 41 & 53 & 49 & 45.0 & completed\\\\\n",
       "\t 83 & 66 & 70 & 76.5 & completed\\\\\n",
       "\t ⋮ & ⋮ & ⋮ & ⋮ & ⋮\\\\\n",
       "\t 73 & 70 & 71 & 72 & none\\\\\n",
       "\t 56 & 66 & 62 & 59 & none\\\\\n",
       "\t 58 & 57 & 58 & 58 & none\\\\\n",
       "\t 43 & 48 & 45 & 44 & none\\\\\n",
       "\t 51 & 51 & 57 & 54 & none\\\\\n",
       "\\end{tabular}\n"
      ],
      "text/markdown": [
       "\n",
       "A tibble: 1184 × 5\n",
       "\n",
       "| math_score &lt;dbl&gt; | reading_score &lt;dbl&gt; | writing_score &lt;dbl&gt; | avg_grade &lt;dbl&gt; | test_preparation_course &lt;fct&gt; |\n",
       "|---|---|---|---|---|\n",
       "| 80 | 79 | 77 | 78.5 | completed |\n",
       "| 79 | 71 | 70 | 74.5 | completed |\n",
       "| 77 | 82 | 87 | 82.0 | completed |\n",
       "| 41 | 53 | 49 | 45.0 | completed |\n",
       "| 83 | 66 | 70 | 76.5 | completed |\n",
       "| ⋮ | ⋮ | ⋮ | ⋮ | ⋮ |\n",
       "| 73 | 70 | 71 | 72 | none |\n",
       "| 56 | 66 | 62 | 59 | none |\n",
       "| 58 | 57 | 58 | 58 | none |\n",
       "| 43 | 48 | 45 | 44 | none |\n",
       "| 51 | 51 | 57 | 54 | none |\n",
       "\n"
      ],
      "text/plain": [
       "     math_score reading_score writing_score avg_grade test_preparation_course\n",
       "1    80         79            77            78.5      completed              \n",
       "2    79         71            70            74.5      completed              \n",
       "3    77         82            87            82.0      completed              \n",
       "4    41         53            49            45.0      completed              \n",
       "5    83         66            70            76.5      completed              \n",
       "⋮    ⋮          ⋮             ⋮             ⋮         ⋮                      \n",
       "1180 73         70            71            72        none                   \n",
       "1181 56         66            62            59        none                   \n",
       "1182 58         57            58            58        none                   \n",
       "1183 43         48            45            44        none                   \n",
       "1184 51         51            57            54        none                   "
      ]
     },
     "metadata": {},
     "output_type": "display_data"
    }
   ],
   "source": [
    "exam_recipe <- recipe(test_preparation_course ~ ., data = exam_train)%>% \n",
    "  step_upsample(test_preparation_course, over_ratio = 1, skip = FALSE)%>%\n",
    "  prep() \n",
    "exam_recipe\n",
    "\n",
    "upsampled_exam <- bake(exam_recipe, exam_train)\n",
    "\n",
    "upsampled_exam %>%\n",
    "  group_by(test_preparation_course) %>%\n",
    "  summarize(n = n())\n",
    "upsampled_exam"
   ]
  },
  {
   "cell_type": "markdown",
   "metadata": {},
   "source": [
    "Table 7 below summarizes the values of the predictor variables in the training set which will be used later on in our data analysis."
   ]
  },
  {
   "cell_type": "markdown",
   "metadata": {},
   "source": [
    "**Table 7** **Summarizes Data I**"
   ]
  },
  {
   "cell_type": "code",
   "execution_count": 11,
   "metadata": {},
   "outputs": [
    {
     "name": "stderr",
     "output_type": "stream",
     "text": [
      "`summarise()` ungrouping output (override with `.groups` argument)\n",
      "\n"
     ]
    },
    {
     "data": {
      "text/html": [
       "<table>\n",
       "<caption>A tibble: 2 × 5</caption>\n",
       "<thead>\n",
       "\t<tr><th scope=col>test_preparation_course</th><th scope=col>math_score_average</th><th scope=col>writing_score_average</th><th scope=col>reading_score_average</th><th scope=col>total_average_score</th></tr>\n",
       "\t<tr><th scope=col>&lt;fct&gt;</th><th scope=col>&lt;dbl&gt;</th><th scope=col>&lt;dbl&gt;</th><th scope=col>&lt;dbl&gt;</th><th scope=col>&lt;dbl&gt;</th></tr>\n",
       "</thead>\n",
       "<tbody>\n",
       "\t<tr><td>completed</td><td>70.89644</td><td>75.24272</td><td>74.23301</td><td>73.06958</td></tr>\n",
       "\t<tr><td>none     </td><td>64.98480</td><td>64.67399</td><td>66.88514</td><td>64.82939</td></tr>\n",
       "</tbody>\n",
       "</table>\n"
      ],
      "text/latex": [
       "A tibble: 2 × 5\n",
       "\\begin{tabular}{lllll}\n",
       " test\\_preparation\\_course & math\\_score\\_average & writing\\_score\\_average & reading\\_score\\_average & total\\_average\\_score\\\\\n",
       " <fct> & <dbl> & <dbl> & <dbl> & <dbl>\\\\\n",
       "\\hline\n",
       "\t completed & 70.89644 & 75.24272 & 74.23301 & 73.06958\\\\\n",
       "\t none      & 64.98480 & 64.67399 & 66.88514 & 64.82939\\\\\n",
       "\\end{tabular}\n"
      ],
      "text/markdown": [
       "\n",
       "A tibble: 2 × 5\n",
       "\n",
       "| test_preparation_course &lt;fct&gt; | math_score_average &lt;dbl&gt; | writing_score_average &lt;dbl&gt; | reading_score_average &lt;dbl&gt; | total_average_score &lt;dbl&gt; |\n",
       "|---|---|---|---|---|\n",
       "| completed | 70.89644 | 75.24272 | 74.23301 | 73.06958 |\n",
       "| none      | 64.98480 | 64.67399 | 66.88514 | 64.82939 |\n",
       "\n"
      ],
      "text/plain": [
       "  test_preparation_course math_score_average writing_score_average\n",
       "1 completed               70.89644           75.24272             \n",
       "2 none                    64.98480           64.67399             \n",
       "  reading_score_average total_average_score\n",
       "1 74.23301              73.06958           \n",
       "2 66.88514              64.82939           "
      ]
     },
     "metadata": {},
     "output_type": "display_data"
    }
   ],
   "source": [
    "predictor_means <- exam_train%>%\n",
    "    group_by(test_preparation_course)%>%\n",
    "    summarize(\n",
    "        math_score_average=mean(math_score),\n",
    "        writing_score_average=mean(writing_score),\n",
    "        reading_score_average=mean(reading_score),\n",
    "        total_average_score=mean(avg_grade)\n",
    "    )\n",
    "predictor_means"
   ]
  },
  {
   "cell_type": "markdown",
   "metadata": {},
   "source": [
    "Finally, Table 8 summarizes all of the data present in the training data set."
   ]
  },
  {
   "cell_type": "markdown",
   "metadata": {},
   "source": [
    "**Table 8** **Summarizes Data II**"
   ]
  },
  {
   "cell_type": "code",
   "execution_count": 57,
   "metadata": {},
   "outputs": [
    {
     "data": {
      "text/plain": [
       " test_preparation_course   math_score     reading_score    writing_score  \n",
       " completed:309           Min.   : 14.00   Min.   : 15.00   Min.   : 13.0  \n",
       " none     :592           1st Qu.: 56.00   1st Qu.: 59.00   1st Qu.: 58.0  \n",
       "                         Median : 67.00   Median : 69.00   Median : 68.0  \n",
       "                         Mean   : 67.01   Mean   : 69.41   Mean   : 68.3  \n",
       "                         3rd Qu.: 78.00   3rd Qu.: 80.00   3rd Qu.: 79.0  \n",
       "                         Max.   :100.00   Max.   :100.00   Max.   :100.0  \n",
       "   avg_grade     \n",
       " Min.   : 16.50  \n",
       " 1st Qu.: 57.50  \n",
       " Median : 67.50  \n",
       " Mean   : 67.66  \n",
       " 3rd Qu.: 79.00  \n",
       " Max.   :100.00  "
      ]
     },
     "metadata": {},
     "output_type": "display_data"
    },
    {
     "data": {
      "text/html": [
       "<table>\n",
       "<caption>A matrix: 6 × 5 of type dbl</caption>\n",
       "<thead>\n",
       "\t<tr><th></th><th scope=col>test_preparation_course</th><th scope=col>math_score</th><th scope=col>reading_score</th><th scope=col>writing_score</th><th scope=col>avg_grade</th></tr>\n",
       "</thead>\n",
       "<tbody>\n",
       "\t<tr><th scope=row>Min.</th><td>309</td><td> 14.00000</td><td> 15.00000</td><td> 13.00000</td><td> 16.50000</td></tr>\n",
       "\t<tr><th scope=row>1st Qu.</th><td>592</td><td> 56.00000</td><td> 59.00000</td><td> 58.00000</td><td> 57.50000</td></tr>\n",
       "\t<tr><th scope=row>Median</th><td>309</td><td> 67.00000</td><td> 69.00000</td><td> 68.00000</td><td> 67.50000</td></tr>\n",
       "\t<tr><th scope=row>Mean</th><td>592</td><td> 67.01221</td><td> 69.40511</td><td> 68.29856</td><td> 67.65538</td></tr>\n",
       "\t<tr><th scope=row>3rd Qu.</th><td>309</td><td> 78.00000</td><td> 80.00000</td><td> 79.00000</td><td> 79.00000</td></tr>\n",
       "\t<tr><th scope=row>Max.</th><td>592</td><td>100.00000</td><td>100.00000</td><td>100.00000</td><td>100.00000</td></tr>\n",
       "</tbody>\n",
       "</table>\n"
      ],
      "text/latex": [
       "A matrix: 6 × 5 of type dbl\n",
       "\\begin{tabular}{r|lllll}\n",
       "  & test\\_preparation\\_course & math\\_score & reading\\_score & writing\\_score & avg\\_grade\\\\\n",
       "\\hline\n",
       "\tMin. & 309 &  14.00000 &  15.00000 &  13.00000 &  16.50000\\\\\n",
       "\t1st Qu. & 592 &  56.00000 &  59.00000 &  58.00000 &  57.50000\\\\\n",
       "\tMedian & 309 &  67.00000 &  69.00000 &  68.00000 &  67.50000\\\\\n",
       "\tMean & 592 &  67.01221 &  69.40511 &  68.29856 &  67.65538\\\\\n",
       "\t3rd Qu. & 309 &  78.00000 &  80.00000 &  79.00000 &  79.00000\\\\\n",
       "\tMax. & 592 & 100.00000 & 100.00000 & 100.00000 & 100.00000\\\\\n",
       "\\end{tabular}\n"
      ],
      "text/markdown": [
       "\n",
       "A matrix: 6 × 5 of type dbl\n",
       "\n",
       "| <!--/--> | test_preparation_course | math_score | reading_score | writing_score | avg_grade |\n",
       "|---|---|---|---|---|---|\n",
       "| Min. | 309 |  14.00000 |  15.00000 |  13.00000 |  16.50000 |\n",
       "| 1st Qu. | 592 |  56.00000 |  59.00000 |  58.00000 |  57.50000 |\n",
       "| Median | 309 |  67.00000 |  69.00000 |  68.00000 |  67.50000 |\n",
       "| Mean | 592 |  67.01221 |  69.40511 |  68.29856 |  67.65538 |\n",
       "| 3rd Qu. | 309 |  78.00000 |  80.00000 |  79.00000 |  79.00000 |\n",
       "| Max. | 592 | 100.00000 | 100.00000 | 100.00000 | 100.00000 |\n",
       "\n"
      ],
      "text/plain": [
       "        test_preparation_course math_score reading_score writing_score\n",
       "Min.    309                      14.00000   15.00000      13.00000    \n",
       "1st Qu. 592                      56.00000   59.00000      58.00000    \n",
       "Median  309                      67.00000   69.00000      68.00000    \n",
       "Mean    592                      67.01221   69.40511      68.29856    \n",
       "3rd Qu. 309                      78.00000   80.00000      79.00000    \n",
       "Max.    592                     100.00000  100.00000     100.00000    \n",
       "        avg_grade\n",
       "Min.     16.50000\n",
       "1st Qu.  57.50000\n",
       "Median   67.50000\n",
       "Mean     67.65538\n",
       "3rd Qu.  79.00000\n",
       "Max.    100.00000"
      ]
     },
     "metadata": {},
     "output_type": "display_data"
    }
   ],
   "source": [
    "summary(exam_train) \n",
    "do.call(cbind, lapply(exam_train, summary))"
   ]
  },
  {
   "cell_type": "markdown",
   "metadata": {},
   "source": [
    "The final step of the exploratory data analysis was to create a visualization representing the relationship that each predictor variable had with each other. "
   ]
  },
  {
   "cell_type": "code",
   "execution_count": 58,
   "metadata": {},
   "outputs": [
    {
     "ename": "ERROR",
     "evalue": "Error in ggplot_build(p): object 'predictor_plots' not found\n",
     "output_type": "error",
     "traceback": [
      "Error in ggplot_build(p): object 'predictor_plots' not found\nTraceback:\n",
      "1. grab_legend(predictor_plots)",
      "2. ggplot_build(p)"
     ]
    }
   ],
   "source": [
    "options(repr.plot.width = 15, repr.plot.height = 20) \n",
    "\n",
    "bar_legend<-grab_legend(predictor_plots)\n",
    "\n",
    "Pairwise_Matrix_legend<- ggpairs(exam_train, title = \"Pairwise Matrix Plot\", legend = bar_legend,\n",
    "                           aes(alpha = 0.2, color = test_preparation_course))+\n",
    "labs(fill=\"Test Preparation Course\")+\n",
    "exam_recipe <- recipe(test_preparation_course ~math_score+ reading_score, data = exam_train) %>%\n",
    "                step_scale(all_predictors()) %>%\n",
    "                step_center(all_predictors())\n",
    "exam_recipe\n"
   ]
  },
  {
   "cell_type": "markdown",
   "metadata": {},
   "source": [
    "### Data Analysis - Performing KNN Classification"
   ]
  },
  {
   "cell_type": "markdown",
   "metadata": {},
   "source": [
    "Before scaling and centering the data, a 5-fold cross-validation is performed to tune the hyperparameters. The strata argument is set as our categorical target variable, which is the `test_preparation_course`."
   ]
  },
  {
   "cell_type": "code",
   "execution_count": 59,
   "metadata": {},
   "outputs": [],
   "source": [
    "exam_vfold <- vfold_cv(exam_train, v = 5, strata = test_preparation_course)"
   ]
  },
  {
   "cell_type": "markdown",
   "metadata": {},
   "source": [
    "To create our KNN classification model, we will first create a recipe using the training data. The recipe specifies the target variable (test_preparation_course) and the predictors, and also scales and centers the predictors."
   ]
  },
  {
   "cell_type": "markdown",
   "metadata": {},
   "source": [
    "### Having more the 2 predictor varibles was causing the kernal to die and making the code run for a long time. So we decided to use just `math_score`  `reading_score` as our predictor varibles while preforming KNN classification. This will also make it easier to visulize results.\n",
    "\n",
    "You can't just choose whichever predictors you want. If you want only two, then we need to choose writing score, and average score because if you look at the distribution plots, those are the two with the most divergence."
   ]
  },
  {
   "cell_type": "code",
   "execution_count": 60,
   "metadata": {},
   "outputs": [
    {
     "data": {
      "text/plain": [
       "Data Recipe\n",
       "\n",
       "Inputs:\n",
       "\n",
       "      role #variables\n",
       "   outcome          1\n",
       " predictor          2\n",
       "\n",
       "Operations:\n",
       "\n",
       "Scaling for all_predictors()\n",
       "Centering for all_predictors()"
      ]
     },
     "metadata": {},
     "output_type": "display_data"
    }
   ],
   "source": [
    "# exam_recipe <- recipe(test_preparation_course ~ ., data = exam_train) %>%\n",
    "#                 step_scale(all_predictors()) %>%\n",
    "#                 step_center(all_predictors())\n",
    "# exam_recipe\n",
    "\n",
    "exam_recipe <- recipe(test_preparation_course ~math_score+ reading_score, data = exam_train) %>%\n",
    "                step_scale(all_predictors()) %>%\n",
    "                step_center(all_predictors())\n",
    "exam_recipe"
   ]
  },
  {
   "cell_type": "markdown",
   "metadata": {},
   "source": [
    "Next, we created the K-nearest neighbors classifier and tuned each parameter in the model. In the next code block, cross validation is used to evaluate the the accuracy of the classifier."
   ]
  },
  {
   "cell_type": "code",
   "execution_count": 61,
   "metadata": {},
   "outputs": [
    {
     "data": {
      "text/plain": [
       "K-Nearest Neighbor Model Specification (classification)\n",
       "\n",
       "Main Arguments:\n",
       "  neighbors = tune()\n",
       "  weight_func = rectangular\n",
       "\n",
       "Computational engine: kknn \n"
      ]
     },
     "metadata": {},
     "output_type": "display_data"
    }
   ],
   "source": [
    "knn_tune <- nearest_neighbor(weight_func = \"rectangular\", neighbors = tune()) %>%\n",
    "       set_engine(\"kknn\") %>%\n",
    "       set_mode(\"classification\")\n",
    "knn_tune"
   ]
  },
  {
   "cell_type": "markdown",
   "metadata": {},
   "source": [
    "Then, we created a dataframe named `k_vals` that has a sequence of K values between 1 and 20 we would like to test out. This new argument is passed through the grid argument of the `tune_grid` function."
   ]
  },
  {
   "cell_type": "markdown",
   "metadata": {},
   "source": [
    "**Table 9**"
   ]
  },
  {
   "cell_type": "code",
   "execution_count": null,
   "metadata": {},
   "outputs": [],
   "source": [
    "k_vals <- tibble(neighbors = seq(from = 1, to = 50))\n",
    "knn_results <- workflow() %>%\n",
    "       add_recipe(exam_recipe) %>%\n",
    "       add_model(knn_tune) %>%\n",
    "       tune_grid(resamples = exam_vfold, grid = k_vals) %>%\n",
    "       collect_metrics()\n",
    "\n",
    "accuracies <- knn_results %>% \n",
    "       filter(.metric == \"accuracy\" )\n",
    "accuracies"
   ]
  },
  {
   "cell_type": "markdown",
   "metadata": {},
   "source": [
    "As the last step of our KNN classification model, we plotted a visualization of the accuracy versus K value to deduce which K value would be the best. From the plot below, k = 28 would be the best value because it has the highest accuracy on the graph, and we can see that values neighbouring 28 do not have any dramatic changes in accuracy . And we confirmed that by arranging the means of the k values from greatest to smallest confirming the k=28 has the greatest accuracy."
   ]
  },
  {
   "cell_type": "code",
   "execution_count": null,
   "metadata": {
    "scrolled": true
   },
   "outputs": [],
   "source": [
    "options(repr.plot.width=15, repr.plot.height=15)\n",
    "accuracy_versus_k <- ggplot(accuracies, aes(x = neighbors, y = mean))+\n",
    "       geom_point() +\n",
    "       geom_line() +\n",
    "       labs(x = \"Neighbors\", y = \"Accuracy Estimate\") +\n",
    "       scale_x_continuous(breaks = seq(0, 50, by = 1)) +  \n",
    "       scale_y_continuous(limits = c(0.4, 1.0)) +\n",
    "ggtitle(\"Figure 2: Accuracies of K\")\n",
    "accuracy_versus_k"
   ]
  },
  {
   "cell_type": "code",
   "execution_count": null,
   "metadata": {},
   "outputs": [],
   "source": [
    "best_k<-accuracies%>%arrange(desc(mean)) \n",
    "head(best_k)\n",
    "\n",
    "# what is this."
   ]
  },
  {
   "cell_type": "code",
   "execution_count": null,
   "metadata": {},
   "outputs": [],
   "source": [
    "knn_spec <- nearest_neighbor(weight_func = \"rectangular\", neighbors = 28) %>%\n",
    "  set_engine(\"kknn\") %>%\n",
    "  set_mode(\"classification\")\n",
    "knn_spec"
   ]
  },
  {
   "cell_type": "code",
   "execution_count": null,
   "metadata": {},
   "outputs": [],
   "source": [
    "knn_fit <- knn_spec %>%\n",
    "  fit(test_preparation_course ~writing_score+ avg_grade , data = exam_train)"
   ]
  },
  {
   "cell_type": "code",
   "execution_count": null,
   "metadata": {},
   "outputs": [],
   "source": [
    "knn_fit_2 <- knn_spec %>%\n",
    "  fit(test_preparation_course ~math_score+ reading_score , data = exam_train)"
   ]
  },
  {
   "cell_type": "markdown",
   "metadata": {},
   "source": [
    "### Visualization of the Data Analysis"
   ]
  },
  {
   "cell_type": "markdown",
   "metadata": {},
   "source": [
    "To visualize our data analysis, we plotted a decision boundary graphs. `Decision Boundaries` graph, has the math score on the x-axis versus the reading score on the y-axis. The blue and organe clouds indicate what classification a point would be given if it were to lie within it.  **This visualizations can be used to...**"
   ]
  },
  {
   "cell_type": "code",
   "execution_count": null,
   "metadata": {},
   "outputs": [],
   "source": [
    "# math_grid <- seq(min(exam_train $ math_score), \n",
    "#                 max(exam_train $ math_score), \n",
    "#                 length.out = 100)\n",
    "wri_grid <- seq(min(exam_train $ writing_score), \n",
    "                max(exam_train $ writing_score), \n",
    "                length.out = 100)\n",
    "# read_grid <- seq(min(exam_train $ reading_score), \n",
    "#                 max(exam_train $ reading_score), \n",
    "#                 length.out = 100)\n",
    "avg_grid <- seq(min(exam_train$avg_grade), \n",
    "                max(exam_train$avg_grade), \n",
    "                length.out = 100)\n",
    "\n",
    "\n"
   ]
  },
  {
   "cell_type": "code",
   "execution_count": null,
   "metadata": {},
   "outputs": [],
   "source": [
    "asgrid <- as_tibble(expand.grid(#math_score = math_grid, \n",
    "                                writing_score = wri_grid,\n",
    "                                #reading_score = read_grid\n",
    "                                avg_grade = avg_grid\n",
    "                               ))"
   ]
  },
  {
   "cell_type": "code",
   "execution_count": null,
   "metadata": {},
   "outputs": [],
   "source": [
    "#double check the code \n",
    "knnPredGrid <- predict(knn_fit, asgrid)%>%\n",
    "bind_cols(asgrid)%>%\n",
    "rename(test_preparation_course = .pred_class)\n",
    "knnPredGrid\n"
   ]
  },
  {
   "cell_type": "code",
   "execution_count": null,
   "metadata": {},
   "outputs": [],
   "source": [
    "options(repr.plot.width=15, repr.plot.height=13)\n",
    "wkflw_plot <-\n",
    "  ggplot() +\n",
    "  geom_point(data = exam_train, \n",
    "             mapping = aes(x = writing_score, \n",
    "                           y = avg_grade, \n",
    "                           color = test_preparation_course), \n",
    "             alpha = 0.75) +\n",
    "  geom_point(data = knnPredGrid, \n",
    "             mapping = aes(x = writing_score, \n",
    "                           y = avg_grade, \n",
    "                           color = test_preparation_course), \n",
    "             alpha = 0.1, \n",
    "             size = 5) +\n",
    "  labs(color = \"Attendance to Test Preparation Course\", \n",
    "       x = \"Writing Scores (%)\", \n",
    "       y = \"Average Grades (%)\") +\n",
    "  scale_color_manual(labels = c(\"Completed\", \"Not Completed\"), \n",
    "                     values = c(\"orange2\", \"steelblue2\"))+\n",
    "ggtitle(\"Figure 3: Decision Boundaries Displaying the Relationship Between the Writing and Average Scores\")+\n",
    "theme(text = element_text(size = 15))\n",
    "wkflw_plot\n"
   ]
  },
  {
   "cell_type": "code",
   "execution_count": null,
   "metadata": {},
   "outputs": [],
   "source": []
  },
  {
   "cell_type": "markdown",
   "metadata": {},
   "source": [
    "The `Decision Boundary` graph shows the relationships that exist between our predictor values. As seen above, students who have completed the test preparation course tend to have scored higher than those who have not. This is especially notable in the students reading scores. As you can see the model tends to predict the test prep course as completed when a point lies in the upper left side of the graph. As we saw before there is more distribution in the math score and test prep course attendance. "
   ]
  },
  {
   "cell_type": "markdown",
   "metadata": {},
   "source": [
    "### Discussion"
   ]
  },
  {
   "cell_type": "markdown",
   "metadata": {},
   "source": [
    "Our model predicted whether a student attended a test prep course based on their math, reading, writing and average scores. The conclusion drawn from our data analysis was that… ☹ \n",
    "\n",
    "Based on previous studies on the topic of test preparation scores, it has been shown that students who had attended test preparation courses received higher scores than those who studied independently (Buchmann et al., 450). Although the increase in scores was not significantly high, it was noticeable enough to improve students’ chances of being admitted into their choice of college (Buchmann et al., 450). This information led us to expect a correlation between high exam scores and the completion of test preparation scores.  \n",
    "\n",
    "The information extracted from this data analysis is important in determining the effectiveness of the test preparation course in students’ performance. Based on the results of this analysis, future projects could examine the impact of the test preparation courses compared to self-studying methods in students. Other factors that have not been considered in this data set could also be explored. For example, it has been shown that the taking test preparation courses in certain years may be more effective than others when studying for college exams (Devine-Eller, 475). Future studies may be interested in determining the potential benefits and detriments to attending test preparation studies at different periods of a student’s high school career. \n"
   ]
  },
  {
   "cell_type": "markdown",
   "metadata": {},
   "source": [
    "### References"
   ]
  },
  {
   "cell_type": "markdown",
   "metadata": {},
   "source": [
    "Alon, S. \"Commentaries: Racial Differences in Test Preparation Strategies: A Commentary on Shadow Education, American      Style: Test Preparation, the SAT and College Enrollment.\" *Social Forces*, vol. 89, no. 2, 2010, pp. 463-474.\n",
    "\n",
    "Devine-Eller, Audrey. “Timing Matters: Test Preparation, Race, and Grade Level.” *Sociological Forum*, vol. 27, no. 2, [Wiley, Springer], 2012, pp. 458–80, http://www.jstor.org/stable/23262117.\n",
    "\n",
    "Kimmons, Royce. “Exams Scores For Students at a Public School.” *Exam Scores*, http://roycekimmons.com/tools/generated_data/exams. "
   ]
  },
  {
   "cell_type": "code",
   "execution_count": null,
   "metadata": {},
   "outputs": [],
   "source": [
    "best_k<-accuracies%>%arrange(desc(mean)) \n",
    "head(best_k)"
   ]
  },
  {
   "cell_type": "markdown",
   "metadata": {},
   "source": [
    "when picking themost acurate k why was 5 choosen.  "
   ]
  },
  {
   "cell_type": "markdown",
   "metadata": {},
   "source": [
    "**if having a bad graph we can justify it by us picking a not the most accuate k.**\n",
    "\n",
    "accuracy is highest of all the k you tried and accuracy is stable so if k goes up or down by one there isn't a drastic change the accuracy is roughly in the same ballpark of numbers for neugbouring k values.\n",
    "\n",
    "look at k=5 there is some flux in the accuracy of the k values next to it maybe we should have pick k=10? \n",
    "\n",
    "k = 5 is definitely our best k value."
   ]
  },
  {
   "cell_type": "code",
   "execution_count": null,
   "metadata": {},
   "outputs": [],
   "source": []
  },
  {
   "cell_type": "markdown",
   "metadata": {},
   "source": [
    "## to make decision boundaries visulization of our model we need to use the `contour` function"
   ]
  },
  {
   "cell_type": "code",
   "execution_count": null,
   "metadata": {},
   "outputs": [],
   "source": []
  }
 ],
 "metadata": {
  "kernelspec": {
   "display_name": "R",
   "language": "R",
   "name": "ir"
  },
  "language_info": {
   "codemirror_mode": "r",
   "file_extension": ".r",
   "mimetype": "text/x-r-source",
   "name": "R",
   "pygments_lexer": "r",
   "version": "4.0.0"
  }
 },
 "nbformat": 4,
 "nbformat_minor": 4
}
