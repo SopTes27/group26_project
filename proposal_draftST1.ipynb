{
 "cells": [
  {
   "cell_type": "markdown",
   "metadata": {},
   "source": [
    "# Group 26 Project Proposal"
   ]
  },
  {
   "cell_type": "markdown",
   "metadata": {},
   "source": [
    "### Introduction: "
   ]
  },
  {
   "cell_type": "markdown",
   "metadata": {},
   "source": [
    "There are a variety of test preparation classes available to students at varying prices. These courses claim to improve students' performance on exams. \n",
    "\n",
    "Predictive Question: Can we use the exam scores of students to predict whether they attended a test preparation course?\n",
    "\n",
    "The `all_exams.csv` data set is used to determine whether a student took a test prep course. Their exam scores from math, reading, and writing would identify if they attended a test prep course. The data set also contains information about high school students from the US, and includes the students’ gender, race/ethnicity, parental level of education, and lunch access.\n",
    "The size of the sample was increased to 1200 by combining the downloaded data, since the data is generated spontaneously. By doing this, we expect our model to have a higher accuracy because it will be able to gain familiarity with more data examples.\n"
   ]
  },
  {
   "cell_type": "markdown",
   "metadata": {},
   "source": [
    "### Primary Exploratory Data Analysis:"
   ]
  },
  {
   "cell_type": "code",
   "execution_count": 5,
   "metadata": {
    "scrolled": true
   },
   "outputs": [
    {
     "name": "stderr",
     "output_type": "stream",
     "text": [
      "── \u001b[1mAttaching packages\u001b[22m ─────────────────────────────────────── tidyverse 1.3.0 ──\n",
      "\n",
      "\u001b[32m✔\u001b[39m \u001b[34mggplot2\u001b[39m 3.3.2     \u001b[32m✔\u001b[39m \u001b[34mpurrr  \u001b[39m 0.3.4\n",
      "\u001b[32m✔\u001b[39m \u001b[34mtibble \u001b[39m 3.0.3     \u001b[32m✔\u001b[39m \u001b[34mdplyr  \u001b[39m 1.0.2\n",
      "\u001b[32m✔\u001b[39m \u001b[34mtidyr  \u001b[39m 1.1.2     \u001b[32m✔\u001b[39m \u001b[34mstringr\u001b[39m 1.4.0\n",
      "\u001b[32m✔\u001b[39m \u001b[34mreadr  \u001b[39m 1.3.1     \u001b[32m✔\u001b[39m \u001b[34mforcats\u001b[39m 0.5.0\n",
      "\n",
      "Warning message:\n",
      "“package ‘ggplot2’ was built under R version 4.0.1”\n",
      "Warning message:\n",
      "“package ‘tibble’ was built under R version 4.0.2”\n",
      "Warning message:\n",
      "“package ‘tidyr’ was built under R version 4.0.2”\n",
      "Warning message:\n",
      "“package ‘dplyr’ was built under R version 4.0.2”\n",
      "── \u001b[1mConflicts\u001b[22m ────────────────────────────────────────── tidyverse_conflicts() ──\n",
      "\u001b[31m✖\u001b[39m \u001b[34mdplyr\u001b[39m::\u001b[32mfilter()\u001b[39m masks \u001b[34mstats\u001b[39m::filter()\n",
      "\u001b[31m✖\u001b[39m \u001b[34mdplyr\u001b[39m::\u001b[32mlag()\u001b[39m    masks \u001b[34mstats\u001b[39m::lag()\n",
      "\n",
      "Warning message:\n",
      "“package ‘tidymodels’ was built under R version 4.0.2”\n",
      "── \u001b[1mAttaching packages\u001b[22m ────────────────────────────────────── tidymodels 0.1.1 ──\n",
      "\n",
      "\u001b[32m✔\u001b[39m \u001b[34mbroom    \u001b[39m 0.7.0      \u001b[32m✔\u001b[39m \u001b[34mrecipes  \u001b[39m 0.1.13\n",
      "\u001b[32m✔\u001b[39m \u001b[34mdials    \u001b[39m 0.0.9      \u001b[32m✔\u001b[39m \u001b[34mrsample  \u001b[39m 0.0.7 \n",
      "\u001b[32m✔\u001b[39m \u001b[34minfer    \u001b[39m 0.5.4      \u001b[32m✔\u001b[39m \u001b[34mtune     \u001b[39m 0.1.1 \n",
      "\u001b[32m✔\u001b[39m \u001b[34mmodeldata\u001b[39m 0.0.2      \u001b[32m✔\u001b[39m \u001b[34mworkflows\u001b[39m 0.2.0 \n",
      "\u001b[32m✔\u001b[39m \u001b[34mparsnip  \u001b[39m 0.1.3      \u001b[32m✔\u001b[39m \u001b[34myardstick\u001b[39m 0.0.7 \n",
      "\n",
      "Warning message:\n",
      "“package ‘broom’ was built under R version 4.0.2”\n",
      "Warning message:\n",
      "“package ‘dials’ was built under R version 4.0.2”\n",
      "Warning message:\n",
      "“package ‘infer’ was built under R version 4.0.3”\n",
      "Warning message:\n",
      "“package ‘modeldata’ was built under R version 4.0.1”\n",
      "Warning message:\n",
      "“package ‘parsnip’ was built under R version 4.0.2”\n",
      "Warning message:\n",
      "“package ‘recipes’ was built under R version 4.0.1”\n",
      "Warning message:\n",
      "“package ‘tune’ was built under R version 4.0.2”\n",
      "Warning message:\n",
      "“package ‘workflows’ was built under R version 4.0.2”\n",
      "Warning message:\n",
      "“package ‘yardstick’ was built under R version 4.0.2”\n",
      "── \u001b[1mConflicts\u001b[22m ───────────────────────────────────────── tidymodels_conflicts() ──\n",
      "\u001b[31m✖\u001b[39m \u001b[34mscales\u001b[39m::\u001b[32mdiscard()\u001b[39m masks \u001b[34mpurrr\u001b[39m::discard()\n",
      "\u001b[31m✖\u001b[39m \u001b[34mdplyr\u001b[39m::\u001b[32mfilter()\u001b[39m   masks \u001b[34mstats\u001b[39m::filter()\n",
      "\u001b[31m✖\u001b[39m \u001b[34mrecipes\u001b[39m::\u001b[32mfixed()\u001b[39m  masks \u001b[34mstringr\u001b[39m::fixed()\n",
      "\u001b[31m✖\u001b[39m \u001b[34mdplyr\u001b[39m::\u001b[32mlag()\u001b[39m      masks \u001b[34mstats\u001b[39m::lag()\n",
      "\u001b[31m✖\u001b[39m \u001b[34myardstick\u001b[39m::\u001b[32mspec()\u001b[39m masks \u001b[34mreadr\u001b[39m::spec()\n",
      "\u001b[31m✖\u001b[39m \u001b[34mrecipes\u001b[39m::\u001b[32mstep()\u001b[39m   masks \u001b[34mstats\u001b[39m::step()\n",
      "\n",
      "Registered S3 method overwritten by 'GGally':\n",
      "  method from   \n",
      "  +.gg   ggplot2\n",
      "\n"
     ]
    },
    {
     "ename": "ERROR",
     "evalue": "Error in library(themis): there is no package called ‘themis’\n",
     "output_type": "error",
     "traceback": [
      "Error in library(themis): there is no package called ‘themis’\nTraceback:\n",
      "1. library(themis)"
     ]
    }
   ],
   "source": [
    "#Run this cell \n",
    "library(tidyverse)\n",
    "library(tidymodels)\n",
    "library(RColorBrewer)\n",
    "library(GGally)\n",
    "library(themis)"
   ]
  },
  {
   "cell_type": "code",
   "execution_count": 12,
   "metadata": {},
   "outputs": [
    {
     "name": "stderr",
     "output_type": "stream",
     "text": [
      "Warning message:\n",
      "“Missing column names filled in: 'X1' [1]”\n",
      "Parsed with column specification:\n",
      "cols(\n",
      "  X1 = \u001b[32mcol_double()\u001b[39m,\n",
      "  gender = \u001b[31mcol_character()\u001b[39m,\n",
      "  `race/ethnicity` = \u001b[31mcol_character()\u001b[39m,\n",
      "  `parental level of education` = \u001b[31mcol_character()\u001b[39m,\n",
      "  lunch = \u001b[31mcol_character()\u001b[39m,\n",
      "  `test preparation course` = \u001b[31mcol_character()\u001b[39m,\n",
      "  `math score` = \u001b[32mcol_double()\u001b[39m,\n",
      "  `reading score` = \u001b[32mcol_double()\u001b[39m,\n",
      "  `writing score` = \u001b[32mcol_double()\u001b[39m\n",
      ")\n",
      "\n"
     ]
    },
    {
     "data": {
      "text/html": [
       "<table>\n",
       "<caption>A spec_tbl_df: 1200 × 9</caption>\n",
       "<thead>\n",
       "\t<tr><th scope=col>X1</th><th scope=col>gender</th><th scope=col>race/ethnicity</th><th scope=col>parental level of education</th><th scope=col>lunch</th><th scope=col>test preparation course</th><th scope=col>math score</th><th scope=col>reading score</th><th scope=col>writing score</th></tr>\n",
       "\t<tr><th scope=col>&lt;dbl&gt;</th><th scope=col>&lt;chr&gt;</th><th scope=col>&lt;chr&gt;</th><th scope=col>&lt;chr&gt;</th><th scope=col>&lt;chr&gt;</th><th scope=col>&lt;chr&gt;</th><th scope=col>&lt;dbl&gt;</th><th scope=col>&lt;dbl&gt;</th><th scope=col>&lt;dbl&gt;</th></tr>\n",
       "</thead>\n",
       "<tbody>\n",
       "\t<tr><td>1</td><td>male  </td><td>group D</td><td>some college      </td><td>standard    </td><td>none     </td><td>69</td><td>63</td><td>62</td></tr>\n",
       "\t<tr><td>2</td><td>female</td><td>group E</td><td>bachelor's degree </td><td>free/reduced</td><td>completed</td><td>65</td><td>78</td><td>80</td></tr>\n",
       "\t<tr><td>3</td><td>female</td><td>group C</td><td>some high school  </td><td>standard    </td><td>none     </td><td>57</td><td>56</td><td>59</td></tr>\n",
       "\t<tr><td>4</td><td>female</td><td>group D</td><td>associate's degree</td><td>free/reduced</td><td>none     </td><td>62</td><td>73</td><td>71</td></tr>\n",
       "\t<tr><td>5</td><td>male  </td><td>group C</td><td>some college      </td><td>free/reduced</td><td>none     </td><td>46</td><td>52</td><td>46</td></tr>\n",
       "\t<tr><td>⋮</td><td>⋮</td><td>⋮</td><td>⋮</td><td>⋮</td><td>⋮</td><td>⋮</td><td>⋮</td><td>⋮</td></tr>\n",
       "\t<tr><td>1196</td><td>male  </td><td>group C</td><td>associate's degree</td><td>standard    </td><td>completed</td><td>65</td><td>63</td><td>62</td></tr>\n",
       "\t<tr><td>1197</td><td>female</td><td>group C</td><td>some high school  </td><td>standard    </td><td>none     </td><td>69</td><td>74</td><td>68</td></tr>\n",
       "\t<tr><td>1198</td><td>female</td><td>group D</td><td>some college      </td><td>free/reduced</td><td>none     </td><td>43</td><td>48</td><td>45</td></tr>\n",
       "\t<tr><td>1199</td><td>female</td><td>group B</td><td>some college      </td><td>standard    </td><td>none     </td><td>51</td><td>51</td><td>57</td></tr>\n",
       "\t<tr><td>1200</td><td>female</td><td>group B</td><td>some college      </td><td>standard    </td><td>completed</td><td>73</td><td>81</td><td>90</td></tr>\n",
       "</tbody>\n",
       "</table>\n"
      ],
      "text/latex": [
       "A spec\\_tbl\\_df: 1200 × 9\n",
       "\\begin{tabular}{lllllllll}\n",
       " X1 & gender & race/ethnicity & parental level of education & lunch & test preparation course & math score & reading score & writing score\\\\\n",
       " <dbl> & <chr> & <chr> & <chr> & <chr> & <chr> & <dbl> & <dbl> & <dbl>\\\\\n",
       "\\hline\n",
       "\t 1 & male   & group D & some college       & standard     & none      & 69 & 63 & 62\\\\\n",
       "\t 2 & female & group E & bachelor's degree  & free/reduced & completed & 65 & 78 & 80\\\\\n",
       "\t 3 & female & group C & some high school   & standard     & none      & 57 & 56 & 59\\\\\n",
       "\t 4 & female & group D & associate's degree & free/reduced & none      & 62 & 73 & 71\\\\\n",
       "\t 5 & male   & group C & some college       & free/reduced & none      & 46 & 52 & 46\\\\\n",
       "\t ⋮ & ⋮ & ⋮ & ⋮ & ⋮ & ⋮ & ⋮ & ⋮ & ⋮\\\\\n",
       "\t 1196 & male   & group C & associate's degree & standard     & completed & 65 & 63 & 62\\\\\n",
       "\t 1197 & female & group C & some high school   & standard     & none      & 69 & 74 & 68\\\\\n",
       "\t 1198 & female & group D & some college       & free/reduced & none      & 43 & 48 & 45\\\\\n",
       "\t 1199 & female & group B & some college       & standard     & none      & 51 & 51 & 57\\\\\n",
       "\t 1200 & female & group B & some college       & standard     & completed & 73 & 81 & 90\\\\\n",
       "\\end{tabular}\n"
      ],
      "text/markdown": [
       "\n",
       "A spec_tbl_df: 1200 × 9\n",
       "\n",
       "| X1 &lt;dbl&gt; | gender &lt;chr&gt; | race/ethnicity &lt;chr&gt; | parental level of education &lt;chr&gt; | lunch &lt;chr&gt; | test preparation course &lt;chr&gt; | math score &lt;dbl&gt; | reading score &lt;dbl&gt; | writing score &lt;dbl&gt; |\n",
       "|---|---|---|---|---|---|---|---|---|\n",
       "| 1 | male   | group D | some college       | standard     | none      | 69 | 63 | 62 |\n",
       "| 2 | female | group E | bachelor's degree  | free/reduced | completed | 65 | 78 | 80 |\n",
       "| 3 | female | group C | some high school   | standard     | none      | 57 | 56 | 59 |\n",
       "| 4 | female | group D | associate's degree | free/reduced | none      | 62 | 73 | 71 |\n",
       "| 5 | male   | group C | some college       | free/reduced | none      | 46 | 52 | 46 |\n",
       "| ⋮ | ⋮ | ⋮ | ⋮ | ⋮ | ⋮ | ⋮ | ⋮ | ⋮ |\n",
       "| 1196 | male   | group C | associate's degree | standard     | completed | 65 | 63 | 62 |\n",
       "| 1197 | female | group C | some high school   | standard     | none      | 69 | 74 | 68 |\n",
       "| 1198 | female | group D | some college       | free/reduced | none      | 43 | 48 | 45 |\n",
       "| 1199 | female | group B | some college       | standard     | none      | 51 | 51 | 57 |\n",
       "| 1200 | female | group B | some college       | standard     | completed | 73 | 81 | 90 |\n",
       "\n"
      ],
      "text/plain": [
       "     X1   gender race/ethnicity parental level of education lunch       \n",
       "1    1    male   group D        some college                standard    \n",
       "2    2    female group E        bachelor's degree           free/reduced\n",
       "3    3    female group C        some high school            standard    \n",
       "4    4    female group D        associate's degree          free/reduced\n",
       "5    5    male   group C        some college                free/reduced\n",
       "⋮    ⋮    ⋮      ⋮              ⋮                           ⋮           \n",
       "1196 1196 male   group C        associate's degree          standard    \n",
       "1197 1197 female group C        some high school            standard    \n",
       "1198 1198 female group D        some college                free/reduced\n",
       "1199 1199 female group B        some college                standard    \n",
       "1200 1200 female group B        some college                standard    \n",
       "     test preparation course math score reading score writing score\n",
       "1    none                    69         63            62           \n",
       "2    completed               65         78            80           \n",
       "3    none                    57         56            59           \n",
       "4    none                    62         73            71           \n",
       "5    none                    46         52            46           \n",
       "⋮    ⋮                       ⋮          ⋮             ⋮            \n",
       "1196 completed               65         63            62           \n",
       "1197 none                    69         74            68           \n",
       "1198 none                    43         48            45           \n",
       "1199 none                    51         51            57           \n",
       "1200 completed               73         81            90           "
      ]
     },
     "metadata": {},
     "output_type": "display_data"
    }
   ],
   "source": [
    "options(repr.matrix.max.rows = 10)\n",
    "all_exams<-read_csv(\"https://raw.githubusercontent.com/SopTes27/group26_project/main/GP_data/all_exams.csv\")\n",
    "all_exams"
   ]
  },
  {
   "cell_type": "code",
   "execution_count": 7,
   "metadata": {
    "scrolled": true
   },
   "outputs": [
    {
     "data": {
      "text/html": [
       "<table>\n",
       "<caption>A tibble: 1200 × 8</caption>\n",
       "<thead>\n",
       "\t<tr><th scope=col>gender</th><th scope=col>race_ethnicity</th><th scope=col>parental_level_of_education</th><th scope=col>lunch</th><th scope=col>test_preparation_course</th><th scope=col>math_score</th><th scope=col>reading_score</th><th scope=col>writing_score</th></tr>\n",
       "\t<tr><th scope=col>&lt;fct&gt;</th><th scope=col>&lt;fct&gt;</th><th scope=col>&lt;fct&gt;</th><th scope=col>&lt;fct&gt;</th><th scope=col>&lt;fct&gt;</th><th scope=col>&lt;dbl&gt;</th><th scope=col>&lt;dbl&gt;</th><th scope=col>&lt;dbl&gt;</th></tr>\n",
       "</thead>\n",
       "<tbody>\n",
       "\t<tr><td>male  </td><td>group D</td><td>some college      </td><td>standard    </td><td>none     </td><td>69</td><td>63</td><td>62</td></tr>\n",
       "\t<tr><td>female</td><td>group E</td><td>bachelor's degree </td><td>free/reduced</td><td>completed</td><td>65</td><td>78</td><td>80</td></tr>\n",
       "\t<tr><td>female</td><td>group C</td><td>some high school  </td><td>standard    </td><td>none     </td><td>57</td><td>56</td><td>59</td></tr>\n",
       "\t<tr><td>female</td><td>group D</td><td>associate's degree</td><td>free/reduced</td><td>none     </td><td>62</td><td>73</td><td>71</td></tr>\n",
       "\t<tr><td>male  </td><td>group C</td><td>some college      </td><td>free/reduced</td><td>none     </td><td>46</td><td>52</td><td>46</td></tr>\n",
       "\t<tr><td>⋮</td><td>⋮</td><td>⋮</td><td>⋮</td><td>⋮</td><td>⋮</td><td>⋮</td><td>⋮</td></tr>\n",
       "\t<tr><td>male  </td><td>group C</td><td>associate's degree</td><td>standard    </td><td>completed</td><td>65</td><td>63</td><td>62</td></tr>\n",
       "\t<tr><td>female</td><td>group C</td><td>some high school  </td><td>standard    </td><td>none     </td><td>69</td><td>74</td><td>68</td></tr>\n",
       "\t<tr><td>female</td><td>group D</td><td>some college      </td><td>free/reduced</td><td>none     </td><td>43</td><td>48</td><td>45</td></tr>\n",
       "\t<tr><td>female</td><td>group B</td><td>some college      </td><td>standard    </td><td>none     </td><td>51</td><td>51</td><td>57</td></tr>\n",
       "\t<tr><td>female</td><td>group B</td><td>some college      </td><td>standard    </td><td>completed</td><td>73</td><td>81</td><td>90</td></tr>\n",
       "</tbody>\n",
       "</table>\n"
      ],
      "text/latex": [
       "A tibble: 1200 × 8\n",
       "\\begin{tabular}{llllllll}\n",
       " gender & race\\_ethnicity & parental\\_level\\_of\\_education & lunch & test\\_preparation\\_course & math\\_score & reading\\_score & writing\\_score\\\\\n",
       " <fct> & <fct> & <fct> & <fct> & <fct> & <dbl> & <dbl> & <dbl>\\\\\n",
       "\\hline\n",
       "\t male   & group D & some college       & standard     & none      & 69 & 63 & 62\\\\\n",
       "\t female & group E & bachelor's degree  & free/reduced & completed & 65 & 78 & 80\\\\\n",
       "\t female & group C & some high school   & standard     & none      & 57 & 56 & 59\\\\\n",
       "\t female & group D & associate's degree & free/reduced & none      & 62 & 73 & 71\\\\\n",
       "\t male   & group C & some college       & free/reduced & none      & 46 & 52 & 46\\\\\n",
       "\t ⋮ & ⋮ & ⋮ & ⋮ & ⋮ & ⋮ & ⋮ & ⋮\\\\\n",
       "\t male   & group C & associate's degree & standard     & completed & 65 & 63 & 62\\\\\n",
       "\t female & group C & some high school   & standard     & none      & 69 & 74 & 68\\\\\n",
       "\t female & group D & some college       & free/reduced & none      & 43 & 48 & 45\\\\\n",
       "\t female & group B & some college       & standard     & none      & 51 & 51 & 57\\\\\n",
       "\t female & group B & some college       & standard     & completed & 73 & 81 & 90\\\\\n",
       "\\end{tabular}\n"
      ],
      "text/markdown": [
       "\n",
       "A tibble: 1200 × 8\n",
       "\n",
       "| gender &lt;fct&gt; | race_ethnicity &lt;fct&gt; | parental_level_of_education &lt;fct&gt; | lunch &lt;fct&gt; | test_preparation_course &lt;fct&gt; | math_score &lt;dbl&gt; | reading_score &lt;dbl&gt; | writing_score &lt;dbl&gt; |\n",
       "|---|---|---|---|---|---|---|---|\n",
       "| male   | group D | some college       | standard     | none      | 69 | 63 | 62 |\n",
       "| female | group E | bachelor's degree  | free/reduced | completed | 65 | 78 | 80 |\n",
       "| female | group C | some high school   | standard     | none      | 57 | 56 | 59 |\n",
       "| female | group D | associate's degree | free/reduced | none      | 62 | 73 | 71 |\n",
       "| male   | group C | some college       | free/reduced | none      | 46 | 52 | 46 |\n",
       "| ⋮ | ⋮ | ⋮ | ⋮ | ⋮ | ⋮ | ⋮ | ⋮ |\n",
       "| male   | group C | associate's degree | standard     | completed | 65 | 63 | 62 |\n",
       "| female | group C | some high school   | standard     | none      | 69 | 74 | 68 |\n",
       "| female | group D | some college       | free/reduced | none      | 43 | 48 | 45 |\n",
       "| female | group B | some college       | standard     | none      | 51 | 51 | 57 |\n",
       "| female | group B | some college       | standard     | completed | 73 | 81 | 90 |\n",
       "\n"
      ],
      "text/plain": [
       "     gender race_ethnicity parental_level_of_education lunch       \n",
       "1    male   group D        some college                standard    \n",
       "2    female group E        bachelor's degree           free/reduced\n",
       "3    female group C        some high school            standard    \n",
       "4    female group D        associate's degree          free/reduced\n",
       "5    male   group C        some college                free/reduced\n",
       "⋮    ⋮      ⋮              ⋮                           ⋮           \n",
       "1196 male   group C        associate's degree          standard    \n",
       "1197 female group C        some high school            standard    \n",
       "1198 female group D        some college                free/reduced\n",
       "1199 female group B        some college                standard    \n",
       "1200 female group B        some college                standard    \n",
       "     test_preparation_course math_score reading_score writing_score\n",
       "1    none                    69         63            62           \n",
       "2    completed               65         78            80           \n",
       "3    none                    57         56            59           \n",
       "4    none                    62         73            71           \n",
       "5    none                    46         52            46           \n",
       "⋮    ⋮                       ⋮          ⋮             ⋮            \n",
       "1196 completed               65         63            62           \n",
       "1197 none                    69         74            68           \n",
       "1198 none                    43         48            45           \n",
       "1199 none                    51         51            57           \n",
       "1200 completed               73         81            90           "
      ]
     },
     "metadata": {},
     "output_type": "display_data"
    }
   ],
   "source": [
    "#Tidying the data by changing the column names and the chr data types to fct data types\n",
    "\n",
    "colnames(all_exams)<-c(\"X1\", \"gender\", \"race_ethnicity\", \"parental_level_of_education\",\n",
    "\"lunch\", \"test_preparation_course\", \"math_score\", \"reading_score\", \"writing_score\")\n",
    "\n",
    "tidying_data <-select(all_exams, gender:writing_score)%>%\n",
    "    mutate(across(gender:test_preparation_course, as.factor))\n",
    "tidying_data"
   ]
  },
  {
   "cell_type": "code",
   "execution_count": 8,
   "metadata": {
    "scrolled": true
   },
   "outputs": [
    {
     "data": {
      "text/html": [
       "<table>\n",
       "<caption>A rowwise_df: 1200 × 5</caption>\n",
       "<thead>\n",
       "\t<tr><th scope=col>test_preparation_course</th><th scope=col>math_score</th><th scope=col>reading_score</th><th scope=col>writing_score</th><th scope=col>avg_grade</th></tr>\n",
       "\t<tr><th scope=col>&lt;fct&gt;</th><th scope=col>&lt;dbl&gt;</th><th scope=col>&lt;dbl&gt;</th><th scope=col>&lt;dbl&gt;</th><th scope=col>&lt;dbl&gt;</th></tr>\n",
       "</thead>\n",
       "<tbody>\n",
       "\t<tr><td>none     </td><td>69</td><td>63</td><td>62</td><td>65.5</td></tr>\n",
       "\t<tr><td>completed</td><td>65</td><td>78</td><td>80</td><td>72.5</td></tr>\n",
       "\t<tr><td>none     </td><td>57</td><td>56</td><td>59</td><td>58.0</td></tr>\n",
       "\t<tr><td>none     </td><td>62</td><td>73</td><td>71</td><td>66.5</td></tr>\n",
       "\t<tr><td>none     </td><td>46</td><td>52</td><td>46</td><td>46.0</td></tr>\n",
       "\t<tr><td>⋮</td><td>⋮</td><td>⋮</td><td>⋮</td><td>⋮</td></tr>\n",
       "\t<tr><td>completed</td><td>65</td><td>63</td><td>62</td><td>63.5</td></tr>\n",
       "\t<tr><td>none     </td><td>69</td><td>74</td><td>68</td><td>68.5</td></tr>\n",
       "\t<tr><td>none     </td><td>43</td><td>48</td><td>45</td><td>44.0</td></tr>\n",
       "\t<tr><td>none     </td><td>51</td><td>51</td><td>57</td><td>54.0</td></tr>\n",
       "\t<tr><td>completed</td><td>73</td><td>81</td><td>90</td><td>81.5</td></tr>\n",
       "</tbody>\n",
       "</table>\n"
      ],
      "text/latex": [
       "A rowwise\\_df: 1200 × 5\n",
       "\\begin{tabular}{lllll}\n",
       " test\\_preparation\\_course & math\\_score & reading\\_score & writing\\_score & avg\\_grade\\\\\n",
       " <fct> & <dbl> & <dbl> & <dbl> & <dbl>\\\\\n",
       "\\hline\n",
       "\t none      & 69 & 63 & 62 & 65.5\\\\\n",
       "\t completed & 65 & 78 & 80 & 72.5\\\\\n",
       "\t none      & 57 & 56 & 59 & 58.0\\\\\n",
       "\t none      & 62 & 73 & 71 & 66.5\\\\\n",
       "\t none      & 46 & 52 & 46 & 46.0\\\\\n",
       "\t ⋮ & ⋮ & ⋮ & ⋮ & ⋮\\\\\n",
       "\t completed & 65 & 63 & 62 & 63.5\\\\\n",
       "\t none      & 69 & 74 & 68 & 68.5\\\\\n",
       "\t none      & 43 & 48 & 45 & 44.0\\\\\n",
       "\t none      & 51 & 51 & 57 & 54.0\\\\\n",
       "\t completed & 73 & 81 & 90 & 81.5\\\\\n",
       "\\end{tabular}\n"
      ],
      "text/markdown": [
       "\n",
       "A rowwise_df: 1200 × 5\n",
       "\n",
       "| test_preparation_course &lt;fct&gt; | math_score &lt;dbl&gt; | reading_score &lt;dbl&gt; | writing_score &lt;dbl&gt; | avg_grade &lt;dbl&gt; |\n",
       "|---|---|---|---|---|\n",
       "| none      | 69 | 63 | 62 | 65.5 |\n",
       "| completed | 65 | 78 | 80 | 72.5 |\n",
       "| none      | 57 | 56 | 59 | 58.0 |\n",
       "| none      | 62 | 73 | 71 | 66.5 |\n",
       "| none      | 46 | 52 | 46 | 46.0 |\n",
       "| ⋮ | ⋮ | ⋮ | ⋮ | ⋮ |\n",
       "| completed | 65 | 63 | 62 | 63.5 |\n",
       "| none      | 69 | 74 | 68 | 68.5 |\n",
       "| none      | 43 | 48 | 45 | 44.0 |\n",
       "| none      | 51 | 51 | 57 | 54.0 |\n",
       "| completed | 73 | 81 | 90 | 81.5 |\n",
       "\n"
      ],
      "text/plain": [
       "     test_preparation_course math_score reading_score writing_score avg_grade\n",
       "1    none                    69         63            62            65.5     \n",
       "2    completed               65         78            80            72.5     \n",
       "3    none                    57         56            59            58.0     \n",
       "4    none                    62         73            71            66.5     \n",
       "5    none                    46         52            46            46.0     \n",
       "⋮    ⋮                       ⋮          ⋮             ⋮             ⋮        \n",
       "1196 completed               65         63            62            63.5     \n",
       "1197 none                    69         74            68            68.5     \n",
       "1198 none                    43         48            45            44.0     \n",
       "1199 none                    51         51            57            54.0     \n",
       "1200 completed               73         81            90            81.5     "
      ]
     },
     "metadata": {},
     "output_type": "display_data"
    }
   ],
   "source": [
    "#Creating the new dataset we will be using\n",
    "\n",
    "exams_data<-tidying_data %>%\n",
    "    rowwise(math_score:writing_score)%>%\n",
    "    mutate(avg_grade=mean(math_score:writing_score))%>%\n",
    "    select(test_preparation_course, math_score, reading_score, writing_score, avg_grade)\n",
    "exams_data"
   ]
  },
  {
   "cell_type": "code",
   "execution_count": 9,
   "metadata": {},
   "outputs": [
    {
     "name": "stdout",
     "output_type": "stream",
     "text": [
      "Rows: 901\n",
      "Columns: 5\n",
      "Rowwise: math_score, reading_score, writing_score\n",
      "$ test_preparation_course \u001b[3m\u001b[90m<fct>\u001b[39m\u001b[23m none, completed, none, none, none, none, none…\n",
      "$ math_score              \u001b[3m\u001b[90m<dbl>\u001b[39m\u001b[23m 69, 65, 57, 62, 46, 39, 78, 57, 80, 85, 79, 5…\n",
      "$ reading_score           \u001b[3m\u001b[90m<dbl>\u001b[39m\u001b[23m 63, 78, 56, 73, 52, 35, 90, 62, 86, 86, 75, 4…\n",
      "$ writing_score           \u001b[3m\u001b[90m<dbl>\u001b[39m\u001b[23m 62, 80, 59, 71, 46, 28, 84, 54, 91, 84, 71, 3…\n",
      "$ avg_grade               \u001b[3m\u001b[90m<dbl>\u001b[39m\u001b[23m 65.5, 72.5, 58.0, 66.5, 46.0, 33.5, 81.0, 55.…\n"
     ]
    }
   ],
   "source": [
    "#Splitting the dataset into training and testing data\n",
    "\n",
    "set.seed(2021)\n",
    "\n",
    "data_split <- initial_split(exams_data, prop = 0.75, strata = test_preparation_course)\n",
    "exam_train <- training(data_split)\n",
    "exam_test <- testing(data_split)\n",
    "\n",
    "glimpse(exam_train)"
   ]
  },
  {
   "cell_type": "markdown",
   "metadata": {},
   "source": [
    "In the cells above, the packages were loaded, the data was read tidied for easier handling in the future. Additionally, the dataset was split into training and testing data. "
   ]
  },
  {
   "cell_type": "code",
   "execution_count": 11,
   "metadata": {},
   "outputs": [
    {
     "data": {
      "text/plain": [
       "Data Recipe\n",
       "\n",
       "Inputs:\n",
       "\n",
       "      role #variables\n",
       "   outcome          1\n",
       " predictor          4\n",
       "\n",
       "Training data contained 901 data points and no missing data.\n",
       "\n",
       "Operations:\n",
       "\n",
       "Up-sampling based on test_preparation_course [trained]"
      ]
     },
     "metadata": {},
     "output_type": "display_data"
    },
    {
     "name": "stderr",
     "output_type": "stream",
     "text": [
      "`summarise()` ungrouping output (override with `.groups` argument)\n",
      "\n"
     ]
    },
    {
     "data": {
      "text/html": [
       "<table>\n",
       "<caption>A tibble: 2 × 2</caption>\n",
       "<thead>\n",
       "\t<tr><th scope=col>test_preparation_course</th><th scope=col>n</th></tr>\n",
       "\t<tr><th scope=col>&lt;fct&gt;</th><th scope=col>&lt;int&gt;</th></tr>\n",
       "</thead>\n",
       "<tbody>\n",
       "\t<tr><td>completed</td><td>592</td></tr>\n",
       "\t<tr><td>none     </td><td>592</td></tr>\n",
       "</tbody>\n",
       "</table>\n"
      ],
      "text/latex": [
       "A tibble: 2 × 2\n",
       "\\begin{tabular}{ll}\n",
       " test\\_preparation\\_course & n\\\\\n",
       " <fct> & <int>\\\\\n",
       "\\hline\n",
       "\t completed & 592\\\\\n",
       "\t none      & 592\\\\\n",
       "\\end{tabular}\n"
      ],
      "text/markdown": [
       "\n",
       "A tibble: 2 × 2\n",
       "\n",
       "| test_preparation_course &lt;fct&gt; | n &lt;int&gt; |\n",
       "|---|---|\n",
       "| completed | 592 |\n",
       "| none      | 592 |\n",
       "\n"
      ],
      "text/plain": [
       "  test_preparation_course n  \n",
       "1 completed               592\n",
       "2 none                    592"
      ]
     },
     "metadata": {},
     "output_type": "display_data"
    },
    {
     "data": {
      "text/html": [
       "<table>\n",
       "<caption>A tibble: 1184 × 5</caption>\n",
       "<thead>\n",
       "\t<tr><th scope=col>math_score</th><th scope=col>reading_score</th><th scope=col>writing_score</th><th scope=col>avg_grade</th><th scope=col>test_preparation_course</th></tr>\n",
       "\t<tr><th scope=col>&lt;dbl&gt;</th><th scope=col>&lt;dbl&gt;</th><th scope=col>&lt;dbl&gt;</th><th scope=col>&lt;dbl&gt;</th><th scope=col>&lt;fct&gt;</th></tr>\n",
       "</thead>\n",
       "<tbody>\n",
       "\t<tr><td>84</td><td>84</td><td>80</td><td>82.0</td><td>completed</td></tr>\n",
       "\t<tr><td>57</td><td>53</td><td>56</td><td>56.5</td><td>completed</td></tr>\n",
       "\t<tr><td>73</td><td>72</td><td>88</td><td>80.5</td><td>completed</td></tr>\n",
       "\t<tr><td>41</td><td>53</td><td>60</td><td>50.5</td><td>completed</td></tr>\n",
       "\t<tr><td>86</td><td>84</td><td>86</td><td>86.0</td><td>completed</td></tr>\n",
       "\t<tr><td>⋮</td><td>⋮</td><td>⋮</td><td>⋮</td><td>⋮</td></tr>\n",
       "\t<tr><td>73</td><td>70</td><td>71</td><td>72</td><td>none</td></tr>\n",
       "\t<tr><td>56</td><td>66</td><td>62</td><td>59</td><td>none</td></tr>\n",
       "\t<tr><td>58</td><td>57</td><td>58</td><td>58</td><td>none</td></tr>\n",
       "\t<tr><td>43</td><td>48</td><td>45</td><td>44</td><td>none</td></tr>\n",
       "\t<tr><td>51</td><td>51</td><td>57</td><td>54</td><td>none</td></tr>\n",
       "</tbody>\n",
       "</table>\n"
      ],
      "text/latex": [
       "A tibble: 1184 × 5\n",
       "\\begin{tabular}{lllll}\n",
       " math\\_score & reading\\_score & writing\\_score & avg\\_grade & test\\_preparation\\_course\\\\\n",
       " <dbl> & <dbl> & <dbl> & <dbl> & <fct>\\\\\n",
       "\\hline\n",
       "\t 84 & 84 & 80 & 82.0 & completed\\\\\n",
       "\t 57 & 53 & 56 & 56.5 & completed\\\\\n",
       "\t 73 & 72 & 88 & 80.5 & completed\\\\\n",
       "\t 41 & 53 & 60 & 50.5 & completed\\\\\n",
       "\t 86 & 84 & 86 & 86.0 & completed\\\\\n",
       "\t ⋮ & ⋮ & ⋮ & ⋮ & ⋮\\\\\n",
       "\t 73 & 70 & 71 & 72 & none\\\\\n",
       "\t 56 & 66 & 62 & 59 & none\\\\\n",
       "\t 58 & 57 & 58 & 58 & none\\\\\n",
       "\t 43 & 48 & 45 & 44 & none\\\\\n",
       "\t 51 & 51 & 57 & 54 & none\\\\\n",
       "\\end{tabular}\n"
      ],
      "text/markdown": [
       "\n",
       "A tibble: 1184 × 5\n",
       "\n",
       "| math_score &lt;dbl&gt; | reading_score &lt;dbl&gt; | writing_score &lt;dbl&gt; | avg_grade &lt;dbl&gt; | test_preparation_course &lt;fct&gt; |\n",
       "|---|---|---|---|---|\n",
       "| 84 | 84 | 80 | 82.0 | completed |\n",
       "| 57 | 53 | 56 | 56.5 | completed |\n",
       "| 73 | 72 | 88 | 80.5 | completed |\n",
       "| 41 | 53 | 60 | 50.5 | completed |\n",
       "| 86 | 84 | 86 | 86.0 | completed |\n",
       "| ⋮ | ⋮ | ⋮ | ⋮ | ⋮ |\n",
       "| 73 | 70 | 71 | 72 | none |\n",
       "| 56 | 66 | 62 | 59 | none |\n",
       "| 58 | 57 | 58 | 58 | none |\n",
       "| 43 | 48 | 45 | 44 | none |\n",
       "| 51 | 51 | 57 | 54 | none |\n",
       "\n"
      ],
      "text/plain": [
       "     math_score reading_score writing_score avg_grade test_preparation_course\n",
       "1    84         84            80            82.0      completed              \n",
       "2    57         53            56            56.5      completed              \n",
       "3    73         72            88            80.5      completed              \n",
       "4    41         53            60            50.5      completed              \n",
       "5    86         84            86            86.0      completed              \n",
       "⋮    ⋮          ⋮             ⋮             ⋮         ⋮                      \n",
       "1180 73         70            71            72        none                   \n",
       "1181 56         66            62            59        none                   \n",
       "1182 58         57            58            58        none                   \n",
       "1183 43         48            45            44        none                   \n",
       "1184 51         51            57            54        none                   "
      ]
     },
     "metadata": {},
     "output_type": "display_data"
    }
   ],
   "source": [
    "exam_recipe <- recipe(test_preparation_course ~ ., data = exam_train)%>% \n",
    "  step_upsample(test_preparation_course, over_ratio = 1, skip = FALSE)%>%\n",
    "  prep() \n",
    "exam_recipe\n",
    "\n",
    "upsampled_exam <- bake(exam_recipe, exam_train)\n",
    "\n",
    "upsampled_exam %>%\n",
    "  group_by(test_preparation_course) %>%\n",
    "  summarize(n = n())\n",
    "upsampled_exam"
   ]
  },
  {
   "cell_type": "markdown",
   "metadata": {},
   "source": [
    "A class imbalance was present in our data. Students who did not take the test preparation course were more common than those who did. For this reason, the data was balanced using the code above."
   ]
  },
  {
   "cell_type": "code",
   "execution_count": null,
   "metadata": {},
   "outputs": [],
   "source": [
    "#Determine the average score of all the exams for students who have completed the test prep course and those who haven't\n",
    "\n",
    "predictor_means <- exam_train%>%\n",
    "    group_by(test_preparation_course)%>%\n",
    "    summarize(\n",
    "        math_score_average=mean(math_score),\n",
    "        writing_score_average=mean(writing_score),\n",
    "        reading_score_average=mean(reading_score),\n",
    "        total_average_score=mean(avg_grade)\n",
    "    )\n",
    "predictor_means\n",
    "\n",
    "num_obs <- nrow(exam_train)\n",
    "exam_train %>%\n",
    "  group_by(test_preparation_course) %>%\n",
    "  summarize(\n",
    "    count = n(),\n",
    "    percentage = n() / num_obs * 100\n",
    "  )\n",
    "num_obs"
   ]
  },
  {
   "cell_type": "code",
   "execution_count": null,
   "metadata": {},
   "outputs": [],
   "source": [
    "Pairwise_Matrix <- ggpairs(exam_train, title = \"Pairwise Matrix Plot\", \n",
    "                           aes(alpha = 0.2, color = test_preparation_course))\n",
    "Pairwise_Matrix"
   ]
  },
  {
   "cell_type": "markdown",
   "metadata": {},
   "source": [
    "The final step of our exploratory data analysis was to create two tables and a matrix plot. The first table summarized the averages of our predictor variables, and the second outlines the number of observations in each class. The plot above allows for easy comparison of the distributions of each predictor variable."
   ]
  },
  {
   "cell_type": "markdown",
   "metadata": {},
   "source": [
    "### Methods:"
   ]
  },
  {
   "cell_type": "markdown",
   "metadata": {},
   "source": [
    "Our data analysis will be conducted using the K nearest neighbor classification algorithm. The predictors used will be the quantitative variables of the math, reading, writing, and average exam scores. The model specification will be created, then passed through a fit function to ensure our model fits the data set. Before scaling and centering the data, cross-validation would be applied to ensure that no selection bias is present. After scaling and centering, a prediction could be made on the new observation. Training data would be used to build the classifier and testing data would be used to estimate the model’s accuracy. Lastly, the model would be retrained with the testing data.\n",
    "\n",
    "Based on the distribution plots in the Pairwise Matrix Plot above, the math, writing, reading and average exam scores were chosen as predictors. The red peak, representative of the students who completed the test preparation course, shows higher scores for every exam compared to students who did not complete the test preparation course.\n",
    "\n",
    "Two decision boundary plots will be created for our visualization. The first would have the math score on the x-axis, and the writing score on the y-axis. The second plot would have the reading score on the x-axis, and the writing score on the y-axis.\n"
   ]
  },
  {
   "cell_type": "markdown",
   "metadata": {},
   "source": [
    "### Expected outcomes and significance"
   ]
  },
  {
   "cell_type": "markdown",
   "metadata": {},
   "source": [
    "Our model predicted whether a student attended a test prep course based on their scores over the math, reading, and writing exams. It was expected that there would be a correlation between high exam scores and completion of test preparation classes. This would determine the effectiveness of the test preparation course in students’ performance. Based on the results of this analysis, future projects could examine the impact of the test preparation courses compared to self-studying methods in students. "
   ]
  }
 ],
 "metadata": {
  "kernelspec": {
   "display_name": "R",
   "language": "R",
   "name": "ir"
  },
  "language_info": {
   "codemirror_mode": "r",
   "file_extension": ".r",
   "mimetype": "text/x-r-source",
   "name": "R",
   "pygments_lexer": "r",
   "version": "4.0.0"
  }
 },
 "nbformat": 4,
 "nbformat_minor": 4
}
