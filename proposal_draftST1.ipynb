{
 "cells": [
  {
   "cell_type": "markdown",
   "metadata": {},
   "source": [
    "# Title:-------"
   ]
  },
  {
   "cell_type": "markdown",
   "metadata": {},
   "source": [
    "Specific expectations for the proposal:\n",
    "Each group is expected to prepare a 1 page (max 500 words) written proposal that identifies the dataset they plan to work on, as well as the question they would like to answer using that dataset for their group project. The proposal should be done in a Jupyter notebook, and then submitted both as an .html file (File -> Download As -> HTML) and an .ipynb file that is reproducible (i.e. works and runs without any additional files.)"
   ]
  },
  {
   "cell_type": "markdown",
   "metadata": {},
   "source": [
    "how do we know if the .ipynb file is reproducible? "
   ]
  },
  {
   "cell_type": "markdown",
   "metadata": {},
   "source": [
    "### Introduction: "
   ]
  },
  {
   "cell_type": "markdown",
   "metadata": {},
   "source": [
    "There are many different test prep classes out there and at varying prices. these test prep courses all claim to help improve students' marks. \n",
    "\n",
    "Predictive Question: Can we use the exam scores of students to predict whether or not they attended a test preparation course?\n",
    "\n",
    "To determine if a student took a test prep course based off there marks from 3 exams we will use the data set `all_exams.csv`. The data set contains information about US high school students, and consists of the students gender, race/ethnicity, parental level of education, lunch, test preparation course attendance and  the students' marks for 3 exams in math, reading and writing. \n",
    "\n",
    "In the `making_dataset.ipynb` file\n",
    "We increased the size of the sample by combining the files we downloaded because the data is generated spontaneously. We combined 3 data sets to get our data set that we will be working on with a sample size of 1200. We made a larger sample because it may result in higher accuracies, since our model will get to be familiar with more examples."
   ]
  },
  {
   "cell_type": "markdown",
   "metadata": {},
   "source": [
    "**things needed in the Introduction:**\n",
    "Provide some relevant background information on the topic so that someone unfamiliar with it will be prepared to understand the rest of your proposal\n",
    "Clearly state the question you will try to answer with your project\n",
    "Identify and describe the dataset that will be used to answer the question"
   ]
  },
  {
   "cell_type": "markdown",
   "metadata": {},
   "source": [
    "### Primary Exploratory Data Analysis:"
   ]
  },
  {
   "cell_type": "markdown",
   "metadata": {},
   "source": [
    "**include:**\n",
    "\n",
    "Demonstrate that the dataset can be read from the web into R \n",
    "Clean and wrangle your data into a tidy format\n",
    "Using only training data, summarize the data in at least one table (this is exploratory data analysis). An example of a useful table could be one that reports the number of observations in each class, the means of the predictor variables you plan to use in your analysis and how many rows have missing data. \n",
    "Using only training data, visualize the data with at least one plot relevant to the analysis you plan to do (this is exploratory data analysis). An example of a useful visualization could be one that compares the distributions of each of the predictor variables you plan to use in your analysis."
   ]
  },
  {
   "cell_type": "code",
   "execution_count": 1,
   "metadata": {},
   "outputs": [],
   "source": [
    "#read dataset from the wed "
   ]
  },
  {
   "cell_type": "code",
   "execution_count": 2,
   "metadata": {},
   "outputs": [],
   "source": [
    "#clean and wrangle data\n",
    "#select for only exam marks and prep class"
   ]
  },
  {
   "cell_type": "code",
   "execution_count": null,
   "metadata": {},
   "outputs": [],
   "source": []
  },
  {
   "cell_type": "code",
   "execution_count": 2,
   "metadata": {
    "scrolled": true
   },
   "outputs": [
    {
     "name": "stderr",
     "output_type": "stream",
     "text": [
      "── \u001b[1mAttaching packages\u001b[22m ─────────────────────────────────────── tidyverse 1.3.0 ──\n",
      "\n",
      "\u001b[32m✔\u001b[39m \u001b[34mggplot2\u001b[39m 3.3.2     \u001b[32m✔\u001b[39m \u001b[34mpurrr  \u001b[39m 0.3.4\n",
      "\u001b[32m✔\u001b[39m \u001b[34mtibble \u001b[39m 3.0.3     \u001b[32m✔\u001b[39m \u001b[34mdplyr  \u001b[39m 1.0.2\n",
      "\u001b[32m✔\u001b[39m \u001b[34mtidyr  \u001b[39m 1.1.2     \u001b[32m✔\u001b[39m \u001b[34mstringr\u001b[39m 1.4.0\n",
      "\u001b[32m✔\u001b[39m \u001b[34mreadr  \u001b[39m 1.3.1     \u001b[32m✔\u001b[39m \u001b[34mforcats\u001b[39m 0.5.0\n",
      "\n",
      "Warning message:\n",
      "“package ‘ggplot2’ was built under R version 4.0.1”\n",
      "Warning message:\n",
      "“package ‘tibble’ was built under R version 4.0.2”\n",
      "Warning message:\n",
      "“package ‘tidyr’ was built under R version 4.0.2”\n",
      "Warning message:\n",
      "“package ‘dplyr’ was built under R version 4.0.2”\n",
      "── \u001b[1mConflicts\u001b[22m ────────────────────────────────────────── tidyverse_conflicts() ──\n",
      "\u001b[31m✖\u001b[39m \u001b[34mdplyr\u001b[39m::\u001b[32mfilter()\u001b[39m masks \u001b[34mstats\u001b[39m::filter()\n",
      "\u001b[31m✖\u001b[39m \u001b[34mdplyr\u001b[39m::\u001b[32mlag()\u001b[39m    masks \u001b[34mstats\u001b[39m::lag()\n",
      "\n",
      "Warning message:\n",
      "“Missing column names filled in: 'X1' [1]”\n",
      "Parsed with column specification:\n",
      "cols(\n",
      "  X1 = \u001b[32mcol_double()\u001b[39m,\n",
      "  gender = \u001b[31mcol_character()\u001b[39m,\n",
      "  `race/ethnicity` = \u001b[31mcol_character()\u001b[39m,\n",
      "  `parental level of education` = \u001b[31mcol_character()\u001b[39m,\n",
      "  lunch = \u001b[31mcol_character()\u001b[39m,\n",
      "  `test preparation course` = \u001b[31mcol_character()\u001b[39m,\n",
      "  `math score` = \u001b[32mcol_double()\u001b[39m,\n",
      "  `reading score` = \u001b[32mcol_double()\u001b[39m,\n",
      "  `writing score` = \u001b[32mcol_double()\u001b[39m\n",
      ")\n",
      "\n"
     ]
    },
    {
     "data": {
      "text/html": [
       "<table>\n",
       "<caption>A spec_tbl_df: 1200 × 9</caption>\n",
       "<thead>\n",
       "\t<tr><th scope=col>X1</th><th scope=col>gender</th><th scope=col>race/ethnicity</th><th scope=col>parental level of education</th><th scope=col>lunch</th><th scope=col>test preparation course</th><th scope=col>math score</th><th scope=col>reading score</th><th scope=col>writing score</th></tr>\n",
       "\t<tr><th scope=col>&lt;dbl&gt;</th><th scope=col>&lt;chr&gt;</th><th scope=col>&lt;chr&gt;</th><th scope=col>&lt;chr&gt;</th><th scope=col>&lt;chr&gt;</th><th scope=col>&lt;chr&gt;</th><th scope=col>&lt;dbl&gt;</th><th scope=col>&lt;dbl&gt;</th><th scope=col>&lt;dbl&gt;</th></tr>\n",
       "</thead>\n",
       "<tbody>\n",
       "\t<tr><td>1</td><td>male  </td><td>group D</td><td>some college      </td><td>standard    </td><td>none     </td><td>69</td><td>63</td><td>62</td></tr>\n",
       "\t<tr><td>2</td><td>female</td><td>group E</td><td>bachelor's degree </td><td>free/reduced</td><td>completed</td><td>65</td><td>78</td><td>80</td></tr>\n",
       "\t<tr><td>3</td><td>female</td><td>group C</td><td>some high school  </td><td>standard    </td><td>none     </td><td>57</td><td>56</td><td>59</td></tr>\n",
       "\t<tr><td>4</td><td>female</td><td>group D</td><td>associate's degree</td><td>free/reduced</td><td>none     </td><td>62</td><td>73</td><td>71</td></tr>\n",
       "\t<tr><td>5</td><td>male  </td><td>group C</td><td>some college      </td><td>free/reduced</td><td>none     </td><td>46</td><td>52</td><td>46</td></tr>\n",
       "\t<tr><td>⋮</td><td>⋮</td><td>⋮</td><td>⋮</td><td>⋮</td><td>⋮</td><td>⋮</td><td>⋮</td><td>⋮</td></tr>\n",
       "\t<tr><td>1196</td><td>male  </td><td>group C</td><td>associate's degree</td><td>standard    </td><td>completed</td><td>65</td><td>63</td><td>62</td></tr>\n",
       "\t<tr><td>1197</td><td>female</td><td>group C</td><td>some high school  </td><td>standard    </td><td>none     </td><td>69</td><td>74</td><td>68</td></tr>\n",
       "\t<tr><td>1198</td><td>female</td><td>group D</td><td>some college      </td><td>free/reduced</td><td>none     </td><td>43</td><td>48</td><td>45</td></tr>\n",
       "\t<tr><td>1199</td><td>female</td><td>group B</td><td>some college      </td><td>standard    </td><td>none     </td><td>51</td><td>51</td><td>57</td></tr>\n",
       "\t<tr><td>1200</td><td>female</td><td>group B</td><td>some college      </td><td>standard    </td><td>completed</td><td>73</td><td>81</td><td>90</td></tr>\n",
       "</tbody>\n",
       "</table>\n"
      ],
      "text/latex": [
       "A spec\\_tbl\\_df: 1200 × 9\n",
       "\\begin{tabular}{lllllllll}\n",
       " X1 & gender & race/ethnicity & parental level of education & lunch & test preparation course & math score & reading score & writing score\\\\\n",
       " <dbl> & <chr> & <chr> & <chr> & <chr> & <chr> & <dbl> & <dbl> & <dbl>\\\\\n",
       "\\hline\n",
       "\t 1 & male   & group D & some college       & standard     & none      & 69 & 63 & 62\\\\\n",
       "\t 2 & female & group E & bachelor's degree  & free/reduced & completed & 65 & 78 & 80\\\\\n",
       "\t 3 & female & group C & some high school   & standard     & none      & 57 & 56 & 59\\\\\n",
       "\t 4 & female & group D & associate's degree & free/reduced & none      & 62 & 73 & 71\\\\\n",
       "\t 5 & male   & group C & some college       & free/reduced & none      & 46 & 52 & 46\\\\\n",
       "\t ⋮ & ⋮ & ⋮ & ⋮ & ⋮ & ⋮ & ⋮ & ⋮ & ⋮\\\\\n",
       "\t 1196 & male   & group C & associate's degree & standard     & completed & 65 & 63 & 62\\\\\n",
       "\t 1197 & female & group C & some high school   & standard     & none      & 69 & 74 & 68\\\\\n",
       "\t 1198 & female & group D & some college       & free/reduced & none      & 43 & 48 & 45\\\\\n",
       "\t 1199 & female & group B & some college       & standard     & none      & 51 & 51 & 57\\\\\n",
       "\t 1200 & female & group B & some college       & standard     & completed & 73 & 81 & 90\\\\\n",
       "\\end{tabular}\n"
      ],
      "text/markdown": [
       "\n",
       "A spec_tbl_df: 1200 × 9\n",
       "\n",
       "| X1 &lt;dbl&gt; | gender &lt;chr&gt; | race/ethnicity &lt;chr&gt; | parental level of education &lt;chr&gt; | lunch &lt;chr&gt; | test preparation course &lt;chr&gt; | math score &lt;dbl&gt; | reading score &lt;dbl&gt; | writing score &lt;dbl&gt; |\n",
       "|---|---|---|---|---|---|---|---|---|\n",
       "| 1 | male   | group D | some college       | standard     | none      | 69 | 63 | 62 |\n",
       "| 2 | female | group E | bachelor's degree  | free/reduced | completed | 65 | 78 | 80 |\n",
       "| 3 | female | group C | some high school   | standard     | none      | 57 | 56 | 59 |\n",
       "| 4 | female | group D | associate's degree | free/reduced | none      | 62 | 73 | 71 |\n",
       "| 5 | male   | group C | some college       | free/reduced | none      | 46 | 52 | 46 |\n",
       "| ⋮ | ⋮ | ⋮ | ⋮ | ⋮ | ⋮ | ⋮ | ⋮ | ⋮ |\n",
       "| 1196 | male   | group C | associate's degree | standard     | completed | 65 | 63 | 62 |\n",
       "| 1197 | female | group C | some high school   | standard     | none      | 69 | 74 | 68 |\n",
       "| 1198 | female | group D | some college       | free/reduced | none      | 43 | 48 | 45 |\n",
       "| 1199 | female | group B | some college       | standard     | none      | 51 | 51 | 57 |\n",
       "| 1200 | female | group B | some college       | standard     | completed | 73 | 81 | 90 |\n",
       "\n"
      ],
      "text/plain": [
       "     X1   gender race/ethnicity parental level of education lunch       \n",
       "1    1    male   group D        some college                standard    \n",
       "2    2    female group E        bachelor's degree           free/reduced\n",
       "3    3    female group C        some high school            standard    \n",
       "4    4    female group D        associate's degree          free/reduced\n",
       "5    5    male   group C        some college                free/reduced\n",
       "⋮    ⋮    ⋮      ⋮              ⋮                           ⋮           \n",
       "1196 1196 male   group C        associate's degree          standard    \n",
       "1197 1197 female group C        some high school            standard    \n",
       "1198 1198 female group D        some college                free/reduced\n",
       "1199 1199 female group B        some college                standard    \n",
       "1200 1200 female group B        some college                standard    \n",
       "     test preparation course math score reading score writing score\n",
       "1    none                    69         63            62           \n",
       "2    completed               65         78            80           \n",
       "3    none                    57         56            59           \n",
       "4    none                    62         73            71           \n",
       "5    none                    46         52            46           \n",
       "⋮    ⋮                       ⋮          ⋮             ⋮            \n",
       "1196 completed               65         63            62           \n",
       "1197 none                    69         74            68           \n",
       "1198 none                    43         48            45           \n",
       "1199 none                    51         51            57           \n",
       "1200 completed               73         81            90           "
      ]
     },
     "metadata": {},
     "output_type": "display_data"
    }
   ],
   "source": [
    "library(tidyverse)\n",
    "options(repr.matrix.max.rows = 10)\n",
    "all_exams<-read_csv(\"GP_data/all_exams.csv\")\n",
    "all_exams"
   ]
  },
  {
   "cell_type": "markdown",
   "metadata": {},
   "source": [
    "The data looks tidy to other than fixing the column names so the spaces b/w wrods are _ instead. this will make maniputlating the data easier in future anaylsis. I did think we could do pivot longer and make a scores varible but the the obervation pre student would be spread out acorss 3 rows which not tidy. and should change all the chr data types to factors so it will be easier to work with in the futrue and don't have to worry about it later on. dbl data type of the scores is reasonable and we are going to remove X1 from the df b/c not usful so data type doesn't matter.\n",
    "\n",
    "**if anyone else see something untidy fix it**"
   ]
  },
  {
   "cell_type": "code",
   "execution_count": 4,
   "metadata": {},
   "outputs": [],
   "source": [
    "#expoloratory data analysis lets find out the number of student in each category of preparation course column \n",
    "#first we should change column names so that there ar _ instead of spaces so they are easier to use\n",
    "#and we should remove the X1 column \n",
    "#we could look at what demographic of students attend the test prep (based on lunch or parent level eductation, gender?)\n",
    "#look at students who did above average what there parents level of education is or see there lunch(If house hold can't \n",
    "#afford food that is stressful so may effect scores )\n"
   ]
  },
  {
   "cell_type": "code",
   "execution_count": 3,
   "metadata": {
    "scrolled": true
   },
   "outputs": [
    {
     "data": {
      "text/html": [
       "<style>\n",
       ".list-inline {list-style: none; margin:0; padding: 0}\n",
       ".list-inline>li {display: inline-block}\n",
       ".list-inline>li:not(:last-child)::after {content: \"\\00b7\"; padding: 0 .5ex}\n",
       "</style>\n",
       "<ol class=list-inline><li>'X1'</li><li>'gender'</li><li>'race/ethnicity'</li><li>'parental level of education'</li><li>'lunch'</li><li>'test preparation course'</li><li>'math score'</li><li>'reading score'</li><li>'writing score'</li></ol>\n"
      ],
      "text/latex": [
       "\\begin{enumerate*}\n",
       "\\item 'X1'\n",
       "\\item 'gender'\n",
       "\\item 'race/ethnicity'\n",
       "\\item 'parental level of education'\n",
       "\\item 'lunch'\n",
       "\\item 'test preparation course'\n",
       "\\item 'math score'\n",
       "\\item 'reading score'\n",
       "\\item 'writing score'\n",
       "\\end{enumerate*}\n"
      ],
      "text/markdown": [
       "1. 'X1'\n",
       "2. 'gender'\n",
       "3. 'race/ethnicity'\n",
       "4. 'parental level of education'\n",
       "5. 'lunch'\n",
       "6. 'test preparation course'\n",
       "7. 'math score'\n",
       "8. 'reading score'\n",
       "9. 'writing score'\n",
       "\n",
       "\n"
      ],
      "text/plain": [
       "[1] \"X1\"                          \"gender\"                     \n",
       "[3] \"race/ethnicity\"              \"parental level of education\"\n",
       "[5] \"lunch\"                       \"test preparation course\"    \n",
       "[7] \"math score\"                  \"reading score\"              \n",
       "[9] \"writing score\"              "
      ]
     },
     "metadata": {},
     "output_type": "display_data"
    }
   ],
   "source": [
    "#to get the list of column names, easier to copy and past \n",
    "colnames(all_exams) "
   ]
  },
  {
   "cell_type": "code",
   "execution_count": 5,
   "metadata": {
    "scrolled": true
   },
   "outputs": [
    {
     "data": {
      "text/html": [
       "<table>\n",
       "<caption>A spec_tbl_df: 1200 × 9</caption>\n",
       "<thead>\n",
       "\t<tr><th scope=col>X1</th><th scope=col>gender</th><th scope=col>race_ethnicity</th><th scope=col>parental_level_of_education</th><th scope=col>lunch</th><th scope=col>test_preparation_course</th><th scope=col>math_score</th><th scope=col>reading_score</th><th scope=col>writing_score</th></tr>\n",
       "\t<tr><th scope=col>&lt;dbl&gt;</th><th scope=col>&lt;chr&gt;</th><th scope=col>&lt;chr&gt;</th><th scope=col>&lt;chr&gt;</th><th scope=col>&lt;chr&gt;</th><th scope=col>&lt;chr&gt;</th><th scope=col>&lt;dbl&gt;</th><th scope=col>&lt;dbl&gt;</th><th scope=col>&lt;dbl&gt;</th></tr>\n",
       "</thead>\n",
       "<tbody>\n",
       "\t<tr><td>1</td><td>male  </td><td>group D</td><td>some college      </td><td>standard    </td><td>none     </td><td>69</td><td>63</td><td>62</td></tr>\n",
       "\t<tr><td>2</td><td>female</td><td>group E</td><td>bachelor's degree </td><td>free/reduced</td><td>completed</td><td>65</td><td>78</td><td>80</td></tr>\n",
       "\t<tr><td>3</td><td>female</td><td>group C</td><td>some high school  </td><td>standard    </td><td>none     </td><td>57</td><td>56</td><td>59</td></tr>\n",
       "\t<tr><td>4</td><td>female</td><td>group D</td><td>associate's degree</td><td>free/reduced</td><td>none     </td><td>62</td><td>73</td><td>71</td></tr>\n",
       "\t<tr><td>5</td><td>male  </td><td>group C</td><td>some college      </td><td>free/reduced</td><td>none     </td><td>46</td><td>52</td><td>46</td></tr>\n",
       "\t<tr><td>⋮</td><td>⋮</td><td>⋮</td><td>⋮</td><td>⋮</td><td>⋮</td><td>⋮</td><td>⋮</td><td>⋮</td></tr>\n",
       "\t<tr><td>1196</td><td>male  </td><td>group C</td><td>associate's degree</td><td>standard    </td><td>completed</td><td>65</td><td>63</td><td>62</td></tr>\n",
       "\t<tr><td>1197</td><td>female</td><td>group C</td><td>some high school  </td><td>standard    </td><td>none     </td><td>69</td><td>74</td><td>68</td></tr>\n",
       "\t<tr><td>1198</td><td>female</td><td>group D</td><td>some college      </td><td>free/reduced</td><td>none     </td><td>43</td><td>48</td><td>45</td></tr>\n",
       "\t<tr><td>1199</td><td>female</td><td>group B</td><td>some college      </td><td>standard    </td><td>none     </td><td>51</td><td>51</td><td>57</td></tr>\n",
       "\t<tr><td>1200</td><td>female</td><td>group B</td><td>some college      </td><td>standard    </td><td>completed</td><td>73</td><td>81</td><td>90</td></tr>\n",
       "</tbody>\n",
       "</table>\n"
      ],
      "text/latex": [
       "A spec\\_tbl\\_df: 1200 × 9\n",
       "\\begin{tabular}{lllllllll}\n",
       " X1 & gender & race\\_ethnicity & parental\\_level\\_of\\_education & lunch & test\\_preparation\\_course & math\\_score & reading\\_score & writing\\_score\\\\\n",
       " <dbl> & <chr> & <chr> & <chr> & <chr> & <chr> & <dbl> & <dbl> & <dbl>\\\\\n",
       "\\hline\n",
       "\t 1 & male   & group D & some college       & standard     & none      & 69 & 63 & 62\\\\\n",
       "\t 2 & female & group E & bachelor's degree  & free/reduced & completed & 65 & 78 & 80\\\\\n",
       "\t 3 & female & group C & some high school   & standard     & none      & 57 & 56 & 59\\\\\n",
       "\t 4 & female & group D & associate's degree & free/reduced & none      & 62 & 73 & 71\\\\\n",
       "\t 5 & male   & group C & some college       & free/reduced & none      & 46 & 52 & 46\\\\\n",
       "\t ⋮ & ⋮ & ⋮ & ⋮ & ⋮ & ⋮ & ⋮ & ⋮ & ⋮\\\\\n",
       "\t 1196 & male   & group C & associate's degree & standard     & completed & 65 & 63 & 62\\\\\n",
       "\t 1197 & female & group C & some high school   & standard     & none      & 69 & 74 & 68\\\\\n",
       "\t 1198 & female & group D & some college       & free/reduced & none      & 43 & 48 & 45\\\\\n",
       "\t 1199 & female & group B & some college       & standard     & none      & 51 & 51 & 57\\\\\n",
       "\t 1200 & female & group B & some college       & standard     & completed & 73 & 81 & 90\\\\\n",
       "\\end{tabular}\n"
      ],
      "text/markdown": [
       "\n",
       "A spec_tbl_df: 1200 × 9\n",
       "\n",
       "| X1 &lt;dbl&gt; | gender &lt;chr&gt; | race_ethnicity &lt;chr&gt; | parental_level_of_education &lt;chr&gt; | lunch &lt;chr&gt; | test_preparation_course &lt;chr&gt; | math_score &lt;dbl&gt; | reading_score &lt;dbl&gt; | writing_score &lt;dbl&gt; |\n",
       "|---|---|---|---|---|---|---|---|---|\n",
       "| 1 | male   | group D | some college       | standard     | none      | 69 | 63 | 62 |\n",
       "| 2 | female | group E | bachelor's degree  | free/reduced | completed | 65 | 78 | 80 |\n",
       "| 3 | female | group C | some high school   | standard     | none      | 57 | 56 | 59 |\n",
       "| 4 | female | group D | associate's degree | free/reduced | none      | 62 | 73 | 71 |\n",
       "| 5 | male   | group C | some college       | free/reduced | none      | 46 | 52 | 46 |\n",
       "| ⋮ | ⋮ | ⋮ | ⋮ | ⋮ | ⋮ | ⋮ | ⋮ | ⋮ |\n",
       "| 1196 | male   | group C | associate's degree | standard     | completed | 65 | 63 | 62 |\n",
       "| 1197 | female | group C | some high school   | standard     | none      | 69 | 74 | 68 |\n",
       "| 1198 | female | group D | some college       | free/reduced | none      | 43 | 48 | 45 |\n",
       "| 1199 | female | group B | some college       | standard     | none      | 51 | 51 | 57 |\n",
       "| 1200 | female | group B | some college       | standard     | completed | 73 | 81 | 90 |\n",
       "\n"
      ],
      "text/plain": [
       "     X1   gender race_ethnicity parental_level_of_education lunch       \n",
       "1    1    male   group D        some college                standard    \n",
       "2    2    female group E        bachelor's degree           free/reduced\n",
       "3    3    female group C        some high school            standard    \n",
       "4    4    female group D        associate's degree          free/reduced\n",
       "5    5    male   group C        some college                free/reduced\n",
       "⋮    ⋮    ⋮      ⋮              ⋮                           ⋮           \n",
       "1196 1196 male   group C        associate's degree          standard    \n",
       "1197 1197 female group C        some high school            standard    \n",
       "1198 1198 female group D        some college                free/reduced\n",
       "1199 1199 female group B        some college                standard    \n",
       "1200 1200 female group B        some college                standard    \n",
       "     test_preparation_course math_score reading_score writing_score\n",
       "1    none                    69         63            62           \n",
       "2    completed               65         78            80           \n",
       "3    none                    57         56            59           \n",
       "4    none                    62         73            71           \n",
       "5    none                    46         52            46           \n",
       "⋮    ⋮                       ⋮          ⋮             ⋮            \n",
       "1196 completed               65         63            62           \n",
       "1197 none                    69         74            68           \n",
       "1198 none                    43         48            45           \n",
       "1199 none                    51         51            57           \n",
       "1200 completed               73         81            90           "
      ]
     },
     "metadata": {},
     "output_type": "display_data"
    }
   ],
   "source": [
    "#first we should change column names so that there are _ instead of spaces so they are easier to work with\n",
    "colnames(all_exams)<-c(\"X1\", \"gender\", \"race_ethnicity\", \"parental_level_of_education\",\n",
    "\"lunch\", \"test_preparation_course\", \"math_score\", \"reading_score\", \"writing_score\")\n",
    "all_exams"
   ]
  },
  {
   "cell_type": "code",
   "execution_count": 6,
   "metadata": {
    "scrolled": true
   },
   "outputs": [
    {
     "data": {
      "text/html": [
       "<table>\n",
       "<caption>A tibble: 1200 × 8</caption>\n",
       "<thead>\n",
       "\t<tr><th scope=col>gender</th><th scope=col>race_ethnicity</th><th scope=col>parental_level_of_education</th><th scope=col>lunch</th><th scope=col>test_preparation_course</th><th scope=col>math_score</th><th scope=col>reading_score</th><th scope=col>writing_score</th></tr>\n",
       "\t<tr><th scope=col>&lt;fct&gt;</th><th scope=col>&lt;fct&gt;</th><th scope=col>&lt;fct&gt;</th><th scope=col>&lt;fct&gt;</th><th scope=col>&lt;fct&gt;</th><th scope=col>&lt;dbl&gt;</th><th scope=col>&lt;dbl&gt;</th><th scope=col>&lt;dbl&gt;</th></tr>\n",
       "</thead>\n",
       "<tbody>\n",
       "\t<tr><td>male  </td><td>group D</td><td>some college      </td><td>standard    </td><td>none     </td><td>69</td><td>63</td><td>62</td></tr>\n",
       "\t<tr><td>female</td><td>group E</td><td>bachelor's degree </td><td>free/reduced</td><td>completed</td><td>65</td><td>78</td><td>80</td></tr>\n",
       "\t<tr><td>female</td><td>group C</td><td>some high school  </td><td>standard    </td><td>none     </td><td>57</td><td>56</td><td>59</td></tr>\n",
       "\t<tr><td>female</td><td>group D</td><td>associate's degree</td><td>free/reduced</td><td>none     </td><td>62</td><td>73</td><td>71</td></tr>\n",
       "\t<tr><td>male  </td><td>group C</td><td>some college      </td><td>free/reduced</td><td>none     </td><td>46</td><td>52</td><td>46</td></tr>\n",
       "\t<tr><td>⋮</td><td>⋮</td><td>⋮</td><td>⋮</td><td>⋮</td><td>⋮</td><td>⋮</td><td>⋮</td></tr>\n",
       "\t<tr><td>male  </td><td>group C</td><td>associate's degree</td><td>standard    </td><td>completed</td><td>65</td><td>63</td><td>62</td></tr>\n",
       "\t<tr><td>female</td><td>group C</td><td>some high school  </td><td>standard    </td><td>none     </td><td>69</td><td>74</td><td>68</td></tr>\n",
       "\t<tr><td>female</td><td>group D</td><td>some college      </td><td>free/reduced</td><td>none     </td><td>43</td><td>48</td><td>45</td></tr>\n",
       "\t<tr><td>female</td><td>group B</td><td>some college      </td><td>standard    </td><td>none     </td><td>51</td><td>51</td><td>57</td></tr>\n",
       "\t<tr><td>female</td><td>group B</td><td>some college      </td><td>standard    </td><td>completed</td><td>73</td><td>81</td><td>90</td></tr>\n",
       "</tbody>\n",
       "</table>\n"
      ],
      "text/latex": [
       "A tibble: 1200 × 8\n",
       "\\begin{tabular}{llllllll}\n",
       " gender & race\\_ethnicity & parental\\_level\\_of\\_education & lunch & test\\_preparation\\_course & math\\_score & reading\\_score & writing\\_score\\\\\n",
       " <fct> & <fct> & <fct> & <fct> & <fct> & <dbl> & <dbl> & <dbl>\\\\\n",
       "\\hline\n",
       "\t male   & group D & some college       & standard     & none      & 69 & 63 & 62\\\\\n",
       "\t female & group E & bachelor's degree  & free/reduced & completed & 65 & 78 & 80\\\\\n",
       "\t female & group C & some high school   & standard     & none      & 57 & 56 & 59\\\\\n",
       "\t female & group D & associate's degree & free/reduced & none      & 62 & 73 & 71\\\\\n",
       "\t male   & group C & some college       & free/reduced & none      & 46 & 52 & 46\\\\\n",
       "\t ⋮ & ⋮ & ⋮ & ⋮ & ⋮ & ⋮ & ⋮ & ⋮\\\\\n",
       "\t male   & group C & associate's degree & standard     & completed & 65 & 63 & 62\\\\\n",
       "\t female & group C & some high school   & standard     & none      & 69 & 74 & 68\\\\\n",
       "\t female & group D & some college       & free/reduced & none      & 43 & 48 & 45\\\\\n",
       "\t female & group B & some college       & standard     & none      & 51 & 51 & 57\\\\\n",
       "\t female & group B & some college       & standard     & completed & 73 & 81 & 90\\\\\n",
       "\\end{tabular}\n"
      ],
      "text/markdown": [
       "\n",
       "A tibble: 1200 × 8\n",
       "\n",
       "| gender &lt;fct&gt; | race_ethnicity &lt;fct&gt; | parental_level_of_education &lt;fct&gt; | lunch &lt;fct&gt; | test_preparation_course &lt;fct&gt; | math_score &lt;dbl&gt; | reading_score &lt;dbl&gt; | writing_score &lt;dbl&gt; |\n",
       "|---|---|---|---|---|---|---|---|\n",
       "| male   | group D | some college       | standard     | none      | 69 | 63 | 62 |\n",
       "| female | group E | bachelor's degree  | free/reduced | completed | 65 | 78 | 80 |\n",
       "| female | group C | some high school   | standard     | none      | 57 | 56 | 59 |\n",
       "| female | group D | associate's degree | free/reduced | none      | 62 | 73 | 71 |\n",
       "| male   | group C | some college       | free/reduced | none      | 46 | 52 | 46 |\n",
       "| ⋮ | ⋮ | ⋮ | ⋮ | ⋮ | ⋮ | ⋮ | ⋮ |\n",
       "| male   | group C | associate's degree | standard     | completed | 65 | 63 | 62 |\n",
       "| female | group C | some high school   | standard     | none      | 69 | 74 | 68 |\n",
       "| female | group D | some college       | free/reduced | none      | 43 | 48 | 45 |\n",
       "| female | group B | some college       | standard     | none      | 51 | 51 | 57 |\n",
       "| female | group B | some college       | standard     | completed | 73 | 81 | 90 |\n",
       "\n"
      ],
      "text/plain": [
       "     gender race_ethnicity parental_level_of_education lunch       \n",
       "1    male   group D        some college                standard    \n",
       "2    female group E        bachelor's degree           free/reduced\n",
       "3    female group C        some high school            standard    \n",
       "4    female group D        associate's degree          free/reduced\n",
       "5    male   group C        some college                free/reduced\n",
       "⋮    ⋮      ⋮              ⋮                           ⋮           \n",
       "1196 male   group C        associate's degree          standard    \n",
       "1197 female group C        some high school            standard    \n",
       "1198 female group D        some college                free/reduced\n",
       "1199 female group B        some college                standard    \n",
       "1200 female group B        some college                standard    \n",
       "     test_preparation_course math_score reading_score writing_score\n",
       "1    none                    69         63            62           \n",
       "2    completed               65         78            80           \n",
       "3    none                    57         56            59           \n",
       "4    none                    62         73            71           \n",
       "5    none                    46         52            46           \n",
       "⋮    ⋮                       ⋮          ⋮             ⋮            \n",
       "1196 completed               65         63            62           \n",
       "1197 none                    69         74            68           \n",
       "1198 none                    43         48            45           \n",
       "1199 none                    51         51            57           \n",
       "1200 completed               73         81            90           "
      ]
     },
     "metadata": {},
     "output_type": "display_data"
    }
   ],
   "source": [
    "# remove the X1 column because it is not important \n",
    "#even though only care about the test_preparation_course, math_score, reading_score, writing_score for our question \n",
    "#keeping the other stuff incase we want to explore if they have any relationships\n",
    "\n",
    "#need to change all the chr data types to fct types. this will make the easier to work with  \n",
    "fct_exams<-select(all_exams, gender:writing_score)%>%\n",
    "mutate(across(gender:test_preparation_course, as.factor))\n",
    "fct_exams\n"
   ]
  },
  {
   "cell_type": "markdown",
   "metadata": {},
   "source": [
    "I don't know if we should remove anymore columns other than the X1 column because if we want a more accurate prediction we could use more predictor varibles and I don't want to limit our options "
   ]
  },
  {
   "cell_type": "code",
   "execution_count": 10,
   "metadata": {
    "scrolled": true
   },
   "outputs": [
    {
     "name": "stderr",
     "output_type": "stream",
     "text": [
      "`summarise()` ungrouping output (override with `.groups` argument)\n",
      "\n"
     ]
    },
    {
     "data": {
      "text/html": [
       "<table>\n",
       "<caption>A tibble: 2 × 2</caption>\n",
       "<thead>\n",
       "\t<tr><th scope=col>test_preparation_course</th><th scope=col>n</th></tr>\n",
       "\t<tr><th scope=col>&lt;fct&gt;</th><th scope=col>&lt;int&gt;</th></tr>\n",
       "</thead>\n",
       "<tbody>\n",
       "\t<tr><td>completed</td><td>411</td></tr>\n",
       "\t<tr><td>none     </td><td>789</td></tr>\n",
       "</tbody>\n",
       "</table>\n"
      ],
      "text/latex": [
       "A tibble: 2 × 2\n",
       "\\begin{tabular}{ll}\n",
       " test\\_preparation\\_course & n\\\\\n",
       " <fct> & <int>\\\\\n",
       "\\hline\n",
       "\t completed & 411\\\\\n",
       "\t none      & 789\\\\\n",
       "\\end{tabular}\n"
      ],
      "text/markdown": [
       "\n",
       "A tibble: 2 × 2\n",
       "\n",
       "| test_preparation_course &lt;fct&gt; | n &lt;int&gt; |\n",
       "|---|---|\n",
       "| completed | 411 |\n",
       "| none      | 789 |\n",
       "\n"
      ],
      "text/plain": [
       "  test_preparation_course n  \n",
       "1 completed               411\n",
       "2 none                    789"
      ]
     },
     "metadata": {},
     "output_type": "display_data"
    },
    {
     "data": {
      "image/png": "[encoded data removed]",
      "text/plain": [
       "plot without title"
      ]
     },
     "metadata": {
      "image/png": {
       "height": 420,
       "width": 420
      }
     },
     "output_type": "display_data"
    }
   ],
   "source": [
    "#do see the number of student in each category of test_preparation_course varible we can either group_by and summarize\n",
    "#or we can visulize it with a bar graph \n",
    "\n",
    "prep_exam<-fct_exams%>%\n",
    "group_by(test_preparation_course)%>%\n",
    "summarize(n=n())\n",
    "prep_exam\n",
    "\n",
    "plot_prep<-fct_exams%>%\n",
    "ggplot(aes(x=test_preparation_course))+\n",
    "geom_bar()+\n",
    "labs(x=\"test_preparation_course\", y=\"number of students\")\n",
    "plot_prep"
   ]
  },
  {
   "cell_type": "markdown",
   "metadata": {},
   "source": [
    "**overall there are more people who don't attend prep course which may effect our accuracy and prediction b/c there are less data on students who completed the prep course to train the model on so potenially less acurate prediction. (will this effect how the data is split???)**"
   ]
  },
  {
   "cell_type": "code",
   "execution_count": 11,
   "metadata": {},
   "outputs": [],
   "source": [
    "#obervation: more people didn't go the go \n",
    "#lets find out what students went based off test score, number of students that got above average score attendence "
   ]
  },
  {
   "cell_type": "code",
   "execution_count": 12,
   "metadata": {
    "scrolled": false
   },
   "outputs": [
    {
     "data": {
      "text/html": [
       "<table>\n",
       "<caption>A tibble: 1 × 1</caption>\n",
       "<thead>\n",
       "\t<tr><th scope=col>math_avg</th></tr>\n",
       "\t<tr><th scope=col>&lt;dbl&gt;</th></tr>\n",
       "</thead>\n",
       "<tbody>\n",
       "\t<tr><td>66.80833</td></tr>\n",
       "</tbody>\n",
       "</table>\n"
      ],
      "text/latex": [
       "A tibble: 1 × 1\n",
       "\\begin{tabular}{l}\n",
       " math\\_avg\\\\\n",
       " <dbl>\\\\\n",
       "\\hline\n",
       "\t 66.80833\\\\\n",
       "\\end{tabular}\n"
      ],
      "text/markdown": [
       "\n",
       "A tibble: 1 × 1\n",
       "\n",
       "| math_avg &lt;dbl&gt; |\n",
       "|---|\n",
       "| 66.80833 |\n",
       "\n"
      ],
      "text/plain": [
       "  math_avg\n",
       "1 66.80833"
      ]
     },
     "metadata": {},
     "output_type": "display_data"
    },
    {
     "data": {
      "text/html": [
       "<table>\n",
       "<caption>A tibble: 1 × 1</caption>\n",
       "<thead>\n",
       "\t<tr><th scope=col>writing_avg</th></tr>\n",
       "\t<tr><th scope=col>&lt;dbl&gt;</th></tr>\n",
       "</thead>\n",
       "<tbody>\n",
       "\t<tr><td>68.24083</td></tr>\n",
       "</tbody>\n",
       "</table>\n"
      ],
      "text/latex": [
       "A tibble: 1 × 1\n",
       "\\begin{tabular}{l}\n",
       " writing\\_avg\\\\\n",
       " <dbl>\\\\\n",
       "\\hline\n",
       "\t 68.24083\\\\\n",
       "\\end{tabular}\n"
      ],
      "text/markdown": [
       "\n",
       "A tibble: 1 × 1\n",
       "\n",
       "| writing_avg &lt;dbl&gt; |\n",
       "|---|\n",
       "| 68.24083 |\n",
       "\n"
      ],
      "text/plain": [
       "  writing_avg\n",
       "1 68.24083   "
      ]
     },
     "metadata": {},
     "output_type": "display_data"
    },
    {
     "data": {
      "text/html": [
       "<table>\n",
       "<caption>A tibble: 1 × 1</caption>\n",
       "<thead>\n",
       "\t<tr><th scope=col>reading_avg</th></tr>\n",
       "\t<tr><th scope=col>&lt;dbl&gt;</th></tr>\n",
       "</thead>\n",
       "<tbody>\n",
       "\t<tr><td>69.4425</td></tr>\n",
       "</tbody>\n",
       "</table>\n"
      ],
      "text/latex": [
       "A tibble: 1 × 1\n",
       "\\begin{tabular}{l}\n",
       " reading\\_avg\\\\\n",
       " <dbl>\\\\\n",
       "\\hline\n",
       "\t 69.4425\\\\\n",
       "\\end{tabular}\n"
      ],
      "text/markdown": [
       "\n",
       "A tibble: 1 × 1\n",
       "\n",
       "| reading_avg &lt;dbl&gt; |\n",
       "|---|\n",
       "| 69.4425 |\n",
       "\n"
      ],
      "text/plain": [
       "  reading_avg\n",
       "1 69.4425    "
      ]
     },
     "metadata": {},
     "output_type": "display_data"
    }
   ],
   "source": [
    "math_avg<-fct_exams%>%\n",
    "summarize(math_avg=mean(math_score))\n",
    "math_avg\n",
    "write_avg<-fct_exams%>%\n",
    "summarize(writing_avg=mean(writing_score))\n",
    "write_avg\n",
    "read_avg<-fct_exams%>%\n",
    "summarize(reading_avg=mean(reading_score))\n",
    "read_avg"
   ]
  },
  {
   "cell_type": "markdown",
   "metadata": {},
   "source": [
    "the avg's for the exams are quit similar\n",
    "**could make line on histogram indicating mean**"
   ]
  },
  {
   "cell_type": "code",
   "execution_count": 27,
   "metadata": {
    "scrolled": true
   },
   "outputs": [
    {
     "name": "stderr",
     "output_type": "stream",
     "text": [
      "`summarise()` ungrouping output (override with `.groups` argument)\n",
      "\n"
     ]
    },
    {
     "data": {
      "text/html": [
       "<table>\n",
       "<caption>A tibble: 2 × 2</caption>\n",
       "<thead>\n",
       "\t<tr><th scope=col>test_preparation_course</th><th scope=col>pre_mean</th></tr>\n",
       "\t<tr><th scope=col>&lt;fct&gt;</th><th scope=col>&lt;dbl&gt;</th></tr>\n",
       "</thead>\n",
       "<tbody>\n",
       "\t<tr><td>completed</td><td>70.59854</td></tr>\n",
       "\t<tr><td>none     </td><td>64.83397</td></tr>\n",
       "</tbody>\n",
       "</table>\n"
      ],
      "text/latex": [
       "A tibble: 2 × 2\n",
       "\\begin{tabular}{ll}\n",
       " test\\_preparation\\_course & pre\\_mean\\\\\n",
       " <fct> & <dbl>\\\\\n",
       "\\hline\n",
       "\t completed & 70.59854\\\\\n",
       "\t none      & 64.83397\\\\\n",
       "\\end{tabular}\n"
      ],
      "text/markdown": [
       "\n",
       "A tibble: 2 × 2\n",
       "\n",
       "| test_preparation_course &lt;fct&gt; | pre_mean &lt;dbl&gt; |\n",
       "|---|---|\n",
       "| completed | 70.59854 |\n",
       "| none      | 64.83397 |\n",
       "\n"
      ],
      "text/plain": [
       "  test_preparation_course pre_mean\n",
       "1 completed               70.59854\n",
       "2 none                    64.83397"
      ]
     },
     "metadata": {},
     "output_type": "display_data"
    },
    {
     "name": "stderr",
     "output_type": "stream",
     "text": [
      "`summarise()` ungrouping output (override with `.groups` argument)\n",
      "\n",
      "`summarise()` ungrouping output (override with `.groups` argument)\n",
      "\n"
     ]
    }
   ],
   "source": [
    "#average math socre of non and attend to compare overall mean \n",
    "prep_math<-fct_exams%>%\n",
    "group_by(test_preparation_course)%>%\n",
    "summarize(pre_mean=mean(math_score))\n",
    "prep_math\n",
    "\n",
    "#number of students that got above average score on writing attendence\n",
    "above_wavg<-fct_exams%>%\n",
    "filter(68.24083<writing_score)\n",
    "#above_wavg\n",
    "\n",
    "prep_write<-fct_exams%>%\n",
    "group_by(test_preparation_course)%>%\n",
    "summarize(n=n())\n",
    "#prep_write\n",
    "\n",
    "\n",
    "\n",
    "prep_read<-fct_exams%>%\n",
    "group_by(test_preparation_course)%>%\n",
    "summarize(n=n())\n",
    "#prep_read\n",
    "\n"
   ]
  },
  {
   "cell_type": "code",
   "execution_count": null,
   "metadata": {},
   "outputs": [],
   "source": []
  },
  {
   "cell_type": "markdown",
   "metadata": {},
   "source": [
    "from this we can see more students who didn't attend got higher than average. but not taking into acount if the same student got above average on multiple exams effect on attendance #filter for that next#. "
   ]
  },
  {
   "cell_type": "markdown",
   "metadata": {},
   "source": [
    "detrimine in any rows are missing data "
   ]
  },
  {
   "cell_type": "code",
   "execution_count": 16,
   "metadata": {
    "scrolled": true
   },
   "outputs": [
    {
     "data": {
      "text/html": [
       "<table>\n",
       "<caption>A rowwise_df: 1200 × 9</caption>\n",
       "<thead>\n",
       "\t<tr><th scope=col>gender</th><th scope=col>race_ethnicity</th><th scope=col>parental_level_of_education</th><th scope=col>lunch</th><th scope=col>test_preparation_course</th><th scope=col>math_score</th><th scope=col>reading_score</th><th scope=col>writing_score</th><th scope=col>overall_score</th></tr>\n",
       "\t<tr><th scope=col>&lt;fct&gt;</th><th scope=col>&lt;fct&gt;</th><th scope=col>&lt;fct&gt;</th><th scope=col>&lt;fct&gt;</th><th scope=col>&lt;fct&gt;</th><th scope=col>&lt;dbl&gt;</th><th scope=col>&lt;dbl&gt;</th><th scope=col>&lt;dbl&gt;</th><th scope=col>&lt;dbl&gt;</th></tr>\n",
       "</thead>\n",
       "<tbody>\n",
       "\t<tr><td>male  </td><td>group D</td><td>some college      </td><td>standard    </td><td>none     </td><td>69</td><td>63</td><td>62</td><td>65.5</td></tr>\n",
       "\t<tr><td>female</td><td>group E</td><td>bachelor's degree </td><td>free/reduced</td><td>completed</td><td>65</td><td>78</td><td>80</td><td>72.5</td></tr>\n",
       "\t<tr><td>female</td><td>group C</td><td>some high school  </td><td>standard    </td><td>none     </td><td>57</td><td>56</td><td>59</td><td>58.0</td></tr>\n",
       "\t<tr><td>female</td><td>group D</td><td>associate's degree</td><td>free/reduced</td><td>none     </td><td>62</td><td>73</td><td>71</td><td>66.5</td></tr>\n",
       "\t<tr><td>male  </td><td>group C</td><td>some college      </td><td>free/reduced</td><td>none     </td><td>46</td><td>52</td><td>46</td><td>46.0</td></tr>\n",
       "\t<tr><td>⋮</td><td>⋮</td><td>⋮</td><td>⋮</td><td>⋮</td><td>⋮</td><td>⋮</td><td>⋮</td><td>⋮</td></tr>\n",
       "\t<tr><td>male  </td><td>group C</td><td>associate's degree</td><td>standard    </td><td>completed</td><td>65</td><td>63</td><td>62</td><td>63.5</td></tr>\n",
       "\t<tr><td>female</td><td>group C</td><td>some high school  </td><td>standard    </td><td>none     </td><td>69</td><td>74</td><td>68</td><td>68.5</td></tr>\n",
       "\t<tr><td>female</td><td>group D</td><td>some college      </td><td>free/reduced</td><td>none     </td><td>43</td><td>48</td><td>45</td><td>44.0</td></tr>\n",
       "\t<tr><td>female</td><td>group B</td><td>some college      </td><td>standard    </td><td>none     </td><td>51</td><td>51</td><td>57</td><td>54.0</td></tr>\n",
       "\t<tr><td>female</td><td>group B</td><td>some college      </td><td>standard    </td><td>completed</td><td>73</td><td>81</td><td>90</td><td>81.5</td></tr>\n",
       "</tbody>\n",
       "</table>\n"
      ],
      "text/latex": [
       "A rowwise\\_df: 1200 × 9\n",
       "\\begin{tabular}{lllllllll}\n",
       " gender & race\\_ethnicity & parental\\_level\\_of\\_education & lunch & test\\_preparation\\_course & math\\_score & reading\\_score & writing\\_score & overall\\_score\\\\\n",
       " <fct> & <fct> & <fct> & <fct> & <fct> & <dbl> & <dbl> & <dbl> & <dbl>\\\\\n",
       "\\hline\n",
       "\t male   & group D & some college       & standard     & none      & 69 & 63 & 62 & 65.5\\\\\n",
       "\t female & group E & bachelor's degree  & free/reduced & completed & 65 & 78 & 80 & 72.5\\\\\n",
       "\t female & group C & some high school   & standard     & none      & 57 & 56 & 59 & 58.0\\\\\n",
       "\t female & group D & associate's degree & free/reduced & none      & 62 & 73 & 71 & 66.5\\\\\n",
       "\t male   & group C & some college       & free/reduced & none      & 46 & 52 & 46 & 46.0\\\\\n",
       "\t ⋮ & ⋮ & ⋮ & ⋮ & ⋮ & ⋮ & ⋮ & ⋮ & ⋮\\\\\n",
       "\t male   & group C & associate's degree & standard     & completed & 65 & 63 & 62 & 63.5\\\\\n",
       "\t female & group C & some high school   & standard     & none      & 69 & 74 & 68 & 68.5\\\\\n",
       "\t female & group D & some college       & free/reduced & none      & 43 & 48 & 45 & 44.0\\\\\n",
       "\t female & group B & some college       & standard     & none      & 51 & 51 & 57 & 54.0\\\\\n",
       "\t female & group B & some college       & standard     & completed & 73 & 81 & 90 & 81.5\\\\\n",
       "\\end{tabular}\n"
      ],
      "text/markdown": [
       "\n",
       "A rowwise_df: 1200 × 9\n",
       "\n",
       "| gender &lt;fct&gt; | race_ethnicity &lt;fct&gt; | parental_level_of_education &lt;fct&gt; | lunch &lt;fct&gt; | test_preparation_course &lt;fct&gt; | math_score &lt;dbl&gt; | reading_score &lt;dbl&gt; | writing_score &lt;dbl&gt; | overall_score &lt;dbl&gt; |\n",
       "|---|---|---|---|---|---|---|---|---|\n",
       "| male   | group D | some college       | standard     | none      | 69 | 63 | 62 | 65.5 |\n",
       "| female | group E | bachelor's degree  | free/reduced | completed | 65 | 78 | 80 | 72.5 |\n",
       "| female | group C | some high school   | standard     | none      | 57 | 56 | 59 | 58.0 |\n",
       "| female | group D | associate's degree | free/reduced | none      | 62 | 73 | 71 | 66.5 |\n",
       "| male   | group C | some college       | free/reduced | none      | 46 | 52 | 46 | 46.0 |\n",
       "| ⋮ | ⋮ | ⋮ | ⋮ | ⋮ | ⋮ | ⋮ | ⋮ | ⋮ |\n",
       "| male   | group C | associate's degree | standard     | completed | 65 | 63 | 62 | 63.5 |\n",
       "| female | group C | some high school   | standard     | none      | 69 | 74 | 68 | 68.5 |\n",
       "| female | group D | some college       | free/reduced | none      | 43 | 48 | 45 | 44.0 |\n",
       "| female | group B | some college       | standard     | none      | 51 | 51 | 57 | 54.0 |\n",
       "| female | group B | some college       | standard     | completed | 73 | 81 | 90 | 81.5 |\n",
       "\n"
      ],
      "text/plain": [
       "     gender race_ethnicity parental_level_of_education lunch       \n",
       "1    male   group D        some college                standard    \n",
       "2    female group E        bachelor's degree           free/reduced\n",
       "3    female group C        some high school            standard    \n",
       "4    female group D        associate's degree          free/reduced\n",
       "5    male   group C        some college                free/reduced\n",
       "⋮    ⋮      ⋮              ⋮                           ⋮           \n",
       "1196 male   group C        associate's degree          standard    \n",
       "1197 female group C        some high school            standard    \n",
       "1198 female group D        some college                free/reduced\n",
       "1199 female group B        some college                standard    \n",
       "1200 female group B        some college                standard    \n",
       "     test_preparation_course math_score reading_score writing_score\n",
       "1    none                    69         63            62           \n",
       "2    completed               65         78            80           \n",
       "3    none                    57         56            59           \n",
       "4    none                    62         73            71           \n",
       "5    none                    46         52            46           \n",
       "⋮    ⋮                       ⋮          ⋮             ⋮            \n",
       "1196 completed               65         63            62           \n",
       "1197 none                    69         74            68           \n",
       "1198 none                    43         48            45           \n",
       "1199 none                    51         51            57           \n",
       "1200 completed               73         81            90           \n",
       "     overall_score\n",
       "1    65.5         \n",
       "2    72.5         \n",
       "3    58.0         \n",
       "4    66.5         \n",
       "5    46.0         \n",
       "⋮    ⋮            \n",
       "1196 63.5         \n",
       "1197 68.5         \n",
       "1198 44.0         \n",
       "1199 54.0         \n",
       "1200 81.5         "
      ]
     },
     "metadata": {},
     "output_type": "display_data"
    }
   ],
   "source": [
    "#find out how attendance effect average of each student \n",
    "overall_exam<-fct_exams%>%\n",
    "rowwise(math_score:writing_score)%>%\n",
    "mutate(overall_score=mean(math_score:writing_score))\n",
    "overall_exam"
   ]
  },
  {
   "cell_type": "code",
   "execution_count": 24,
   "metadata": {},
   "outputs": [
    {
     "name": "stderr",
     "output_type": "stream",
     "text": [
      "`summarise()` ungrouping output (override with `.groups` argument)\n",
      "\n"
     ]
    },
    {
     "data": {
      "text/html": [
       "<table>\n",
       "<caption>A tibble: 2 × 2</caption>\n",
       "<thead>\n",
       "\t<tr><th scope=col>test_preparation_course</th><th scope=col>avg_overall</th></tr>\n",
       "\t<tr><th scope=col>&lt;fct&gt;</th><th scope=col>&lt;dbl&gt;</th></tr>\n",
       "</thead>\n",
       "<tbody>\n",
       "\t<tr><td>completed</td><td>72.78102</td></tr>\n",
       "\t<tr><td>none     </td><td>64.78644</td></tr>\n",
       "</tbody>\n",
       "</table>\n"
      ],
      "text/latex": [
       "A tibble: 2 × 2\n",
       "\\begin{tabular}{ll}\n",
       " test\\_preparation\\_course & avg\\_overall\\\\\n",
       " <fct> & <dbl>\\\\\n",
       "\\hline\n",
       "\t completed & 72.78102\\\\\n",
       "\t none      & 64.78644\\\\\n",
       "\\end{tabular}\n"
      ],
      "text/markdown": [
       "\n",
       "A tibble: 2 × 2\n",
       "\n",
       "| test_preparation_course &lt;fct&gt; | avg_overall &lt;dbl&gt; |\n",
       "|---|---|\n",
       "| completed | 72.78102 |\n",
       "| none      | 64.78644 |\n",
       "\n"
      ],
      "text/plain": [
       "  test_preparation_course avg_overall\n",
       "1 completed               72.78102   \n",
       "2 none                    64.78644   "
      ]
     },
     "metadata": {},
     "output_type": "display_data"
    },
    {
     "name": "stderr",
     "output_type": "stream",
     "text": [
      "Adding missing grouping variables: `math_score`, `reading_score`, `writing_score`\n",
      "\n",
      "Adding missing grouping variables: `math_score`, `reading_score`, `writing_score`\n",
      "\n"
     ]
    }
   ],
   "source": [
    "avg_overall<-overall_exam%>%\n",
    "group_by(test_preparation_course)%>%\n",
    "summarize(avg_overall=mean(overall_score))\n",
    "avg_overall\n",
    "\n",
    "#using map to check my work, and both have the corect number of row (# of rows is same as the count for prep course categories )\n",
    "map_cplt<-overall_exam%>%\n",
    "filter(test_preparation_course==\"completed\")%>%\n",
    "select(overall_score)%>%\n",
    "map_df(mean)\n",
    "#map_cplt\n",
    "\n",
    "map_none<-overall_exam%>%\n",
    "filter(test_preparation_course==\"none\")%>%\n",
    "select(overall_score)%>%\n",
    "map_df(mean)\n",
    "#map_none\n"
   ]
  },
  {
   "cell_type": "markdown",
   "metadata": {},
   "source": [
    "The overall average grade of students who completed to test preparation course is higher than the overall average grade of students who didn't attend the  test preparation course. roughly 35% of students completed to test prep course. This suggest that attending the test preparation course may lead to higher average compared to if you didn't attend. If we wanted to comfirm this inquiry we could collect more data about the same students and see how their grades change if they didn't attend this class but attend a class in the future or vis versa."
   ]
  },
  {
   "cell_type": "markdown",
   "metadata": {},
   "source": [
    "### Methods:"
   ]
  },
  {
   "cell_type": "markdown",
   "metadata": {},
   "source": [
    "**include:**\n",
    "Explain how you will conduct either your data analysis and which variables/columns you will use. \n",
    "Note - you do not need to use all variables/columns that exist in the raw data set. In fact, that's often not a good idea. For each variable think: is this a useful variable for prediction?\n",
    "Describe at least one way that you will visualize the results\n"
   ]
  },
  {
   "cell_type": "markdown",
   "metadata": {},
   "source": [
    "**Come back too**\n",
    " Describe at least one way that you will visualize the results:\n",
    "vertical line in histograme based where new obervation is to see where they land in the ogrinals data set telling where is histogram new obervation sould cause impact. 500 student 75 in reading now 501 student 75 in reading \n",
    "\n",
    "\n",
    "put line in mean and each subplot "
   ]
  },
  {
   "cell_type": "code",
   "execution_count": 18,
   "metadata": {},
   "outputs": [],
   "source": [
    "#do we need to scale and center our data even though there is no units \n",
    "#need to figure out the visual plot to do what will the varibles be\n",
    "#if we want to use all 3 exam score varibles how will be plot that? we could make give comdine all 3 column to score \n",
    "#and on graph use different shapes for different exam type and diff colors for test prep attenance but so score would be \n",
    "#x axis but what would we make the y axis?\n",
    "#or we could do \"Base off the exam scores for writing and math can you determine if a student attended a prep course?\"\n",
    "#but look up how to do classification with more than two varibles (b/c it would be more acuarte b/c we don't know if the \n",
    "#course spent more time on a specific exam or not which could effect the accuracy\n",
    "\n",
    "\n",
    "#when finding the k are we going to find seperate ones for each exam, like if k=3 will be find the 3 closest math_scores\n",
    "#to the new obervations math_score and find the 3 closest reading_scores to the new obervations reading_score\n",
    "#but still how would we graph 3 varibles and what like x axis could be math_score and y axos could be reading_score but\n",
    "#but what would we use for the writing_score? \n",
    "#I guess graph could be 3D but not ideal\n",
    "#need to ask TA how to plot 3 varibles so we can find the distance b/w then the find our k's "
   ]
  },
  {
   "cell_type": "markdown",
   "metadata": {},
   "source": [
    "-Using 4 variables (math score, reading score, writing score, attendance at test prep course)\n",
    "-Select for the the 4 variables\n",
    "-Visualization?? (not sure how to plot all the variables)\n",
    "Once we figure out the visualization, we can use K nearest neighbor to predict a new observation/test how well our model works."
   ]
  },
  {
   "cell_type": "markdown",
   "metadata": {},
   "source": [
    "### Expected outcomes and significance"
   ]
  },
  {
   "cell_type": "markdown",
   "metadata": {},
   "source": [
    "**include:**\n",
    "What do you expect to find?\n",
    "\n",
    "What impact could such findings have?\n",
    "\n",
    "What future questions could this lead to?"
   ]
  },
  {
   "cell_type": "code",
   "execution_count": 19,
   "metadata": {},
   "outputs": [
    {
     "ename": "ERROR",
     "evalue": "Error in parse(text = x, srcfile = src): <text>:2:6: unexpected symbol\n1: #Expect to find: \n2: -The prediction\n        ^\n",
     "output_type": "error",
     "traceback": [
      "Error in parse(text = x, srcfile = src): <text>:2:6: unexpected symbol\n1: #Expect to find: \n2: -The prediction\n        ^\nTraceback:\n"
     ]
    }
   ],
   "source": [
    "#Expect to find: \n",
    "-The prediction our model is making (whether or not a student attended the test prep course)\n",
    "-Some kind of trend between high grades overall and attendance to the test prep course?\n",
    "#maybe b/c of the results above showed that students who attended the course overall average was better. so if new\n",
    "#obervation has higher overall average they might have completed the course\n",
    "#Impact of the findings:\n",
    "-Shows the effectiveness of the test prep course (does it improve scores or not?)\n",
    "-Could also influence students attendance to the course\n",
    "\n",
    "#Future questions:\n",
    "-Does attending test prep courses have a significant impact on the performance of students when they are writing exams, or is self-studying a better method?\n",
    "-How do other factors affect students attendance to the test prep course (ie if they have other tutoring services, that might make them less inclined to attend the test prep course) \n"
   ]
  }
 ],
 "metadata": {
  "kernelspec": {
   "display_name": "R",
   "language": "R",
   "name": "ir"
  },
  "language_info": {
   "codemirror_mode": "r",
   "file_extension": ".r",
   "mimetype": "text/x-r-source",
   "name": "R",
   "pygments_lexer": "r",
   "version": "4.0.0"
  }
 },
 "nbformat": 4,
 "nbformat_minor": 4
}
