{
 "cells": [
  {
   "cell_type": "markdown",
   "metadata": {},
   "source": [
    "# Title:-------"
   ]
  },
  {
   "cell_type": "markdown",
   "metadata": {},
   "source": [
    "### Introduction: "
   ]
  },
  {
   "cell_type": "markdown",
   "metadata": {},
   "source": [
    "There are many different test prep classes out there and at varying prices. these test prep courses all claim to help improve students' marks. **But can you determine if a student took a test preparation course based on their exam scores?** \n",
    "\n",
    "To determine if a student took a test prep course based off there marks from 3 exams we will use the data set ________ . The data set contains information about US high school students, and consists of the students gender, race/ethnicity, parental level of education, lunch, test preparation course attendance and  the students' marks for 3 exams in math, reading and writing. #The students marks my be influenced by any of the other varibles. (should this be included)#"
   ]
  },
  {
   "cell_type": "markdown",
   "metadata": {},
   "source": [
    "**things needed in the Introduction:**\n",
    "Provide some relevant background information on the topic so that someone unfamiliar with it will be prepared to understand the rest of your proposal\n",
    "Clearly state the question you will try to answer with your project\n",
    "Identify and describe the dataset that will be used to answer the question"
   ]
  },
  {
   "cell_type": "code",
   "execution_count": 2,
   "metadata": {},
   "outputs": [],
   "source": [
    "#is there enough relevant background info to understand rest of proposal?\n",
    "#Question is stated\n",
    "#ID and describe the ds. is there anything else to be add? "
   ]
  },
  {
   "cell_type": "markdown",
   "metadata": {},
   "source": [
    "factors to consider does the student have outside tutoring, "
   ]
  },
  {
   "cell_type": "markdown",
   "metadata": {},
   "source": [
    "look at the race/ethnicity varible to see if could fine better info on it \n"
   ]
  },
  {
   "cell_type": "markdown",
   "metadata": {},
   "source": [
    "### Primary Exploratory Data Analysis:"
   ]
  },
  {
   "cell_type": "markdown",
   "metadata": {},
   "source": [
    "**include:**\n",
    "\n",
    "Demonstrate that the dataset can be read from the web into R \n",
    "Clean and wrangle your data into a tidy format\n",
    "Using only training data, summarize the data in at least one table (this is exploratory data analysis). An example of a useful table could be one that reports the number of observations in each class, the means of the predictor variables you plan to use in your analysis and how many rows have missing data. \n",
    "Using only training data, visualize the data with at least one plot relevant to the analysis you plan to do (this is exploratory data analysis). An example of a useful visualization could be one that compares the distributions of each of the predictor variables you plan to use in your analysis."
   ]
  },
  {
   "cell_type": "code",
   "execution_count": null,
   "metadata": {},
   "outputs": [],
   "source": [
    "#find out from TA how big n should be. >1000? "
   ]
  },
  {
   "cell_type": "code",
   "execution_count": 1,
   "metadata": {},
   "outputs": [],
   "source": [
    "#read dataset from the wed "
   ]
  },
  {
   "cell_type": "code",
   "execution_count": 3,
   "metadata": {},
   "outputs": [],
   "source": [
    "#clean and wrangle data\n",
    "#select for only exam marks and prep class"
   ]
  },
  {
   "cell_type": "markdown",
   "metadata": {},
   "source": [
    "detrimine in any rows are missing data "
   ]
  },
  {
   "cell_type": "markdown",
   "metadata": {},
   "source": [
    "### Methods:"
   ]
  },
  {
   "cell_type": "markdown",
   "metadata": {},
   "source": [
    "**include:**\n",
    "Explain how you will conduct either your data analysis and which variables/columns you will use. \n",
    "Note - you do not need to use all variables/columns that exist in the raw data set. In fact, that's often not a good idea. For each variable think: is this a useful variable for prediction?\n",
    "Describe at least one way that you will visualize the results\n"
   ]
  },
  {
   "cell_type": "code",
   "execution_count": null,
   "metadata": {},
   "outputs": [],
   "source": []
  },
  {
   "cell_type": "code",
   "execution_count": null,
   "metadata": {},
   "outputs": [],
   "source": []
  },
  {
   "cell_type": "markdown",
   "metadata": {},
   "source": [
    "### Expected outcomes and significance"
   ]
  },
  {
   "cell_type": "markdown",
   "metadata": {},
   "source": [
    "**include:**\n",
    "What do you expect to find?\n",
    "\n",
    "What impact could such findings have?\n",
    "\n",
    "What future questions could this lead to?"
   ]
  },
  {
   "cell_type": "code",
   "execution_count": null,
   "metadata": {},
   "outputs": [],
   "source": []
  }
 ],
 "metadata": {
  "kernelspec": {
   "display_name": "R",
   "language": "R",
   "name": "ir"
  },
  "language_info": {
   "codemirror_mode": "r",
   "file_extension": ".r",
   "mimetype": "text/x-r-source",
   "name": "R",
   "pygments_lexer": "r",
   "version": "4.0.0"
  }
 },
 "nbformat": 4,
 "nbformat_minor": 4
}
