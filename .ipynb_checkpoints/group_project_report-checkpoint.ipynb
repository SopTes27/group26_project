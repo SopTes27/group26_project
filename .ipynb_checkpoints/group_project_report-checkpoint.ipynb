{
 "cells": [
  {
   "cell_type": "markdown",
   "metadata": {},
   "source": [
    "# Predict test preparation course based on candidates' score"
   ]
  },
  {
   "cell_type": "code",
   "execution_count": 14,
   "metadata": {},
   "outputs": [],
   "source": [
    "library(tidyverse)\n",
    "library(tidymodels)\n",
    "library(RColorBrewer)\n",
    "library(GGally)"
   ]
  },
  {
   "cell_type": "markdown",
   "metadata": {},
   "source": [
    "## Introduction "
   ]
  },
  {
   "cell_type": "markdown",
   "metadata": {},
   "source": [
    "#### There are a variety of test preparation classes available to students at varying prices. These courses claim to improve students' performance on exams.\n",
    "\n",
    "#### Predictive Question: Can we use the exam scores of students to predict whether they attended a test preparation course?\n",
    "\n",
    "The all_exams.csv data set is used to determine whether a student took a test prep course. Their exam scores from math, reading, and writing would identify if they attended a test prep course. The data set also contains information about high school students from the US, and includes the students’ gender, race/ethnicity, parental level of education, and lunch access. The size of the sample was increased to 1200 by combining the downloaded data, since the data is generated spontaneously. By doing this, we expect our model to have a higher accuracy because it will be able to gain familiarity with more data examples."
   ]
  },
  {
   "cell_type": "markdown",
   "metadata": {},
   "source": [
    "## 1. Primary Exploratory Data Analysis:"
   ]
  },
  {
   "cell_type": "markdown",
   "metadata": {},
   "source": [
    "### Read data"
   ]
  },
  {
   "cell_type": "code",
   "execution_count": 15,
   "metadata": {},
   "outputs": [
    {
     "name": "stderr",
     "output_type": "stream",
     "text": [
      "Warning message:\n",
      "“Missing column names filled in: 'X1' [1]”\n",
      "Parsed with column specification:\n",
      "cols(\n",
      "  X1 = \u001b[32mcol_double()\u001b[39m,\n",
      "  gender = \u001b[31mcol_character()\u001b[39m,\n",
      "  `race/ethnicity` = \u001b[31mcol_character()\u001b[39m,\n",
      "  `parental level of education` = \u001b[31mcol_character()\u001b[39m,\n",
      "  lunch = \u001b[31mcol_character()\u001b[39m,\n",
      "  `test preparation course` = \u001b[31mcol_character()\u001b[39m,\n",
      "  `math score` = \u001b[32mcol_double()\u001b[39m,\n",
      "  `reading score` = \u001b[32mcol_double()\u001b[39m,\n",
      "  `writing score` = \u001b[32mcol_double()\u001b[39m\n",
      ")\n",
      "\n"
     ]
    },
    {
     "data": {
      "text/html": [
       "<table>\n",
       "<caption>A spec_tbl_df: 1200 × 9</caption>\n",
       "<thead>\n",
       "\t<tr><th scope=col>X1</th><th scope=col>gender</th><th scope=col>race/ethnicity</th><th scope=col>parental level of education</th><th scope=col>lunch</th><th scope=col>test preparation course</th><th scope=col>math score</th><th scope=col>reading score</th><th scope=col>writing score</th></tr>\n",
       "\t<tr><th scope=col>&lt;dbl&gt;</th><th scope=col>&lt;chr&gt;</th><th scope=col>&lt;chr&gt;</th><th scope=col>&lt;chr&gt;</th><th scope=col>&lt;chr&gt;</th><th scope=col>&lt;chr&gt;</th><th scope=col>&lt;dbl&gt;</th><th scope=col>&lt;dbl&gt;</th><th scope=col>&lt;dbl&gt;</th></tr>\n",
       "</thead>\n",
       "<tbody>\n",
       "\t<tr><td>1</td><td>male  </td><td>group D</td><td>some college      </td><td>standard    </td><td>none     </td><td>69</td><td>63</td><td>62</td></tr>\n",
       "\t<tr><td>2</td><td>female</td><td>group E</td><td>bachelor's degree </td><td>free/reduced</td><td>completed</td><td>65</td><td>78</td><td>80</td></tr>\n",
       "\t<tr><td>3</td><td>female</td><td>group C</td><td>some high school  </td><td>standard    </td><td>none     </td><td>57</td><td>56</td><td>59</td></tr>\n",
       "\t<tr><td>4</td><td>female</td><td>group D</td><td>associate's degree</td><td>free/reduced</td><td>none     </td><td>62</td><td>73</td><td>71</td></tr>\n",
       "\t<tr><td>5</td><td>male  </td><td>group C</td><td>some college      </td><td>free/reduced</td><td>none     </td><td>46</td><td>52</td><td>46</td></tr>\n",
       "\t<tr><td>⋮</td><td>⋮</td><td>⋮</td><td>⋮</td><td>⋮</td><td>⋮</td><td>⋮</td><td>⋮</td><td>⋮</td></tr>\n",
       "\t<tr><td>1196</td><td>male  </td><td>group C</td><td>associate's degree</td><td>standard    </td><td>completed</td><td>65</td><td>63</td><td>62</td></tr>\n",
       "\t<tr><td>1197</td><td>female</td><td>group C</td><td>some high school  </td><td>standard    </td><td>none     </td><td>69</td><td>74</td><td>68</td></tr>\n",
       "\t<tr><td>1198</td><td>female</td><td>group D</td><td>some college      </td><td>free/reduced</td><td>none     </td><td>43</td><td>48</td><td>45</td></tr>\n",
       "\t<tr><td>1199</td><td>female</td><td>group B</td><td>some college      </td><td>standard    </td><td>none     </td><td>51</td><td>51</td><td>57</td></tr>\n",
       "\t<tr><td>1200</td><td>female</td><td>group B</td><td>some college      </td><td>standard    </td><td>completed</td><td>73</td><td>81</td><td>90</td></tr>\n",
       "</tbody>\n",
       "</table>\n"
      ],
      "text/latex": [
       "A spec\\_tbl\\_df: 1200 × 9\n",
       "\\begin{tabular}{lllllllll}\n",
       " X1 & gender & race/ethnicity & parental level of education & lunch & test preparation course & math score & reading score & writing score\\\\\n",
       " <dbl> & <chr> & <chr> & <chr> & <chr> & <chr> & <dbl> & <dbl> & <dbl>\\\\\n",
       "\\hline\n",
       "\t 1 & male   & group D & some college       & standard     & none      & 69 & 63 & 62\\\\\n",
       "\t 2 & female & group E & bachelor's degree  & free/reduced & completed & 65 & 78 & 80\\\\\n",
       "\t 3 & female & group C & some high school   & standard     & none      & 57 & 56 & 59\\\\\n",
       "\t 4 & female & group D & associate's degree & free/reduced & none      & 62 & 73 & 71\\\\\n",
       "\t 5 & male   & group C & some college       & free/reduced & none      & 46 & 52 & 46\\\\\n",
       "\t ⋮ & ⋮ & ⋮ & ⋮ & ⋮ & ⋮ & ⋮ & ⋮ & ⋮\\\\\n",
       "\t 1196 & male   & group C & associate's degree & standard     & completed & 65 & 63 & 62\\\\\n",
       "\t 1197 & female & group C & some high school   & standard     & none      & 69 & 74 & 68\\\\\n",
       "\t 1198 & female & group D & some college       & free/reduced & none      & 43 & 48 & 45\\\\\n",
       "\t 1199 & female & group B & some college       & standard     & none      & 51 & 51 & 57\\\\\n",
       "\t 1200 & female & group B & some college       & standard     & completed & 73 & 81 & 90\\\\\n",
       "\\end{tabular}\n"
      ],
      "text/markdown": [
       "\n",
       "A spec_tbl_df: 1200 × 9\n",
       "\n",
       "| X1 &lt;dbl&gt; | gender &lt;chr&gt; | race/ethnicity &lt;chr&gt; | parental level of education &lt;chr&gt; | lunch &lt;chr&gt; | test preparation course &lt;chr&gt; | math score &lt;dbl&gt; | reading score &lt;dbl&gt; | writing score &lt;dbl&gt; |\n",
       "|---|---|---|---|---|---|---|---|---|\n",
       "| 1 | male   | group D | some college       | standard     | none      | 69 | 63 | 62 |\n",
       "| 2 | female | group E | bachelor's degree  | free/reduced | completed | 65 | 78 | 80 |\n",
       "| 3 | female | group C | some high school   | standard     | none      | 57 | 56 | 59 |\n",
       "| 4 | female | group D | associate's degree | free/reduced | none      | 62 | 73 | 71 |\n",
       "| 5 | male   | group C | some college       | free/reduced | none      | 46 | 52 | 46 |\n",
       "| ⋮ | ⋮ | ⋮ | ⋮ | ⋮ | ⋮ | ⋮ | ⋮ | ⋮ |\n",
       "| 1196 | male   | group C | associate's degree | standard     | completed | 65 | 63 | 62 |\n",
       "| 1197 | female | group C | some high school   | standard     | none      | 69 | 74 | 68 |\n",
       "| 1198 | female | group D | some college       | free/reduced | none      | 43 | 48 | 45 |\n",
       "| 1199 | female | group B | some college       | standard     | none      | 51 | 51 | 57 |\n",
       "| 1200 | female | group B | some college       | standard     | completed | 73 | 81 | 90 |\n",
       "\n"
      ],
      "text/plain": [
       "     X1   gender race/ethnicity parental level of education lunch       \n",
       "1    1    male   group D        some college                standard    \n",
       "2    2    female group E        bachelor's degree           free/reduced\n",
       "3    3    female group C        some high school            standard    \n",
       "4    4    female group D        associate's degree          free/reduced\n",
       "5    5    male   group C        some college                free/reduced\n",
       "⋮    ⋮    ⋮      ⋮              ⋮                           ⋮           \n",
       "1196 1196 male   group C        associate's degree          standard    \n",
       "1197 1197 female group C        some high school            standard    \n",
       "1198 1198 female group D        some college                free/reduced\n",
       "1199 1199 female group B        some college                standard    \n",
       "1200 1200 female group B        some college                standard    \n",
       "     test preparation course math score reading score writing score\n",
       "1    none                    69         63            62           \n",
       "2    completed               65         78            80           \n",
       "3    none                    57         56            59           \n",
       "4    none                    62         73            71           \n",
       "5    none                    46         52            46           \n",
       "⋮    ⋮                       ⋮          ⋮             ⋮            \n",
       "1196 completed               65         63            62           \n",
       "1197 none                    69         74            68           \n",
       "1198 none                    43         48            45           \n",
       "1199 none                    51         51            57           \n",
       "1200 completed               73         81            90           "
      ]
     },
     "metadata": {},
     "output_type": "display_data"
    }
   ],
   "source": [
    "options(repr.matrix.max.rows = 10)\n",
    "all_exams<-read_csv(\"https://raw.githubusercontent.com/SopTes27/group26_project/main/GP_data/all_exams.csv\")\n",
    "all_exams"
   ]
  },
  {
   "cell_type": "markdown",
   "metadata": {},
   "source": [
    "### Wrangles and Cleans the data"
   ]
  },
  {
   "cell_type": "markdown",
   "metadata": {},
   "source": [
    "In original data, we have a column that will not be used in our model, X1. We then will make gender, race/ethnicity, parental level of education, lunch, and test preparation course as category data type."
   ]
  },
  {
   "cell_type": "code",
   "execution_count": 16,
   "metadata": {},
   "outputs": [
    {
     "data": {
      "text/html": [
       "<table>\n",
       "<caption>A tibble: 1200 × 8</caption>\n",
       "<thead>\n",
       "\t<tr><th scope=col>gender</th><th scope=col>race_ethnicity</th><th scope=col>parental_level_of_education</th><th scope=col>lunch</th><th scope=col>test_preparation_course</th><th scope=col>math_score</th><th scope=col>reading_score</th><th scope=col>writing_score</th></tr>\n",
       "\t<tr><th scope=col>&lt;fct&gt;</th><th scope=col>&lt;fct&gt;</th><th scope=col>&lt;fct&gt;</th><th scope=col>&lt;fct&gt;</th><th scope=col>&lt;fct&gt;</th><th scope=col>&lt;dbl&gt;</th><th scope=col>&lt;dbl&gt;</th><th scope=col>&lt;dbl&gt;</th></tr>\n",
       "</thead>\n",
       "<tbody>\n",
       "\t<tr><td>male  </td><td>group D</td><td>some college      </td><td>standard    </td><td>none     </td><td>69</td><td>63</td><td>62</td></tr>\n",
       "\t<tr><td>female</td><td>group E</td><td>bachelor's degree </td><td>free/reduced</td><td>completed</td><td>65</td><td>78</td><td>80</td></tr>\n",
       "\t<tr><td>female</td><td>group C</td><td>some high school  </td><td>standard    </td><td>none     </td><td>57</td><td>56</td><td>59</td></tr>\n",
       "\t<tr><td>female</td><td>group D</td><td>associate's degree</td><td>free/reduced</td><td>none     </td><td>62</td><td>73</td><td>71</td></tr>\n",
       "\t<tr><td>male  </td><td>group C</td><td>some college      </td><td>free/reduced</td><td>none     </td><td>46</td><td>52</td><td>46</td></tr>\n",
       "\t<tr><td>⋮</td><td>⋮</td><td>⋮</td><td>⋮</td><td>⋮</td><td>⋮</td><td>⋮</td><td>⋮</td></tr>\n",
       "\t<tr><td>male  </td><td>group C</td><td>associate's degree</td><td>standard    </td><td>completed</td><td>65</td><td>63</td><td>62</td></tr>\n",
       "\t<tr><td>female</td><td>group C</td><td>some high school  </td><td>standard    </td><td>none     </td><td>69</td><td>74</td><td>68</td></tr>\n",
       "\t<tr><td>female</td><td>group D</td><td>some college      </td><td>free/reduced</td><td>none     </td><td>43</td><td>48</td><td>45</td></tr>\n",
       "\t<tr><td>female</td><td>group B</td><td>some college      </td><td>standard    </td><td>none     </td><td>51</td><td>51</td><td>57</td></tr>\n",
       "\t<tr><td>female</td><td>group B</td><td>some college      </td><td>standard    </td><td>completed</td><td>73</td><td>81</td><td>90</td></tr>\n",
       "</tbody>\n",
       "</table>\n"
      ],
      "text/latex": [
       "A tibble: 1200 × 8\n",
       "\\begin{tabular}{llllllll}\n",
       " gender & race\\_ethnicity & parental\\_level\\_of\\_education & lunch & test\\_preparation\\_course & math\\_score & reading\\_score & writing\\_score\\\\\n",
       " <fct> & <fct> & <fct> & <fct> & <fct> & <dbl> & <dbl> & <dbl>\\\\\n",
       "\\hline\n",
       "\t male   & group D & some college       & standard     & none      & 69 & 63 & 62\\\\\n",
       "\t female & group E & bachelor's degree  & free/reduced & completed & 65 & 78 & 80\\\\\n",
       "\t female & group C & some high school   & standard     & none      & 57 & 56 & 59\\\\\n",
       "\t female & group D & associate's degree & free/reduced & none      & 62 & 73 & 71\\\\\n",
       "\t male   & group C & some college       & free/reduced & none      & 46 & 52 & 46\\\\\n",
       "\t ⋮ & ⋮ & ⋮ & ⋮ & ⋮ & ⋮ & ⋮ & ⋮\\\\\n",
       "\t male   & group C & associate's degree & standard     & completed & 65 & 63 & 62\\\\\n",
       "\t female & group C & some high school   & standard     & none      & 69 & 74 & 68\\\\\n",
       "\t female & group D & some college       & free/reduced & none      & 43 & 48 & 45\\\\\n",
       "\t female & group B & some college       & standard     & none      & 51 & 51 & 57\\\\\n",
       "\t female & group B & some college       & standard     & completed & 73 & 81 & 90\\\\\n",
       "\\end{tabular}\n"
      ],
      "text/markdown": [
       "\n",
       "A tibble: 1200 × 8\n",
       "\n",
       "| gender &lt;fct&gt; | race_ethnicity &lt;fct&gt; | parental_level_of_education &lt;fct&gt; | lunch &lt;fct&gt; | test_preparation_course &lt;fct&gt; | math_score &lt;dbl&gt; | reading_score &lt;dbl&gt; | writing_score &lt;dbl&gt; |\n",
       "|---|---|---|---|---|---|---|---|\n",
       "| male   | group D | some college       | standard     | none      | 69 | 63 | 62 |\n",
       "| female | group E | bachelor's degree  | free/reduced | completed | 65 | 78 | 80 |\n",
       "| female | group C | some high school   | standard     | none      | 57 | 56 | 59 |\n",
       "| female | group D | associate's degree | free/reduced | none      | 62 | 73 | 71 |\n",
       "| male   | group C | some college       | free/reduced | none      | 46 | 52 | 46 |\n",
       "| ⋮ | ⋮ | ⋮ | ⋮ | ⋮ | ⋮ | ⋮ | ⋮ |\n",
       "| male   | group C | associate's degree | standard     | completed | 65 | 63 | 62 |\n",
       "| female | group C | some high school   | standard     | none      | 69 | 74 | 68 |\n",
       "| female | group D | some college       | free/reduced | none      | 43 | 48 | 45 |\n",
       "| female | group B | some college       | standard     | none      | 51 | 51 | 57 |\n",
       "| female | group B | some college       | standard     | completed | 73 | 81 | 90 |\n",
       "\n"
      ],
      "text/plain": [
       "     gender race_ethnicity parental_level_of_education lunch       \n",
       "1    male   group D        some college                standard    \n",
       "2    female group E        bachelor's degree           free/reduced\n",
       "3    female group C        some high school            standard    \n",
       "4    female group D        associate's degree          free/reduced\n",
       "5    male   group C        some college                free/reduced\n",
       "⋮    ⋮      ⋮              ⋮                           ⋮           \n",
       "1196 male   group C        associate's degree          standard    \n",
       "1197 female group C        some high school            standard    \n",
       "1198 female group D        some college                free/reduced\n",
       "1199 female group B        some college                standard    \n",
       "1200 female group B        some college                standard    \n",
       "     test_preparation_course math_score reading_score writing_score\n",
       "1    none                    69         63            62           \n",
       "2    completed               65         78            80           \n",
       "3    none                    57         56            59           \n",
       "4    none                    62         73            71           \n",
       "5    none                    46         52            46           \n",
       "⋮    ⋮                       ⋮          ⋮             ⋮            \n",
       "1196 completed               65         63            62           \n",
       "1197 none                    69         74            68           \n",
       "1198 none                    43         48            45           \n",
       "1199 none                    51         51            57           \n",
       "1200 completed               73         81            90           "
      ]
     },
     "metadata": {},
     "output_type": "display_data"
    }
   ],
   "source": [
    "colnames(all_exams)<-c(\"X1\", \"gender\", \"race_ethnicity\", \"parental_level_of_education\",\n",
    "\"lunch\", \"test_preparation_course\", \"math_score\", \"reading_score\", \"writing_score\")\n",
    "\n",
    "tidying_data <-select(all_exams, gender:writing_score)%>%\n",
    "    mutate(across(gender:test_preparation_course, as.factor))\n",
    "tidying_data"
   ]
  },
  {
   "cell_type": "markdown",
   "metadata": {},
   "source": [
    "#### Tidy data and create a new dataset that will use in the following steps."
   ]
  },
  {
   "cell_type": "markdown",
   "metadata": {},
   "source": [
    "Use `tidying_data` that we did in the priovse step, we group test_preparation_course, math_score,reading_score,writing_score and calculate the average grade called `avg_grade`, and the new dataset called `exams_data`."
   ]
  },
  {
   "cell_type": "code",
   "execution_count": 17,
   "metadata": {},
   "outputs": [
    {
     "data": {
      "text/html": [
       "<table>\n",
       "<caption>A rowwise_df: 1200 × 5</caption>\n",
       "<thead>\n",
       "\t<tr><th scope=col>test_preparation_course</th><th scope=col>math_score</th><th scope=col>reading_score</th><th scope=col>writing_score</th><th scope=col>avg_grade</th></tr>\n",
       "\t<tr><th scope=col>&lt;fct&gt;</th><th scope=col>&lt;dbl&gt;</th><th scope=col>&lt;dbl&gt;</th><th scope=col>&lt;dbl&gt;</th><th scope=col>&lt;dbl&gt;</th></tr>\n",
       "</thead>\n",
       "<tbody>\n",
       "\t<tr><td>none     </td><td>69</td><td>63</td><td>62</td><td>65.5</td></tr>\n",
       "\t<tr><td>completed</td><td>65</td><td>78</td><td>80</td><td>72.5</td></tr>\n",
       "\t<tr><td>none     </td><td>57</td><td>56</td><td>59</td><td>58.0</td></tr>\n",
       "\t<tr><td>none     </td><td>62</td><td>73</td><td>71</td><td>66.5</td></tr>\n",
       "\t<tr><td>none     </td><td>46</td><td>52</td><td>46</td><td>46.0</td></tr>\n",
       "\t<tr><td>⋮</td><td>⋮</td><td>⋮</td><td>⋮</td><td>⋮</td></tr>\n",
       "\t<tr><td>completed</td><td>65</td><td>63</td><td>62</td><td>63.5</td></tr>\n",
       "\t<tr><td>none     </td><td>69</td><td>74</td><td>68</td><td>68.5</td></tr>\n",
       "\t<tr><td>none     </td><td>43</td><td>48</td><td>45</td><td>44.0</td></tr>\n",
       "\t<tr><td>none     </td><td>51</td><td>51</td><td>57</td><td>54.0</td></tr>\n",
       "\t<tr><td>completed</td><td>73</td><td>81</td><td>90</td><td>81.5</td></tr>\n",
       "</tbody>\n",
       "</table>\n"
      ],
      "text/latex": [
       "A rowwise\\_df: 1200 × 5\n",
       "\\begin{tabular}{lllll}\n",
       " test\\_preparation\\_course & math\\_score & reading\\_score & writing\\_score & avg\\_grade\\\\\n",
       " <fct> & <dbl> & <dbl> & <dbl> & <dbl>\\\\\n",
       "\\hline\n",
       "\t none      & 69 & 63 & 62 & 65.5\\\\\n",
       "\t completed & 65 & 78 & 80 & 72.5\\\\\n",
       "\t none      & 57 & 56 & 59 & 58.0\\\\\n",
       "\t none      & 62 & 73 & 71 & 66.5\\\\\n",
       "\t none      & 46 & 52 & 46 & 46.0\\\\\n",
       "\t ⋮ & ⋮ & ⋮ & ⋮ & ⋮\\\\\n",
       "\t completed & 65 & 63 & 62 & 63.5\\\\\n",
       "\t none      & 69 & 74 & 68 & 68.5\\\\\n",
       "\t none      & 43 & 48 & 45 & 44.0\\\\\n",
       "\t none      & 51 & 51 & 57 & 54.0\\\\\n",
       "\t completed & 73 & 81 & 90 & 81.5\\\\\n",
       "\\end{tabular}\n"
      ],
      "text/markdown": [
       "\n",
       "A rowwise_df: 1200 × 5\n",
       "\n",
       "| test_preparation_course &lt;fct&gt; | math_score &lt;dbl&gt; | reading_score &lt;dbl&gt; | writing_score &lt;dbl&gt; | avg_grade &lt;dbl&gt; |\n",
       "|---|---|---|---|---|\n",
       "| none      | 69 | 63 | 62 | 65.5 |\n",
       "| completed | 65 | 78 | 80 | 72.5 |\n",
       "| none      | 57 | 56 | 59 | 58.0 |\n",
       "| none      | 62 | 73 | 71 | 66.5 |\n",
       "| none      | 46 | 52 | 46 | 46.0 |\n",
       "| ⋮ | ⋮ | ⋮ | ⋮ | ⋮ |\n",
       "| completed | 65 | 63 | 62 | 63.5 |\n",
       "| none      | 69 | 74 | 68 | 68.5 |\n",
       "| none      | 43 | 48 | 45 | 44.0 |\n",
       "| none      | 51 | 51 | 57 | 54.0 |\n",
       "| completed | 73 | 81 | 90 | 81.5 |\n",
       "\n"
      ],
      "text/plain": [
       "     test_preparation_course math_score reading_score writing_score avg_grade\n",
       "1    none                    69         63            62            65.5     \n",
       "2    completed               65         78            80            72.5     \n",
       "3    none                    57         56            59            58.0     \n",
       "4    none                    62         73            71            66.5     \n",
       "5    none                    46         52            46            46.0     \n",
       "⋮    ⋮                       ⋮          ⋮             ⋮             ⋮        \n",
       "1196 completed               65         63            62            63.5     \n",
       "1197 none                    69         74            68            68.5     \n",
       "1198 none                    43         48            45            44.0     \n",
       "1199 none                    51         51            57            54.0     \n",
       "1200 completed               73         81            90            81.5     "
      ]
     },
     "metadata": {},
     "output_type": "display_data"
    }
   ],
   "source": [
    "exams_data<-tidying_data %>%\n",
    "    rowwise(math_score:writing_score)%>%\n",
    "    mutate(avg_grade=mean(math_score:writing_score))%>%\n",
    "    select(test_preparation_course, math_score, reading_score, writing_score, avg_grade)\n",
    "exams_data"
   ]
  },
  {
   "cell_type": "markdown",
   "metadata": {},
   "source": [
    "## 2. Splitting the data into a training and test set and analysis the data:"
   ]
  },
  {
   "cell_type": "markdown",
   "metadata": {},
   "source": [
    "To create the training and test set, first use the initial_split function to split `exams_data`. The protion that we use is 75% of training data called `exam_train` and 25% of testing data called `exam_test`. \n",
    "\n",
    "And set the seed (2021).\n"
   ]
  },
  {
   "cell_type": "code",
   "execution_count": 19,
   "metadata": {},
   "outputs": [
    {
     "name": "stdout",
     "output_type": "stream",
     "text": [
      "Rows: 901\n",
      "Columns: 5\n",
      "Rowwise: math_score, reading_score, writing_score\n",
      "$ test_preparation_course \u001b[3m\u001b[90m<fct>\u001b[39m\u001b[23m none, completed, none, none, none, none, none…\n",
      "$ math_score              \u001b[3m\u001b[90m<dbl>\u001b[39m\u001b[23m 69, 65, 57, 62, 46, 39, 78, 57, 80, 85, 79, 5…\n",
      "$ reading_score           \u001b[3m\u001b[90m<dbl>\u001b[39m\u001b[23m 63, 78, 56, 73, 52, 35, 90, 62, 86, 86, 75, 4…\n",
      "$ writing_score           \u001b[3m\u001b[90m<dbl>\u001b[39m\u001b[23m 62, 80, 59, 71, 46, 28, 84, 54, 91, 84, 71, 3…\n",
      "$ avg_grade               \u001b[3m\u001b[90m<dbl>\u001b[39m\u001b[23m 65.5, 72.5, 58.0, 66.5, 46.0, 33.5, 81.0, 55.…\n"
     ]
    }
   ],
   "source": [
    "set.seed(2021)\n",
    "\n",
    "data_split <- initial_split(exams_data, prop = 0.75, strata = test_preparation_course)\n",
    "exam_train <- training(data_split)\n",
    "exam_test <- testing(data_split)\n",
    "\n",
    "glimpse(exam_train)"
   ]
  },
  {
   "cell_type": "code",
   "execution_count": 20,
   "metadata": {},
   "outputs": [
    {
     "data": {
      "text/html": [
       "0"
      ],
      "text/latex": [
       "0"
      ],
      "text/markdown": [
       "0"
      ],
      "text/plain": [
       "[1] 0"
      ]
     },
     "metadata": {},
     "output_type": "display_data"
    }
   ],
   "source": [
    "sum(is.na(exam_train))"
   ]
  },
  {
   "cell_type": "markdown",
   "metadata": {},
   "source": [
    "In the cells above, the packages were loaded, the data was read and tidied for easier handling in the future. Additionally, the dataset was split into training and testing data. From the code above, it is apparent that there are no rows with any missing data."
   ]
  },
  {
   "cell_type": "markdown",
   "metadata": {},
   "source": [
    "In this step we will add a recipe that set `test_preparation_course` as our outcome variable and others will be predictors. With `step_upsample()`function to creates a specification of a recipe step that will replicate rows of a data set to make the occurrence of levels in a specific factor level equal."
   ]
  },
  {
   "cell_type": "code",
   "execution_count": 26,
   "metadata": {},
   "outputs": [
    {
     "data": {
      "text/plain": [
       "Data Recipe\n",
       "\n",
       "Inputs:\n",
       "\n",
       "      role #variables\n",
       "   outcome          1\n",
       " predictor          4\n",
       "\n",
       "Training data contained 901 data points and no missing data.\n",
       "\n",
       "Operations:\n",
       "\n",
       "Up-sampling based on test_preparation_course [trained]"
      ]
     },
     "metadata": {},
     "output_type": "display_data"
    },
    {
     "name": "stderr",
     "output_type": "stream",
     "text": [
      "`summarise()` ungrouping output (override with `.groups` argument)\n",
      "\n"
     ]
    },
    {
     "data": {
      "text/html": [
       "<table>\n",
       "<caption>A tibble: 2 × 2</caption>\n",
       "<thead>\n",
       "\t<tr><th scope=col>test_preparation_course</th><th scope=col>n</th></tr>\n",
       "\t<tr><th scope=col>&lt;fct&gt;</th><th scope=col>&lt;int&gt;</th></tr>\n",
       "</thead>\n",
       "<tbody>\n",
       "\t<tr><td>completed</td><td>592</td></tr>\n",
       "\t<tr><td>none     </td><td>592</td></tr>\n",
       "</tbody>\n",
       "</table>\n"
      ],
      "text/latex": [
       "A tibble: 2 × 2\n",
       "\\begin{tabular}{ll}\n",
       " test\\_preparation\\_course & n\\\\\n",
       " <fct> & <int>\\\\\n",
       "\\hline\n",
       "\t completed & 592\\\\\n",
       "\t none      & 592\\\\\n",
       "\\end{tabular}\n"
      ],
      "text/markdown": [
       "\n",
       "A tibble: 2 × 2\n",
       "\n",
       "| test_preparation_course &lt;fct&gt; | n &lt;int&gt; |\n",
       "|---|---|\n",
       "| completed | 592 |\n",
       "| none      | 592 |\n",
       "\n"
      ],
      "text/plain": [
       "  test_preparation_course n  \n",
       "1 completed               592\n",
       "2 none                    592"
      ]
     },
     "metadata": {},
     "output_type": "display_data"
    },
    {
     "data": {
      "text/html": [
       "<table>\n",
       "<caption>A tibble: 1184 × 5</caption>\n",
       "<thead>\n",
       "\t<tr><th scope=col>math_score</th><th scope=col>reading_score</th><th scope=col>writing_score</th><th scope=col>avg_grade</th><th scope=col>test_preparation_course</th></tr>\n",
       "\t<tr><th scope=col>&lt;dbl&gt;</th><th scope=col>&lt;dbl&gt;</th><th scope=col>&lt;dbl&gt;</th><th scope=col>&lt;dbl&gt;</th><th scope=col>&lt;fct&gt;</th></tr>\n",
       "</thead>\n",
       "<tbody>\n",
       "\t<tr><td>46</td><td>60</td><td>64</td><td>55.0</td><td>completed</td></tr>\n",
       "\t<tr><td>33</td><td>45</td><td>52</td><td>42.5</td><td>completed</td></tr>\n",
       "\t<tr><td>77</td><td>84</td><td>85</td><td>81.0</td><td>completed</td></tr>\n",
       "\t<tr><td>72</td><td>82</td><td>86</td><td>79.0</td><td>completed</td></tr>\n",
       "\t<tr><td>42</td><td>38</td><td>47</td><td>44.5</td><td>completed</td></tr>\n",
       "\t<tr><td>⋮</td><td>⋮</td><td>⋮</td><td>⋮</td><td>⋮</td></tr>\n",
       "\t<tr><td>73</td><td>70</td><td>71</td><td>72</td><td>none</td></tr>\n",
       "\t<tr><td>56</td><td>66</td><td>62</td><td>59</td><td>none</td></tr>\n",
       "\t<tr><td>58</td><td>57</td><td>58</td><td>58</td><td>none</td></tr>\n",
       "\t<tr><td>43</td><td>48</td><td>45</td><td>44</td><td>none</td></tr>\n",
       "\t<tr><td>51</td><td>51</td><td>57</td><td>54</td><td>none</td></tr>\n",
       "</tbody>\n",
       "</table>\n"
      ],
      "text/latex": [
       "A tibble: 1184 × 5\n",
       "\\begin{tabular}{lllll}\n",
       " math\\_score & reading\\_score & writing\\_score & avg\\_grade & test\\_preparation\\_course\\\\\n",
       " <dbl> & <dbl> & <dbl> & <dbl> & <fct>\\\\\n",
       "\\hline\n",
       "\t 46 & 60 & 64 & 55.0 & completed\\\\\n",
       "\t 33 & 45 & 52 & 42.5 & completed\\\\\n",
       "\t 77 & 84 & 85 & 81.0 & completed\\\\\n",
       "\t 72 & 82 & 86 & 79.0 & completed\\\\\n",
       "\t 42 & 38 & 47 & 44.5 & completed\\\\\n",
       "\t ⋮ & ⋮ & ⋮ & ⋮ & ⋮\\\\\n",
       "\t 73 & 70 & 71 & 72 & none\\\\\n",
       "\t 56 & 66 & 62 & 59 & none\\\\\n",
       "\t 58 & 57 & 58 & 58 & none\\\\\n",
       "\t 43 & 48 & 45 & 44 & none\\\\\n",
       "\t 51 & 51 & 57 & 54 & none\\\\\n",
       "\\end{tabular}\n"
      ],
      "text/markdown": [
       "\n",
       "A tibble: 1184 × 5\n",
       "\n",
       "| math_score &lt;dbl&gt; | reading_score &lt;dbl&gt; | writing_score &lt;dbl&gt; | avg_grade &lt;dbl&gt; | test_preparation_course &lt;fct&gt; |\n",
       "|---|---|---|---|---|\n",
       "| 46 | 60 | 64 | 55.0 | completed |\n",
       "| 33 | 45 | 52 | 42.5 | completed |\n",
       "| 77 | 84 | 85 | 81.0 | completed |\n",
       "| 72 | 82 | 86 | 79.0 | completed |\n",
       "| 42 | 38 | 47 | 44.5 | completed |\n",
       "| ⋮ | ⋮ | ⋮ | ⋮ | ⋮ |\n",
       "| 73 | 70 | 71 | 72 | none |\n",
       "| 56 | 66 | 62 | 59 | none |\n",
       "| 58 | 57 | 58 | 58 | none |\n",
       "| 43 | 48 | 45 | 44 | none |\n",
       "| 51 | 51 | 57 | 54 | none |\n",
       "\n"
      ],
      "text/plain": [
       "     math_score reading_score writing_score avg_grade test_preparation_course\n",
       "1    46         60            64            55.0      completed              \n",
       "2    33         45            52            42.5      completed              \n",
       "3    77         84            85            81.0      completed              \n",
       "4    72         82            86            79.0      completed              \n",
       "5    42         38            47            44.5      completed              \n",
       "⋮    ⋮          ⋮             ⋮             ⋮         ⋮                      \n",
       "1180 73         70            71            72        none                   \n",
       "1181 56         66            62            59        none                   \n",
       "1182 58         57            58            58        none                   \n",
       "1183 43         48            45            44        none                   \n",
       "1184 51         51            57            54        none                   "
      ]
     },
     "metadata": {},
     "output_type": "display_data"
    }
   ],
   "source": [
    "exam_recipe <- recipe(test_preparation_course ~ ., data = exam_train)%>% \n",
    "  step_upsample(test_preparation_course, over_ratio = 1, skip = FALSE)%>%\n",
    "  prep()\n",
    "exam_recipe\n",
    "\n",
    "upsampled_exam <- bake(exam_recipe, exam_train)\n",
    "\n",
    "upsampled_exam %>%\n",
    "  group_by(test_preparation_course) %>%\n",
    "  summarize(n = n())\n",
    "upsampled_exam"
   ]
  },
  {
   "cell_type": "markdown",
   "metadata": {},
   "source": [
    "A class imbalance was present in our data. Students who did not take the test preparation course were more common than those who did. For this reason, the data was balanced using the code above."
   ]
  },
  {
   "cell_type": "markdown",
   "metadata": {},
   "source": [
    "In this step we will calculate two groups's average score for each subject, and average score. Then we use `summary()` function to produce result summaries of each column, after that we use `do.call()`function to constructs and executes a function call from exam_train and summary. `cbind` is combine objects by rows, and `lapply()` function is apply a function over a Vector."
   ]
  },
  {
   "cell_type": "code",
   "execution_count": 34,
   "metadata": {},
   "outputs": [
    {
     "name": "stderr",
     "output_type": "stream",
     "text": [
      "`summarise()` ungrouping output (override with `.groups` argument)\n",
      "\n"
     ]
    },
    {
     "data": {
      "text/html": [
       "<table>\n",
       "<caption>A tibble: 2 × 5</caption>\n",
       "<thead>\n",
       "\t<tr><th scope=col>test_preparation_course</th><th scope=col>math_score_average</th><th scope=col>writing_score_average</th><th scope=col>reading_score_average</th><th scope=col>total_average_score</th></tr>\n",
       "\t<tr><th scope=col>&lt;fct&gt;</th><th scope=col>&lt;dbl&gt;</th><th scope=col>&lt;dbl&gt;</th><th scope=col>&lt;dbl&gt;</th><th scope=col>&lt;dbl&gt;</th></tr>\n",
       "</thead>\n",
       "<tbody>\n",
       "\t<tr><td>completed</td><td>70.89644</td><td>75.24272</td><td>74.23301</td><td>73.06958</td></tr>\n",
       "\t<tr><td>none     </td><td>64.98480</td><td>64.67399</td><td>66.88514</td><td>64.82939</td></tr>\n",
       "</tbody>\n",
       "</table>\n"
      ],
      "text/latex": [
       "A tibble: 2 × 5\n",
       "\\begin{tabular}{lllll}\n",
       " test\\_preparation\\_course & math\\_score\\_average & writing\\_score\\_average & reading\\_score\\_average & total\\_average\\_score\\\\\n",
       " <fct> & <dbl> & <dbl> & <dbl> & <dbl>\\\\\n",
       "\\hline\n",
       "\t completed & 70.89644 & 75.24272 & 74.23301 & 73.06958\\\\\n",
       "\t none      & 64.98480 & 64.67399 & 66.88514 & 64.82939\\\\\n",
       "\\end{tabular}\n"
      ],
      "text/markdown": [
       "\n",
       "A tibble: 2 × 5\n",
       "\n",
       "| test_preparation_course &lt;fct&gt; | math_score_average &lt;dbl&gt; | writing_score_average &lt;dbl&gt; | reading_score_average &lt;dbl&gt; | total_average_score &lt;dbl&gt; |\n",
       "|---|---|---|---|---|\n",
       "| completed | 70.89644 | 75.24272 | 74.23301 | 73.06958 |\n",
       "| none      | 64.98480 | 64.67399 | 66.88514 | 64.82939 |\n",
       "\n"
      ],
      "text/plain": [
       "  test_preparation_course math_score_average writing_score_average\n",
       "1 completed               70.89644           75.24272             \n",
       "2 none                    64.98480           64.67399             \n",
       "  reading_score_average total_average_score\n",
       "1 74.23301              73.06958           \n",
       "2 66.88514              64.82939           "
      ]
     },
     "metadata": {},
     "output_type": "display_data"
    },
    {
     "name": "stderr",
     "output_type": "stream",
     "text": [
      "`summarise()` ungrouping output (override with `.groups` argument)\n",
      "\n"
     ]
    },
    {
     "data": {
      "text/html": [
       "<table>\n",
       "<caption>A tibble: 2 × 3</caption>\n",
       "<thead>\n",
       "\t<tr><th scope=col>test_preparation_course</th><th scope=col>count</th><th scope=col>percentage</th></tr>\n",
       "\t<tr><th scope=col>&lt;fct&gt;</th><th scope=col>&lt;int&gt;</th><th scope=col>&lt;dbl&gt;</th></tr>\n",
       "</thead>\n",
       "<tbody>\n",
       "\t<tr><td>completed</td><td>309</td><td>34.29523</td></tr>\n",
       "\t<tr><td>none     </td><td>592</td><td>65.70477</td></tr>\n",
       "</tbody>\n",
       "</table>\n"
      ],
      "text/latex": [
       "A tibble: 2 × 3\n",
       "\\begin{tabular}{lll}\n",
       " test\\_preparation\\_course & count & percentage\\\\\n",
       " <fct> & <int> & <dbl>\\\\\n",
       "\\hline\n",
       "\t completed & 309 & 34.29523\\\\\n",
       "\t none      & 592 & 65.70477\\\\\n",
       "\\end{tabular}\n"
      ],
      "text/markdown": [
       "\n",
       "A tibble: 2 × 3\n",
       "\n",
       "| test_preparation_course &lt;fct&gt; | count &lt;int&gt; | percentage &lt;dbl&gt; |\n",
       "|---|---|---|\n",
       "| completed | 309 | 34.29523 |\n",
       "| none      | 592 | 65.70477 |\n",
       "\n"
      ],
      "text/plain": [
       "  test_preparation_course count percentage\n",
       "1 completed               309   34.29523  \n",
       "2 none                    592   65.70477  "
      ]
     },
     "metadata": {},
     "output_type": "display_data"
    },
    {
     "data": {
      "text/html": [
       "901"
      ],
      "text/latex": [
       "901"
      ],
      "text/markdown": [
       "901"
      ],
      "text/plain": [
       "[1] 901"
      ]
     },
     "metadata": {},
     "output_type": "display_data"
    },
    {
     "data": {
      "text/plain": [
       " test_preparation_course   math_score     reading_score    writing_score  \n",
       " completed:309           Min.   : 14.00   Min.   : 15.00   Min.   : 13.0  \n",
       " none     :592           1st Qu.: 56.00   1st Qu.: 59.00   1st Qu.: 58.0  \n",
       "                         Median : 67.00   Median : 69.00   Median : 68.0  \n",
       "                         Mean   : 67.01   Mean   : 69.41   Mean   : 68.3  \n",
       "                         3rd Qu.: 78.00   3rd Qu.: 80.00   3rd Qu.: 79.0  \n",
       "                         Max.   :100.00   Max.   :100.00   Max.   :100.0  \n",
       "   avg_grade     \n",
       " Min.   : 16.50  \n",
       " 1st Qu.: 57.50  \n",
       " Median : 67.50  \n",
       " Mean   : 67.66  \n",
       " 3rd Qu.: 79.00  \n",
       " Max.   :100.00  "
      ]
     },
     "metadata": {},
     "output_type": "display_data"
    },
    {
     "data": {
      "text/html": [
       "<table>\n",
       "<caption>A matrix: 6 × 5 of type dbl</caption>\n",
       "<thead>\n",
       "\t<tr><th></th><th scope=col>test_preparation_course</th><th scope=col>math_score</th><th scope=col>reading_score</th><th scope=col>writing_score</th><th scope=col>avg_grade</th></tr>\n",
       "</thead>\n",
       "<tbody>\n",
       "\t<tr><th scope=row>Min.</th><td>309</td><td> 14.00000</td><td> 15.00000</td><td> 13.00000</td><td> 16.50000</td></tr>\n",
       "\t<tr><th scope=row>1st Qu.</th><td>592</td><td> 56.00000</td><td> 59.00000</td><td> 58.00000</td><td> 57.50000</td></tr>\n",
       "\t<tr><th scope=row>Median</th><td>309</td><td> 67.00000</td><td> 69.00000</td><td> 68.00000</td><td> 67.50000</td></tr>\n",
       "\t<tr><th scope=row>Mean</th><td>592</td><td> 67.01221</td><td> 69.40511</td><td> 68.29856</td><td> 67.65538</td></tr>\n",
       "\t<tr><th scope=row>3rd Qu.</th><td>309</td><td> 78.00000</td><td> 80.00000</td><td> 79.00000</td><td> 79.00000</td></tr>\n",
       "\t<tr><th scope=row>Max.</th><td>592</td><td>100.00000</td><td>100.00000</td><td>100.00000</td><td>100.00000</td></tr>\n",
       "</tbody>\n",
       "</table>\n"
      ],
      "text/latex": [
       "A matrix: 6 × 5 of type dbl\n",
       "\\begin{tabular}{r|lllll}\n",
       "  & test\\_preparation\\_course & math\\_score & reading\\_score & writing\\_score & avg\\_grade\\\\\n",
       "\\hline\n",
       "\tMin. & 309 &  14.00000 &  15.00000 &  13.00000 &  16.50000\\\\\n",
       "\t1st Qu. & 592 &  56.00000 &  59.00000 &  58.00000 &  57.50000\\\\\n",
       "\tMedian & 309 &  67.00000 &  69.00000 &  68.00000 &  67.50000\\\\\n",
       "\tMean & 592 &  67.01221 &  69.40511 &  68.29856 &  67.65538\\\\\n",
       "\t3rd Qu. & 309 &  78.00000 &  80.00000 &  79.00000 &  79.00000\\\\\n",
       "\tMax. & 592 & 100.00000 & 100.00000 & 100.00000 & 100.00000\\\\\n",
       "\\end{tabular}\n"
      ],
      "text/markdown": [
       "\n",
       "A matrix: 6 × 5 of type dbl\n",
       "\n",
       "| <!--/--> | test_preparation_course | math_score | reading_score | writing_score | avg_grade |\n",
       "|---|---|---|---|---|---|\n",
       "| Min. | 309 |  14.00000 |  15.00000 |  13.00000 |  16.50000 |\n",
       "| 1st Qu. | 592 |  56.00000 |  59.00000 |  58.00000 |  57.50000 |\n",
       "| Median | 309 |  67.00000 |  69.00000 |  68.00000 |  67.50000 |\n",
       "| Mean | 592 |  67.01221 |  69.40511 |  68.29856 |  67.65538 |\n",
       "| 3rd Qu. | 309 |  78.00000 |  80.00000 |  79.00000 |  79.00000 |\n",
       "| Max. | 592 | 100.00000 | 100.00000 | 100.00000 | 100.00000 |\n",
       "\n"
      ],
      "text/plain": [
       "        test_preparation_course math_score reading_score writing_score\n",
       "Min.    309                      14.00000   15.00000      13.00000    \n",
       "1st Qu. 592                      56.00000   59.00000      58.00000    \n",
       "Median  309                      67.00000   69.00000      68.00000    \n",
       "Mean    592                      67.01221   69.40511      68.29856    \n",
       "3rd Qu. 309                      78.00000   80.00000      79.00000    \n",
       "Max.    592                     100.00000  100.00000     100.00000    \n",
       "        avg_grade\n",
       "Min.     16.50000\n",
       "1st Qu.  57.50000\n",
       "Median   67.50000\n",
       "Mean     67.65538\n",
       "3rd Qu.  79.00000\n",
       "Max.    100.00000"
      ]
     },
     "metadata": {},
     "output_type": "display_data"
    }
   ],
   "source": [
    "predictor_means <- exam_train%>%\n",
    "    group_by(test_preparation_course)%>%\n",
    "    summarize(\n",
    "        math_score_average=mean(math_score),\n",
    "        writing_score_average=mean(writing_score),\n",
    "        reading_score_average=mean(reading_score),\n",
    "        total_average_score=mean(avg_grade)\n",
    "    )\n",
    "predictor_means\n",
    "\n",
    "num_obs <- nrow(exam_train)\n",
    "exam_train %>%\n",
    "  group_by(test_preparation_course) %>%\n",
    "  summarize(\n",
    "    count = n(),\n",
    "    percentage = n() / num_obs * 100\n",
    "  )\n",
    "num_obs\n",
    "summary(exam_train)\n",
    "do.call(cbind, lapply(exam_train, summary))"
   ]
  },
  {
   "cell_type": "code",
   "execution_count": null,
   "metadata": {},
   "outputs": [],
   "source": []
  },
  {
   "cell_type": "code",
   "execution_count": null,
   "metadata": {},
   "outputs": [],
   "source": []
  }
 ],
 "metadata": {
  "kernelspec": {
   "display_name": "R",
   "language": "R",
   "name": "ir"
  },
  "language_info": {
   "codemirror_mode": "r",
   "file_extension": ".r",
   "mimetype": "text/x-r-source",
   "name": "R",
   "pygments_lexer": "r",
   "version": "4.0.0"
  }
 },
 "nbformat": 4,
 "nbformat_minor": 4
}
